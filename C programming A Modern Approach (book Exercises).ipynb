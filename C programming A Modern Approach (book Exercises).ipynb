{
 "cells": [
  {
   "cell_type": "code",
   "execution_count": 1,
   "metadata": {},
   "outputs": [],
   "source": [
    "def write_and_compile():\n",
    "    !rm -f c_program\n",
    "    with open('c_program.c', 'w') as file:\n",
    "        file.write(c_program)\n",
    "    !gcc -o c_program c_program.c\n",
    "    !./c_program"
   ]
  },
  {
   "cell_type": "markdown",
   "metadata": {},
   "source": [
    "# Q#1: "
   ]
  },
  {
   "cell_type": "code",
   "execution_count": null,
   "metadata": {},
   "outputs": [],
   "source": [
    "### create and run program:\n",
    "#include <stdio.h>\n",
    "# int main(void){\n",
    "#     printf(\"hello, world\\n\");\n",
    "# }\n",
    "# do you get a warning massage from the compiler? if so, what's need to make it go away"
   ]
  },
  {
   "cell_type": "code",
   "execution_count": null,
   "metadata": {},
   "outputs": [],
   "source": [
    "c_program = \"\"\"\n",
    "#include <stdio.h>\n",
    "int main(void){\n",
    "    printf(\"hello, world\\n\");\n",
    "}\n",
    "\"\"\"\n",
    "write_and_compile()"
   ]
  },
  {
   "cell_type": "code",
   "execution_count": null,
   "metadata": {},
   "outputs": [],
   "source": [
    "# The error becouse i use <\\n> in the string, which i can not do, se i have to remove this <\\n>\n",
    "c_program = \"\"\"\n",
    "#include <stdio.h>\n",
    "int main(void){\n",
    "    printf(\"hello, world\");\n",
    "}\n",
    "\"\"\"\n",
    "write_and_compile()"
   ]
  },
  {
   "cell_type": "markdown",
   "metadata": {},
   "source": [
    "<img src=\"chapter-2-excersices/2.png\">"
   ]
  },
  {
   "cell_type": "code",
   "execution_count": null,
   "metadata": {},
   "outputs": [],
   "source": [
    "# directives: #include <stdio.h>\n",
    "# statements: printf, return\n",
    "c_program = \"\"\"\n",
    "#include <stdio.h>\n",
    "int main(void){\n",
    "    printf(\"Parkinson's Law:\\\\nWork expands so as to \");\n",
    "    printf(\"fill the time\\\\n\");\n",
    "    printf(\"available for its completion\\\\n\");\n",
    "    return 0;\n",
    "}\n",
    "\"\"\"\n",
    "write_and_compile()"
   ]
  },
  {
   "cell_type": "markdown",
   "metadata": {},
   "source": [
    "<img src=\"chapter-2-excersices/3.png\">"
   ]
  },
  {
   "cell_type": "code",
   "execution_count": null,
   "metadata": {},
   "outputs": [],
   "source": [
    "c_program = \"\"\"\n",
    "#include <stdio.h>\n",
    "int main(void){\n",
    "    int height = 8;\n",
    "    int length = 12;\n",
    "    int width = 10;\n",
    "    int volume = height * length * width;\n",
    "    printf(\"Dimensions: %dx%dx%d\\\\n\", length, width, height);\n",
    "    printf(\"Volume (cubic inches): %d\\\\n\", volume);\n",
    "    printf(\"Dimensional weight (pounds): %d\\\\n\", (volume + 165) / 166);\n",
    "    \n",
    "    return 0;\n",
    "}\n",
    "\"\"\"\n",
    "write_and_compile()"
   ]
  },
  {
   "cell_type": "markdown",
   "metadata": {},
   "source": [
    "<img src=\"chapter-2-excersices/4.png\">"
   ]
  },
  {
   "cell_type": "code",
   "execution_count": null,
   "metadata": {},
   "outputs": [],
   "source": [
    "c_program = \"\"\"\n",
    "#include <stdio.h>\n",
    "int main(void){\n",
    "    int int_1, int_2, int_3;\n",
    "    float f_1, f_2, f_3;\n",
    "    printf(\"%d      %d      %d\\\\n\", int_1, int_2, int_3);\n",
    "    printf(\"%f      %f      %f\\\\n\", f_1, f_2, f_3);\n",
    "    return 0;\n",
    "}\n",
    "\"\"\"\n",
    "write_and_compile()"
   ]
  },
  {
   "cell_type": "markdown",
   "metadata": {},
   "source": [
    "<img src=\"chapter-2-excersices/5.png\">"
   ]
  },
  {
   "cell_type": "markdown",
   "metadata": {},
   "source": [
    "# <font color='red'>a</font>"
   ]
  },
  {
   "cell_type": "markdown",
   "metadata": {},
   "source": [
    "<img src=\"chapter-2-excersices/6.png\">"
   ]
  },
  {
   "cell_type": "markdown",
   "metadata": {},
   "source": [
    "# <font color='red'>A- we need underscore to easy to understand variable name, and this is obtained by single under score, so we don'd need one more.</font>"
   ]
  },
  {
   "cell_type": "markdown",
   "metadata": {},
   "source": [
    "<img src=\"chapter-2-excersices/7.png\">"
   ]
  },
  {
   "cell_type": "markdown",
   "metadata": {},
   "source": [
    "# <font color='red'>a, b, e</font>"
   ]
  },
  {
   "cell_type": "markdown",
   "metadata": {},
   "source": [
    "<img src=\"chapter-2-excersices/8.png\">"
   ]
  },
  {
   "cell_type": "markdown",
   "metadata": {},
   "source": [
    "<img src=\"chapter-2-excersices/9.png\">"
   ]
  },
  {
   "cell_type": "markdown",
   "metadata": {},
   "source": [
    "<img src=\"chapter-2-excersices/10.png\">"
   ]
  },
  {
   "cell_type": "markdown",
   "metadata": {},
   "source": [
    "# <center><font color='red' size=15>Programming Projects</font><font size=4> Chapter 2</font>"
   ]
  },
  {
   "cell_type": "markdown",
   "metadata": {},
   "source": [
    "<img src=\"chapter-2-excersices/11.png\">"
   ]
  },
  {
   "cell_type": "code",
   "execution_count": null,
   "metadata": {},
   "outputs": [],
   "source": [
    "c_program = \"\"\"\n",
    "#include <stdio.h>\n",
    "int main(void){\n",
    "    char x='*';\n",
    "    printf(\"       %c\\\\n\", x);\n",
    "    printf(\"      %c\\\\n\", x);\n",
    "    printf(\"     %c\\\\n\", x);\n",
    "    printf(\"%c   %c\\\\n\", x, x);\n",
    "    printf(\" %c %c\\\\n\", x, x);\n",
    "    printf(\"  %c \\\\n\", x);\n",
    "    return 0;\n",
    "}\n",
    "\"\"\"\n",
    "write_and_compile()"
   ]
  },
  {
   "cell_type": "markdown",
   "metadata": {},
   "source": [
    "<img src=\"chapter-2-excersices/12.png\">"
   ]
  },
  {
   "cell_type": "code",
   "execution_count": null,
   "metadata": {},
   "outputs": [],
   "source": [
    "c_program = \"\"\"\n",
    "#include <stdio.h>\n",
    "int main(void){\n",
    "    int radius=10;\n",
    "    float pie=3.14;\n",
    "    float volume = (4.0f/3.0f)*pie*(radius*radius*radius);\n",
    "    printf(\"Volume: %f\\\\n\", volume);\n",
    "    return 0;\n",
    "}\n",
    "\"\"\"\n",
    "write_and_compile()"
   ]
  },
  {
   "cell_type": "markdown",
   "metadata": {},
   "source": [
    "<img src=\"chapter-2-excersices/13.png\">"
   ]
  },
  {
   "cell_type": "code",
   "execution_count": null,
   "metadata": {},
   "outputs": [],
   "source": [
    "# This program is ok, but we can't take user input here\n",
    "c_program = \"\"\"\n",
    "#include <stdio.h>\n",
    "int main(void){\n",
    "    int radius;\n",
    "    printf(\"Enter radius (in integer form)\\\\n\");\n",
    "    scanf(\"%d\", &radius);\n",
    "    float pie=3.14;\n",
    "    float volume = (4.0f/3.0f)*pie*(radius*radius*radius);\n",
    "    printf(\"Volume: %f\\\\n\", volume);\n",
    "    return 0;\n",
    "}\n",
    "\"\"\"\n",
    "write_and_compile()"
   ]
  },
  {
   "cell_type": "markdown",
   "metadata": {},
   "source": [
    "<img src=\"chapter-2-excersices/14.png\">"
   ]
  },
  {
   "cell_type": "code",
   "execution_count": null,
   "metadata": {},
   "outputs": [],
   "source": [
    "# This program is ok, but we can't take user input here\n",
    "c_program = \"\"\"\n",
    "#include <stdio.h>\n",
    "int main(void){\n",
    "    float amount;\n",
    "    float with_tax;\n",
    "    printf(\"Enter Amount\\n\");\n",
    "    scanf(\"%f\", &amount);\n",
    "    printf(\"With tax added: %f\\n\", amount * 1.05);\n",
    "    return 0;\n",
    "}\n",
    "\"\"\"\n",
    "write_and_compile()"
   ]
  },
  {
   "cell_type": "markdown",
   "metadata": {},
   "source": [
    "<img src=\"chapter-2-excersices/15.png\">"
   ]
  },
  {
   "cell_type": "code",
   "execution_count": null,
   "metadata": {},
   "outputs": [],
   "source": [
    "# This program is ok, but we can't take user input here\n",
    "c_program = \"\"\"\n",
    "#include <stdio.h>\n",
    "int main(void){\n",
    "    int x;\n",
    "    printf(\"Enter a number\\n\");\n",
    "    scanf(\"%d\", &x);\n",
    "    printf(\"Polynomial: %d\\n\", 3*(x*x*x*x*x)+ 2*(x*x*x*x) - 5*(x*x*x) - (x*x) + (7*x) -6);\n",
    "    return 0;\n",
    "}\n",
    "\"\"\"\n",
    "write_and_compile()"
   ]
  },
  {
   "cell_type": "markdown",
   "metadata": {},
   "source": [
    "<img src=\"chapter-2-excersices/16.png\">"
   ]
  },
  {
   "cell_type": "code",
   "execution_count": null,
   "metadata": {},
   "outputs": [],
   "source": [
    "# This program is ok, but we can't take user input here\n",
    "c_program = \"\"\"\n",
    "#include <stdio.h>\n",
    "int main(void){\n",
    "    int x;\n",
    "    printf(\"Enter a number\\n\");\n",
    "    scanf(\"%d\", &x);\n",
    "    printf(\"Polynomial: %d\\n\", ((((3*x + 2)*x-5)*x-1)*x+7)*x-6);\n",
    "    return 0;\n",
    "}\n",
    "\"\"\"\n",
    "write_and_compile()"
   ]
  },
  {
   "cell_type": "markdown",
   "metadata": {},
   "source": [
    "<img src=\"chapter-2-excersices/17.png\">\n",
    "<img src=\"chapter-2-excersices/18.png\">"
   ]
  },
  {
   "cell_type": "code",
   "execution_count": 34,
   "metadata": {},
   "outputs": [],
   "source": [
    "# This program is ok, but we can't take user input here\n",
    "c_program = \"\"\"\n",
    "#include <stdio.h>\n",
    "int main(void){\n",
    "    int dollers, twentys,balance, ten, five, one;\n",
    "    printf(\"Enter a number:       \");\n",
    "    scanf(\"%d\", &dollers);\n",
    "    twentys = (dollers - (dollers % 20)) / 20;\n",
    "    balance = dollers - (twentys * 20);\n",
    "    ten = (balance - (balance % 10)) / 10;\n",
    "    balance = balance - (ten * 10);\n",
    "    five = (balance - (balance % 5)) / 5;\n",
    "    balance = balance - (five * 5);\n",
    "    one = (balance - (balance % 1)) / 1;\n",
    "    balance = balance - (one * 1);\n",
    "    printf(\"$20 Bills:     %d\\n\", twentys);\n",
    "    printf(\"$10 Bills:     %d\\n\", ten);\n",
    "    printf(\"$5 Bills:     %d\\n\", five);\n",
    "    printf(\"$1 Bills:     %d\\n\", one);\n",
    "    return 0;\n",
    "}\n",
    "\"\"\"\n",
    "# write_and_compile()"
   ]
  },
  {
   "cell_type": "markdown",
   "metadata": {},
   "source": [
    "<img src=\"chapter-2-excersices/19.png\">"
   ]
  },
  {
   "cell_type": "code",
   "execution_count": null,
   "metadata": {},
   "outputs": [],
   "source": [
    "# This program is ok, but we can't take user input here\n",
    "c_program = \"\"\"\n",
    "#include <stdio.h>\n",
    "int main(void){\n",
    "    float loan, interest_rate, monthly_payment, f_m, s_m, t_m;\n",
    "    printf(\"Enter amount of loan:\\n\");\n",
    "    scanf(\"%f\", &loan);\n",
    "    printf(\"Enter interest rate:\\n\");\n",
    "    scanf(\"%f\", &interest_rate);\n",
    "    interest_rate = interest_rate/100/12;\n",
    "    printf(\"Enter monthly payment:\\n\");\n",
    "    scanf(\"%f\", &monthly_payment);\n",
    "    f_m = loan + (loan * interest_rate) - monthly_payment;\n",
    "    s_m = f_m + (f_m * interest_rate) - monthly_payment;\n",
    "    t_m = s_m + (s_m * interest_rate) - monthly_payment;\n",
    "    printf(\"Balance remaining after first payment: $%.2f\\n\", f_m);\n",
    "    printf(\"Balance remaining after second payment: $%.2f\\n\", s_m);\n",
    "    printf(\"Balance remaining after third payment: $%.2f\\n\", t_m);\n",
    "    return 0;\n",
    "}\n",
    "\"\"\"\n",
    "# write_and_compile()"
   ]
  },
  {
   "cell_type": "markdown",
   "metadata": {},
   "source": [
    "# <center><font color='red' size=15>Chapter 3</font>"
   ]
  },
  {
   "cell_type": "markdown",
   "metadata": {},
   "source": [
    "<img src=\"chapter-3-excersices/image1.png\">"
   ]
  },
  {
   "cell_type": "code",
   "execution_count": 39,
   "metadata": {},
   "outputs": [
    {
     "name": "stdout",
     "output_type": "stream",
     "text": [
      "    86, 1040\n",
      " 3.02530e+01\n",
      "83.1620\n",
      "1e-06 \n"
     ]
    }
   ],
   "source": [
    "# This program is ok, but we can't take user input here\n",
    "c_program = \"\"\"\n",
    "#include <stdio.h>\n",
    "int main(void){\n",
    "    printf(\"%6d, %4d\\\\n\", 86, 1040); // <    86, 1040> // pehly ki lenght 6 ho gi, to q k <86> me to srif 2 digits hen to 86 sy pehly 4 spaces aa jayen gy. or second me 4 digit print hon gy, q k 1040 me srif 4 hi digits hen to wo 4 hi pring ho gay \n",
    "    printf(\"%12.5e\\\\n\", 30.253);     // < 3.02530e+01> // total 12 elements pring ho gy, or 30.253 ko exponent kar k print karna h, jis me dot <.> k bar 5 desimals hon. ye total 11 elements hen, or hame 12 print karny hen to 1 while space starting me lag jay ga.\n",
    "    printf(\"%.4f\\\\n\", 83.162);       // <83.1620>      // float print ho ga, jis me point k baad 4 decimal hon gy, to extra <0> aakhar me lag gya.\n",
    "    printf(\"%-6.2g\\\\n\", .0000009979); \n",
    "    return 0;\n",
    "}\n",
    "\"\"\"\n",
    "write_and_compile()"
   ]
  },
  {
   "cell_type": "markdown",
   "metadata": {},
   "source": [
    "<img src=\"chapter-3-excersices/image2.png\">"
   ]
  },
  {
   "cell_type": "code",
   "execution_count": 66,
   "metadata": {},
   "outputs": [
    {
     "name": "stdout",
     "output_type": "stream",
     "text": [
      "a:----3.3e+00\n",
      "b:----3.252000e+00\n",
      "c:----   3.252\n",
      "d:----3       \n"
     ]
    }
   ],
   "source": [
    "c_program = \"\"\"\n",
    "#include <stdio.h>\n",
    "int main(void){\n",
    "    float x=3.252;\n",
    "    printf(\"%c:----%6.1e\\\\n\",'a', x);\n",
    "    printf(\"%c:----%-10.6e\\\\n\",'b', x);\n",
    "    printf(\"%c:----%8.3f\\\\n\", 'c',x);\n",
    "    printf(\"%c:----%-8.0f\\\\n\", 'd', x);\n",
    "    }\n",
    "\"\"\"\n",
    "write_and_compile()"
   ]
  },
  {
   "cell_type": "markdown",
   "metadata": {},
   "source": [
    "<img src=\"chapter-3-excersices/image3.png\">"
   ]
  },
  {
   "cell_type": "code",
   "execution_count": 78,
   "metadata": {},
   "outputs": [],
   "source": [
    "# all pairs are the same, except c, when we use space after <%f> the user should inter one more value\n",
    "# This program is ok, but we can't take user input here\n",
    "c_program = \"\"\"\n",
    "# include <stdio.h>\n",
    "int main(void){\n",
    "    int a1, a2, b11, b12, b13, b21, b22, b23;\n",
    "    float c1, c2, d11, d12, d21, d22;\n",
    "    printf(\"Enter an integer:     \");\n",
    "    scanf(\"%d\", &a1);\n",
    "    printf(\"Enter an integer:     \");\n",
    "    scanf(\" %d\", &a2);\n",
    "    if (a1 == a2)\n",
    "    {\n",
    "    \tprintf(\"Bothe are same\\n\\n\\n\");\n",
    "    }\n",
    "\t    printf(\"Enter 3 numbers saperated by minus-sign:        \");\n",
    "\t    scanf(\"%d-%d-%d\", &b11, &b12, &b13);\n",
    "\t\tprintf(\"Enter same previaus 3 numbers          :        \");\n",
    "\t    scanf(\"%d -%d -%d\", &b21, &b22, &b23);\n",
    "    if (b11 == b21 & b12 == b22 & b13 == b23)\n",
    "    {\n",
    "    \tprintf(\"All paires are same\\n\\n\\n\");\n",
    "    }\n",
    "    printf(\"Enter first float number :        \");\n",
    "    scanf(\"%f\", &c1);\n",
    "    printf(\"Enter second float number:        \");\n",
    "    scanf(\"%f \", &c2);\n",
    "    if (c1 == c2)\n",
    "    {\n",
    "    \tprintf(\"Both floats are same\\n\\n\\n\");\n",
    "    }\n",
    "    printf(\"Enter two floats, saperated by comma:           \");\n",
    "    scanf(\"%f,%f\", &d11, &d12);\n",
    "\tprintf(\"Please Repeat previaus two floats   :           \");\n",
    "    scanf(\"%f, %f\", &d21, &d22);\n",
    "    if (d11 == d21 & d12 == d22)\n",
    "    {\n",
    "    \tprintf(\"Boths pairs are same\");\n",
    "    }    \n",
    "\treturn 0;\n",
    "}\n",
    "\"\"\"\n",
    "# write_and_compile()"
   ]
  },
  {
   "cell_type": "markdown",
   "metadata": {},
   "source": [
    "<img src=\"chapter-3-excersices/image4.png\">"
   ]
  },
  {
   "cell_type": "code",
   "execution_count": null,
   "metadata": {},
   "outputs": [],
   "source": [
    "# we start from left, since first var is int, we assign 10 to <i> (since int can not contain floating \n",
    "# point).\n",
    "# in the next step we assign <.3> to x (sine float can not contain space).\n",
    "# in the last we assign 5 to j (since int can not cantain space).\n",
    "# now we have one more value but no variable which we assign that value, so our last value is lost)\n",
    "\n",
    "# This program is ok, but we can't take user input here\n",
    "c_program = \"\"\"\n",
    "# include <stdio.h>\n",
    "int main(void){\n",
    "    int i, j;\n",
    "    float x;\n",
    "    scanf(\"%d%f%d\", &i,&x,&j);\n",
    "    printf(\"%d\\n\", i);\n",
    "    printf(\"%f\\n\", x);\n",
    "    printf(\"%d\\n\", j);\n",
    "    return 0;\n",
    "}\n",
    "\"\"\"\n",
    "# write_and_compile()"
   ]
  },
  {
   "cell_type": "markdown",
   "metadata": {},
   "source": [
    "<img src=\"chapter-3-excersices/image5.png\">"
   ]
  },
  {
   "cell_type": "code",
   "execution_count": null,
   "metadata": {},
   "outputs": [],
   "source": [
    "# our first variable is float, so we assing it as much as possible values, beggining from left, <1> is can assing to float, we go further and found <2> so <12> can assign to float variable, next we find <.> which is also appropreate for float, next we find <3>, so float can contain <12.3> value, we go further and found white space, unfornutatily, float var can not cantain space, so we stop here and assing <12.3> value for our float variable which is x.\n",
    "# in the next step, we need to assing value for our int variable, so we begging with white space, since it is first value so we ignore it, and move further, the second value is <4> so int var can cantain <4>, we move further and foud <5>, so int var can cantain <45>, we move further and found <.>, unfornutaily int variable can not cantain <.> so we stop here, and assing <45> value to our int variable which is i.\n",
    "# in the last step, we have one variable which is float type, we assing it mush value as possible, so we beggin from <.>, so float can contain <.> (if we assing . to float, this means we assing it 0.00000), we move further and found <6> so float can contain <.6>, we move further and fount space, unfornutaly, float var can not cantrain white space, so we stop here, now have more values <789> but we dont have variable(s) to assing these values, so we stop here, and ignore these values.\n",
    "\n",
    "\n",
    "\n",
    "# This program is ok, but we can't take user input here\n",
    "c_program = \"\"\"\n",
    "# include <stdio.h>\n",
    "int main(void){\n",
    "    float x,y;\n",
    "    int i;\n",
    "    scanf(\"%f%d%f\",&x, &i, &y);\n",
    "    printf(\"\\nx: %f\\ni: %d\\ny: %f\\n\",x, i, y);\n",
    "    return 0;\n",
    "}\n",
    "\"\"\"\n",
    "# write_and_compile()"
   ]
  },
  {
   "cell_type": "markdown",
   "metadata": {},
   "source": [
    "<img src=\"chapter-3-excersices/image6.png\">"
   ]
  },
  {
   "cell_type": "code",
   "execution_count": 80,
   "metadata": {},
   "outputs": [],
   "source": [
    "# This program is ok, but we can't take user input here\n",
    "c_program = \"\"\"\n",
    "/* Adds two fractions */\n",
    "# include <stdio.h>\n",
    "int main(void){\n",
    "\tint num1, denom1, num2, denom2, result_num, result_denom;\n",
    "\tprintf(\"Enter first fraction: \");\n",
    "\tscanf(\"%d/%d\", &num1, &denom1); // in this line we change <\"%d/%d\"> to \"%d / %d\"; so user can enter space after slash.\n",
    "\n",
    "\tprintf(\"Enter second fraction: \");\n",
    "\tscanf(\"%d/%d\", &num2, &denom2); // in this line we change <\"%d/%d\"> to \"%d / %d\"; so user can enter space after slash.\n",
    " \n",
    "\tresult_num = num1 * denom2 + num2 * denom1;\n",
    "\tresult_denom = denom1 * denom2;\n",
    "\tprintf(\"The sum is %d/%d\\n\", result_num, result_denom);\n",
    "\treturn 0;\n",
    "}\"\"\"\n",
    "# write_and_compile()"
   ]
  },
  {
   "cell_type": "markdown",
   "metadata": {},
   "source": [
    "# <center><font color='red' size=15>Programming Projects</font><font size=4> Chapter 3</font>"
   ]
  },
  {
   "cell_type": "markdown",
   "metadata": {},
   "source": [
    "<img src=\"chapter-3-excersices/imagep1.png\">"
   ]
  },
  {
   "cell_type": "code",
   "execution_count": 81,
   "metadata": {},
   "outputs": [],
   "source": [
    "# This program is ok, but we can't take user input here\n",
    "c_program = \"\"\"\n",
    "# include <stdio.h>\n",
    "int main(void){\n",
    "\tint m,d,y;\n",
    "\tprintf(\"Enter a data(mm/dd/yyyy): \");\n",
    "\tscanf(\"%d/%d/%d\", &m, &d, &y);\n",
    "\tprintf(\"You entered the date %d0%d%d\", y,m,d);\n",
    "\treturn 0;\n",
    "}\n",
    "\"\"\"\n",
    "# write_and_compile()"
   ]
  },
  {
   "cell_type": "markdown",
   "metadata": {},
   "source": [
    "<img src=\"chapter-3-excersices/imagep2.png\">"
   ]
  },
  {
   "cell_type": "code",
   "execution_count": 82,
   "metadata": {},
   "outputs": [],
   "source": [
    "# This program is ok, but we can't take user input here\n",
    "c_program = \"\"\"\n",
    "# include <stdio.h>\n",
    "int main(void){\n",
    "\tint item_number, month, day, year;\n",
    "\tfloat unit_price;\n",
    "\tprintf(\"Enter item number: \\n\");\n",
    "\tscanf(\"%d\", &item_number);\n",
    "\tprintf(\"Enter unit price: \\n\");\n",
    "\tscanf(\"%f\", &unit_price);\n",
    "\tprintf(\"Enter purchse date(mm/dd/yyyy): \\n\");\n",
    "\tscanf(\"%d/%d/%d\", &month, &day, &year);\n",
    "\tprintf(\"\\n%-30s%-30s%-30s%14s%29s\", \"Item\", \"Unit\", \"Purchase\\n\", \"Price\", \"Date\");\n",
    "\tprintf(\"\\n%-30d$%-29.2f%d/%d/%d\\n\", item_number, unit_price, month, day, year);\n",
    "\treturn 0;\n",
    "}\n",
    "\"\"\"\n",
    "# write_and_compile()"
   ]
  },
  {
   "cell_type": "markdown",
   "metadata": {},
   "source": [
    "<img src=\"chapter-3-excersices/imagep3.png\">"
   ]
  },
  {
   "cell_type": "code",
   "execution_count": null,
   "metadata": {},
   "outputs": [],
   "source": [
    "# include <stdio.h>\n",
    "int main(void){\n",
    "\tint gsi, group, pub, item, check;\n",
    "\tprintf(\"Enter ISBN: \");\n",
    "\tscanf(\"%d-%d-%d-%d-%d\",&gsi, &group, &pub, &item, &check);\n",
    "\tprintf(\"GSI prefix: %d\\nGroup identifier: %d\\nPublisher code: %d\\nItem number: %d\\nCheck digit: %d\\n\", gsi, group, pub, item, check);\n",
    "\treturn 0;\n",
    "}"
   ]
  },
  {
   "cell_type": "markdown",
   "metadata": {},
   "source": [
    "<img src=\"chapter-3-excersices/imagep4.png\">"
   ]
  },
  {
   "cell_type": "code",
   "execution_count": null,
   "metadata": {},
   "outputs": [],
   "source": [
    "# include <stdio.h>\n",
    "int main(void){\n",
    "\tint a,b,c;\n",
    "\tprintf(\"Enter phone number [(xxx) xxx-xxxx]: \");\n",
    "\tscanf(\"(%d) %d-%d\", &a,&b,&c);\n",
    "\tprintf(\"You entered %d.%d.%d\\n\", a,b,c);\n",
    "\n",
    "\treturn 0;\n",
    "}"
   ]
  },
  {
   "cell_type": "markdown",
   "metadata": {},
   "source": [
    "<img src=\"chapter-3-excersices/imagep5.png\">\n",
    "<img src=\"chapter-3-excersices/imagep5_2.png\">"
   ]
  },
  {
   "cell_type": "code",
   "execution_count": null,
   "metadata": {},
   "outputs": [],
   "source": [
    "# include <stdio.h>\n",
    "int main(void){\n",
    "\tint a,b,c,d,e,f,g,h,i,j,k,l,m,n,o,p;\n",
    "\tscanf(\"%d%d%d%d%d%d%d%d%d%d%d%d%d%d%d%d\", &a,&b,&c,&d,&e,&f,&g,&h,&i,&j,&k,&l,&m,&n,&o,&p);\n",
    "\tprintf(\"\\n%-5d%-5d%-5d%-5d\\n\", a,b,c,d);\n",
    "\tprintf(\"%-5d%-5d%-5d%-5d\\n\", e,f,g,h);\n",
    "\tprintf(\"%-5d%-5d%-5d%-5d\\n\", i,j,k,l);\n",
    "\tprintf(\"%-5d%-5d%-5d%-5d\\n\", m,n,o,p);\n",
    "\tprintf(\"Row sums       : %d %d %d %d\\n\", a+b+c+d, e+f+g+h, i+j+k+l, m+n+o+p);\n",
    "\tprintf(\"Columns sums   : %d %d %d %d\\n\", a+e+i+m, b+f+j+n, c+g+k+o, d+h+l+p);\n",
    "\tprintf(\"Diagonal sums  : %d %d\", a+f+k+p, d+g+j+m);\n",
    "\treturn 0;\n",
    "}"
   ]
  },
  {
   "cell_type": "markdown",
   "metadata": {},
   "source": [
    "<img src=\"chapter-3-excersices/imagep6.png\">"
   ]
  },
  {
   "cell_type": "code",
   "execution_count": null,
   "metadata": {},
   "outputs": [],
   "source": [
    "# include <stdio.h>\n",
    "int main(void){\n",
    "\tint num1, denom1, num2, denom2, result_num, result_denom;\n",
    "\tprintf(\"Enter two fractions saparated by a plus sign: \");\n",
    "\tscanf(\"%d/%d%d/%d\", &num1, &denom1, &num2, &denom2);  \n",
    "\tresult_num = num1 * denom2 + num2 * denom1;\n",
    "\tresult_denom = denom1 * denom2;\n",
    "\tprintf(\"The sum is %d/%d\\n\", result_num, result_denom);\n",
    "\treturn 0;\n",
    "}"
   ]
  },
  {
   "cell_type": "markdown",
   "metadata": {},
   "source": [
    "# <center><font color='red' size=15>Chapter 4</font>"
   ]
  },
  {
   "cell_type": "markdown",
   "metadata": {},
   "source": [
    "<img src=\"chapter-4-excersices/image_1.png\">\n",
    "<img src=\"chapter-4-excersices/image_1-2.png\">"
   ]
  },
  {
   "cell_type": "code",
   "execution_count": 8,
   "metadata": {},
   "outputs": [
    {
     "name": "stdout",
     "output_type": "stream",
     "text": [
      "a:  1 2\n",
      "b:  0\n",
      "c:  1\n",
      "d:  0\n"
     ]
    }
   ],
   "source": [
    "c_program = \"\"\"\n",
    "# include <stdio.h>\n",
    "int main(void){\n",
    "\tint i,j,k;\n",
    "\t\n",
    "\ti = 5; j=3;\n",
    "\tprintf(\"a:  %d %d\\\\n\", i/j, \ti%j);\n",
    "    \n",
    "    i=2; j=3;\n",
    "    printf(\"b:  %d\\\\n\", (i+10)%j);\n",
    "    \n",
    "    i = 7; j=8, k=9;\n",
    "    printf(\"c:  %d\\\\n\", (i+10) % k/j);\n",
    "    \n",
    "    i=1; j=2, k=3;\n",
    "    printf(\"d:  %d\\\\n\", (i+5) % (j+2) / k);\n",
    "\treturn 0;\n",
    "}\"\"\"\n",
    "write_and_compile()"
   ]
  },
  {
   "cell_type": "markdown",
   "metadata": {},
   "source": [
    "<img src=\"chapter-4-excersices/image_2.png\">"
   ]
  },
  {
   "cell_type": "markdown",
   "metadata": {},
   "source": [
    "# <font color='red'>yes. same</font>"
   ]
  },
  {
   "cell_type": "markdown",
   "metadata": {},
   "source": [
    "<img src=\"chapter-4-excersices/image_3.png\">"
   ]
  },
  {
   "cell_type": "markdown",
   "metadata": {},
   "source": [
    "<img src=\"chapter-4-excersices/image_4.png\">"
   ]
  },
  {
   "cell_type": "markdown",
   "metadata": {},
   "source": [
    "# <font color='red'>a: 1</font>\n",
    "# <font color='red'>b: -1</font>\n",
    "# <font color='red'>c: -1</font>\n",
    "# <font color='red'>d: 1</font>"
   ]
  },
  {
   "cell_type": "markdown",
   "metadata": {},
   "source": [
    "<img src=\"chapter-4-excersices/image_5.png\">"
   ]
  },
  {
   "cell_type": "markdown",
   "metadata": {},
   "source": [
    "<img src=\"chapter-4-excersices/image_6.png\">"
   ]
  },
  {
   "cell_type": "markdown",
   "metadata": {},
   "source": [
    "# <font color='red'>a: 3</font>\n",
    "# <font color='red'>b: -3</font>\n",
    "# <font color='red'>c: 3</font>\n",
    "# <font color='red'>d: -3</font>"
   ]
  },
  {
   "cell_type": "markdown",
   "metadata": {},
   "source": [
    "<img src=\"chapter-4-excersices/image_7.png\">"
   ]
  },
  {
   "cell_type": "markdown",
   "metadata": {},
   "source": [
    "<img src=\"chapter-4-excersices/image_8.png\">"
   ]
  },
  {
   "cell_type": "markdown",
   "metadata": {},
   "source": [
    "<img src=\"chapter-4-excersices/image_9.png\">"
   ]
  },
  {
   "cell_type": "code",
   "execution_count": 22,
   "metadata": {},
   "outputs": [
    {
     "name": "stdout",
     "output_type": "stream",
     "text": [
      "a: 63 8\n",
      "b: 3 2 1\n",
      "c: 2 -1 3\n",
      "c: 0 0 0\n"
     ]
    }
   ],
   "source": [
    "c_program = \"\"\"\n",
    "#include <stdio.h>\n",
    "int main(void){\n",
    "    int i,j,k;\n",
    "    i=7; j=8;\n",
    "    i *= j + 1; // i *= (j + 1)\n",
    "    printf(\"a: %d %d\\\\n\", i,j);\n",
    "    i = j = k = 1;\n",
    "    i += j += k; // i += (j += k)\n",
    "    printf(\"b: %d %d %d\\\\n\", i,j,k);\n",
    "    i = 1; j = 2; k = 3;\n",
    "    i -= j -= k; // i -= (j -= k)\n",
    "    printf(\"c: %d %d %d\\\\n\", i,j,k);\n",
    "    i = 2; j = 1; k = 0;\n",
    "    i *= j *= k; // i *= (j *= k)\n",
    "    printf(\"c: %d %d %d\\\\n\", i,j,k);\n",
    "    return 0;\n",
    "}\n",
    "\"\"\"\n",
    "write_and_compile()\n",
    "# a: 63, 8\n",
    "# b: 3, 2, 1\n",
    "# c: 2, -1, 3 \n",
    "# d: 0, 0, 0"
   ]
  },
  {
   "cell_type": "markdown",
   "metadata": {},
   "source": [
    "<img src=\"chapter-4-excersices/image_10.png\">"
   ]
  },
  {
   "cell_type": "code",
   "execution_count": 20,
   "metadata": {},
   "outputs": [
    {
     "name": "stdout",
     "output_type": "stream",
     "text": [
      "a: 12 12\n",
      "b: 3 4\n",
      "c: 2 8\n",
      "d: 6 9\n"
     ]
    }
   ],
   "source": [
    "c_program = \"\"\"\n",
    "#include <stdio.h>\n",
    "int main(void){\n",
    "    int i, j;\n",
    "    i = 6; \n",
    "    j = i += i;\n",
    "    printf(\"a: %d %d\\\\n\", i, j);\n",
    "    i=5;\n",
    "    j = (i -=2) + 1;\n",
    "    printf(\"b: %d %d\\\\n\", i, j);\n",
    "    i = 7;\n",
    "    j = 6 + (i = 2.5);\n",
    "    printf(\"c: %d %d\\\\n\", i, j);\n",
    "    i = 2; j = 8;\n",
    "    j = (i = 6) + (j = 3);\n",
    "    printf(\"d: %d %d\\\\n\", i, j);\n",
    "    return 0;\n",
    "}\n",
    "\"\"\"\n",
    "write_and_compile()\n",
    "# a: 12, 12\n",
    "# b: 3, 4\n",
    "# c: 2, 8\n",
    "# d: 6, 9"
   ]
  },
  {
   "cell_type": "markdown",
   "metadata": {},
   "source": [
    "<img src=\"chapter-4-excersices/image_11.png\">"
   ]
  },
  {
   "cell_type": "code",
   "execution_count": 11,
   "metadata": {},
   "outputs": [
    {
     "name": "stdout",
     "output_type": "stream",
     "text": [
      "a: 0 \n",
      "a: 2\n",
      "b: 4 \n",
      "b: 11 6\n",
      "c: 0 \n",
      "c: 8 7\n",
      "d: 3\n",
      "d: 4 5 4\n"
     ]
    }
   ],
   "source": [
    "c_program = \"\"\"\n",
    "#include <stdio.h>\n",
    "int main(void){\n",
    "    int i,j,k;\n",
    "    i=1; \n",
    "    printf(\"a: %d \\\\n\", i++ - 1);\n",
    "    printf(\"a: %d\\\\n\", i);\n",
    "    i=10; j=5;\n",
    "    printf(\"b: %d \\\\n\", i++ - ++j);\n",
    "    printf(\"b: %d %d\\\\n\", i, j);\n",
    "    i=7; j=8;\n",
    "    printf(\"c: %d \\\\n\", i++ - --j);\n",
    "    printf(\"c: %d %d\\\\n\", i, j);\n",
    "    i=3; j=4; k=5;\n",
    "    printf(\"d: %d\\\\n\", i++ - j++ + --k);\n",
    "    printf(\"d: %d %d %d\\\\n\", i, j, k);\n",
    "    return 0;\n",
    "    }\n",
    "\"\"\"\n",
    "write_and_compile()\n",
    "# a: \n",
    "#     0, 2\n",
    "# b: \n",
    "#     4\n",
    "#     11, 6\n",
    "# c:\n",
    "#     0\n",
    "#     8,7\n",
    "# d:\n",
    "#     3\n",
    "#     4,5, 4    "
   ]
  },
  {
   "cell_type": "markdown",
   "metadata": {},
   "source": [
    "<img src=\"chapter-4-excersices/image_12.png\">"
   ]
  },
  {
   "cell_type": "code",
   "execution_count": 8,
   "metadata": {},
   "outputs": [
    {
     "name": "stdout",
     "output_type": "stream",
     "text": [
      "a: i=6 j=16\n",
      "b: i=6 j=-7\n",
      "c: i=6 j=23\n",
      "d: i=6 j=15\n"
     ]
    }
   ],
   "source": [
    "# a: i=6, j=16\n",
    "# b: i=6, j=-7\n",
    "# c: i=6, j=23\n",
    "# d: i=6, j=15\n",
    "c_program = \"\"\"\n",
    "#include <stdio.h>\n",
    "int main(void){\n",
    "    int i,j;\n",
    "    i=5; \n",
    "    j= ++i * 3 - 2; // j = (6 * 3) - 2\n",
    "    printf(\"a: i=%d j=%d\\\\n\", i, j);\n",
    "    i=5; \n",
    "    j= 3 - 2 * i++; // j = 3 - (2 * 5)\n",
    "    printf(\"b: i=%d j=%d\\\\n\", i, j);\n",
    "    i=7; \n",
    "    j= 3 * i-- + 2; // j = (3 * 7) + 2\n",
    "    printf(\"c: i=%d j=%d\\\\n\", i, j);\n",
    "    i=7; \n",
    "    j=3 + --i * 2; // j= 3 + (6 * 2)\n",
    "    printf(\"d: i=%d j=%d\\\\n\", i, j);\n",
    "}\n",
    "\"\"\"\n",
    "write_and_compile()"
   ]
  },
  {
   "cell_type": "markdown",
   "metadata": {},
   "source": [
    "<img src=\"chapter-4-excersices/image_13.png\">"
   ]
  },
  {
   "cell_type": "code",
   "execution_count": 4,
   "metadata": {},
   "outputs": [
    {
     "name": "stdout",
     "output_type": "stream",
     "text": [
      "5\n",
      "4\n"
     ]
    }
   ],
   "source": [
    "# ++1; in <i += 1> we immediatly change value of i, and it is the same in <++i>, and it is not the case in <i++>, in <i++> before executing the second command the value of <i> dos not increament.\n",
    "c_program = \"\"\"\n",
    "#include <stdio.h>\n",
    "int main(void){\n",
    "    int i=4;\n",
    "    printf(\"%d\\\\n\", ++i);\n",
    "    i = 4;\n",
    "    printf(\"%d\\\\n\", i++);\n",
    "    return 0;\n",
    "}\n",
    "\"\"\"\n",
    "write_and_compile()"
   ]
  },
  {
   "cell_type": "markdown",
   "metadata": {},
   "source": [
    "<img src=\"chapter-4-excersices/image_14.png\">\n",
    "<img src=\"chapter-4-excersices/image_14-2.png\">"
   ]
  },
  {
   "cell_type": "code",
   "execution_count": 23,
   "metadata": {},
   "outputs": [
    {
     "name": "stdout",
     "output_type": "stream",
     "text": [
      "-4.000000\n"
     ]
    }
   ],
   "source": [
    "c_program = \"\"\"\n",
    "#include <stdio.h>\n",
    "int main(void){\n",
    "    float a=5.0, b=2.0, c=3.0, d=6.0, e=4.0;\n",
    "    printf(\"%f\\\\n\", a * b - c * d + e);\n",
    "    return 0;\n",
    "}\n",
    "\"\"\"\n",
    "write_and_compile()\n",
    "# a: (a * b) - (c * d) + e\n",
    "# b: ((a / b) % c) / d\n",
    "# c: (- a) - b + c - + d\n",
    "# d: a * - b / c - d"
   ]
  },
  {
   "cell_type": "markdown",
   "metadata": {},
   "source": [
    "###### <img src=\"chapter-4-excersices/image_15.png\">"
   ]
  },
  {
   "cell_type": "code",
   "execution_count": 14,
   "metadata": {},
   "outputs": [
    {
     "name": "stdout",
     "output_type": "stream",
     "text": [
      "i1: 1, j1:2\n",
      "1 : 3\n",
      "i2: 3, j2:2\n",
      "2 : 3\n",
      "i3: 2, j3:2\n",
      "3 : 2\n",
      "i4: 2, j4:2\n",
      "4 : 2\n",
      "i5: 2, j5:3\n"
     ]
    }
   ],
   "source": [
    "c_program = \"\"\"\n",
    "#include <stdio.h>\n",
    "int main(void){\n",
    "    int i=1, j=2;\n",
    "    printf(\"i1: %d, j1:%d\\\\n\", i,j);\n",
    "    printf(\"1 : %d\\\\n\", i += j); // 1 += 2 : 3\n",
    "    printf(\"i2: %d, j2:%d\\\\n\", i,j);\n",
    "    printf(\"2 : %d\\\\n\", i--);    // 3\n",
    "    printf(\"i3: %d, j3:%d\\\\n\", i,j);\n",
    "    printf(\"3 : %d\\\\n\", i*j/i);  // 2*2/2\n",
    "    printf(\"i4: %d, j4:%d\\\\n\", i,j);\n",
    "    printf(\"4 : %d\\\\n\", i % ++j);// 2 % \n",
    "    printf(\"i5: %d, j5:%d\\\\n\", i,j);\n",
    "}\n",
    "\"\"\"\n",
    "write_and_compile()"
   ]
  },
  {
   "cell_type": "markdown",
   "metadata": {},
   "source": [
    "# <center><font color='red' size=15>Programming Projects</font><font size=4> Chapter 4</font>"
   ]
  },
  {
   "cell_type": "markdown",
   "metadata": {},
   "source": [
    "<img src=\"chapter-4-excersices/image_p_1.png\">"
   ]
  },
  {
   "cell_type": "code",
   "execution_count": null,
   "metadata": {},
   "outputs": [],
   "source": [
    "# include <stdio.h>\n",
    "int main(void){\n",
    "\tint deg;\n",
    "\tprintf(\"Enter a two-digit nuber: \");\n",
    "\tscanf(\"%d\", &deg);\n",
    "\tprintf(\"The reversal is        : %d%d\\n\", deg%10, deg/10);\n",
    "\treturn 0;\n",
    "}"
   ]
  },
  {
   "cell_type": "markdown",
   "metadata": {},
   "source": [
    "<img src=\"chapter-4-excersices/image_p_2.png\">"
   ]
  },
  {
   "cell_type": "code",
   "execution_count": null,
   "metadata": {},
   "outputs": [],
   "source": [
    "# include <stdio.h>\n",
    "int main(void){\n",
    "\tint deg;\n",
    "\tprintf(\"Enter a three-digit nuber: \");\n",
    "\tscanf(\"%d\", &deg);\n",
    "\tprintf(\"The reversal is        : %d%d%d\\n\", deg%10, (deg/10)%10, (deg/10)/10);\n",
    "\treturn 0;\n",
    "}"
   ]
  },
  {
   "cell_type": "markdown",
   "metadata": {},
   "source": [
    "<img src=\"chapter-4-excersices/image_p_3.png\">"
   ]
  },
  {
   "cell_type": "code",
   "execution_count": null,
   "metadata": {},
   "outputs": [],
   "source": [
    "# include <stdio.h>\n",
    "int main(void){\n",
    "\tint a,b,c;\n",
    "\tprintf(\"Enter a three-digit nuber: \");\n",
    "\tscanf(\"%1d%1d%1d\", &a, &b, &c);\n",
    "\tprintf(\"The reversal is          : %d%d%d\\n\", c,b,a);\n",
    "\treturn 0;\n",
    "}"
   ]
  },
  {
   "cell_type": "markdown",
   "metadata": {},
   "source": [
    "<img src=\"chapter-4-excersices/image_p_4.png\">"
   ]
  },
  {
   "cell_type": "code",
   "execution_count": null,
   "metadata": {},
   "outputs": [],
   "source": [
    "# include <stdio.h>\n",
    "int main(void){\n",
    "\tint a;\n",
    "\tprintf(\"Enter a number between 0 and 32767:     \");\n",
    "\tscanf(\"%d\", &a);\n",
    "\tprintf(\"In octal, your number is          :     0%o\\n\", a);\n",
    "\treturn 0;\n",
    "}"
   ]
  },
  {
   "cell_type": "markdown",
   "metadata": {},
   "source": [
    "<img src=\"chapter-4-excersices/image_p_5.png\">"
   ]
  },
  {
   "cell_type": "code",
   "execution_count": null,
   "metadata": {},
   "outputs": [],
   "source": [
    "# include <stdio.h>\n",
    "int main(void){\n",
    "\tint a,b,c,d,e,f,g,h,i,j,k, aa, bb, cc, dd, ee, ff;\n",
    "\tprintf(\"Enter the first 11 digits of a UPS: \");\n",
    "\tscanf(\"%1d%1d%1d%1d%1d%1d%1d%1d%1d%1d%1d\", &a,&b,&c,&d,&e,&f,&g,&h,&i,&j,&k);\n",
    "\taa = a+c+e+g+i+k;\n",
    "\tbb = b+d+f+h+j;\n",
    "\tcc = aa * 3 + bb;\n",
    "\tdd = cc - 1;\n",
    "\tee = dd % 10;\n",
    "\tff = 9 - ee;\n",
    "\tprintf(\"Check digit: %d\\n\", ff);\n",
    "\treturn 0;\n",
    "}"
   ]
  },
  {
   "cell_type": "markdown",
   "metadata": {},
   "source": [
    "<img src=\"chapter-4-excersices/image_p_6.png\">\n",
    "<img src=\"chapter-4-excersices/image_p_6-2.png\">"
   ]
  },
  {
   "cell_type": "code",
   "execution_count": null,
   "metadata": {},
   "outputs": [],
   "source": [
    "# include <stdio.h>\n",
    "int main(void){\n",
    "\tint a,b,c,d,e,f,g,h,i,j,k,l, aa, bb, cc, dd, ee, ff;\n",
    "\tprintf(\"Enter the first 12 digits of an EAN: \");\n",
    "\tscanf(\"%1d%1d%1d%1d%1d%1d%1d%1d%1d%1d%1d%1d\", &a,&b,&c,&d,&e,&f,&g,&h,&i,&j,&k, &l);\n",
    "\taa = a+c+e+g+i+k;\n",
    "\tbb = b+d+f+h+j+l;\n",
    "\tcc = bb * 3 + aa;\n",
    "\tdd = cc - 1;\n",
    "\tee = dd % 10;\n",
    "\tff = 9 - ee;\n",
    "\tprintf(\"Check digit: %d\\n\", ff);\n",
    "\treturn 0;\n",
    "}"
   ]
  },
  {
   "cell_type": "markdown",
   "metadata": {},
   "source": [
    "# <center><font color='red' size=15>Chapter 5</font>"
   ]
  },
  {
   "cell_type": "markdown",
   "metadata": {},
   "source": [
    "<img src=\"chapter-5-excersices/image_1.png\">"
   ]
  },
  {
   "cell_type": "code",
   "execution_count": 4,
   "metadata": {},
   "outputs": [
    {
     "name": "stdout",
     "output_type": "stream",
     "text": [
      "a: 1\n",
      "b: 1\n",
      "c: 1\n",
      "d: 0\n"
     ]
    }
   ],
   "source": [
    "c_program = \"\"\"\n",
    "#include <stdio.h>\n",
    "int main(void){\n",
    "\tint i, j, k;\n",
    "\ti = 2; j=3;\n",
    "\tk = i * j == 6;\n",
    "\tprintf(\"a: %d\\\\n\", k);\n",
    "\n",
    "\ti = 5; j = 10; k = 1;\n",
    "\tprintf(\"b: %d\\\\n\", k > i < j);\n",
    "\n",
    "\ti = 3; j = 3; k = 1;\n",
    "\tprintf(\"c: %d\\\\n\", i < j == j < k);\n",
    "\n",
    "\ti = 3; j = 4; k = 5;\n",
    "\tprintf(\"d: %d\\\\n\", i % j + i  < k);\n",
    "    return 0;\n",
    "}\n",
    "\"\"\"\n",
    "write_and_compile()\n",
    "# a: 1 ((i * j) == 6)         ==> ((2 * 3) == 6)       ==> 6 == 6\n",
    "# b: 1 ((k > i) < j)          ==> ((1 > 5) < 10)       ==> 0 < 10\n",
    "# c: 1 ((i < j) == (j < k))   ==> ((3 < 2) == (2 < 1)) ==> 0 == 0\n",
    "# d: 0 (((i % j) + 3) < k)    ==> (((3 % 4) + 3) < 5)  ==> (3 + 3) < 5"
   ]
  },
  {
   "cell_type": "markdown",
   "metadata": {},
   "source": [
    "<img src=\"chapter-5-excersices/image_2.png\">"
   ]
  },
  {
   "cell_type": "code",
   "execution_count": 2,
   "metadata": {},
   "outputs": [
    {
     "name": "stdout",
     "output_type": "stream",
     "text": [
      "a: 1\n",
      "b: 1\n",
      "c: 1\n",
      "d: 1\n"
     ]
    }
   ],
   "source": [
    "c_program = \"\"\"\n",
    "\n",
    "#include <stdio.h>\n",
    "int main(void){\n",
    "\tint i, j, k;\n",
    "\ti = 10; j = 5;\n",
    "\tprintf(\"a: %d\\\\n\", !i < j);\n",
    "\n",
    "\ti = 2; j = 1;\n",
    "\tprintf(\"b: %d\\\\n\", !!i + !j);\n",
    "\n",
    "\ti = 5; j = 0; k = -5;\n",
    "\tprintf(\"c: %d\\\\n\", i && j || k);\n",
    "\n",
    "\ti = 1; j = 2; k = 3;\n",
    "\tprintf(\"d: %d\\\\n\", i < j || k);\n",
    "    return 0;\n",
    "}\n",
    "\"\"\"\n",
    "write_and_compile()\n",
    "# a: 1         == !1 < 5           == 1 < 5 \n",
    "# b: 1         == !!1 + !1         == 1 + 0  \n",
    "# c: 1         == 1 && 0 || 1      == (True and False) or True\n",
    "# d: 1         == 1 < 2 || 1       == True or False"
   ]
  },
  {
   "cell_type": "markdown",
   "metadata": {},
   "source": [
    "<img src=\"chapter-5-excersices/image_3.png\">"
   ]
  },
  {
   "cell_type": "markdown",
   "metadata": {},
   "source": [
    "# below program i don't understand it"
   ]
  },
  {
   "cell_type": "code",
   "execution_count": 4,
   "metadata": {},
   "outputs": [
    {
     "name": "stdout",
     "output_type": "stream",
     "text": [
      "a: 1\n",
      "a: 3 4 5\n",
      "b: 0\n",
      "b: 7 8 9\n",
      "c: 1\n",
      "c: 8 8 9\n",
      "d: 1\n",
      "d: 2 1 1\n"
     ]
    }
   ],
   "source": [
    "c_program = \"\"\"\n",
    "#include <stdio.h>\n",
    "int main(void){\n",
    "\tint i, j, k;\n",
    "\ti = 3; j = 4; k = 5;\n",
    "\tprintf(\"a: %d\\\\n\", i < j || ++j < k);\n",
    "\tprintf(\"a: %d %d %d\\\\n\", i, j, k);\n",
    "\n",
    "\ti = 7; j = 8; k = 9;\n",
    "\tprintf(\"b: %d\\\\n\", i - 7 && j++ < k);\n",
    "\tprintf(\"b: %d %d %d\\\\n\", i, j, k);\n",
    "\n",
    "\ti = 7; j = 8; k = 9;\n",
    "\tprintf(\"c: %d\\\\n\", (i = j) || (j = k));\n",
    "\tprintf(\"c: %d %d %d\\\\n\", i, j, k);\n",
    "\n",
    "\ti = 1; j = 1; k = 1;\n",
    "\tprintf(\"d: %d\\\\n\", ++i || ++j && ++k);\n",
    "\tprintf(\"d: %d %d %d\\\\n\", i, j, k);\n",
    "\n",
    "\n",
    "    return 0;\n",
    "}\n",
    "\"\"\"\n",
    "write_and_compile()\n",
    "# a: 3 < 4 || (5 < 5) ==> True or False ==> True\n",
    "# a: 3 , 5, 5\n",
    "# b: 0 && (8 < 9)     ==> False and True ==> False\n",
    "# b: 7, 9, 9\n",
    "# c: 8 || 9           ==> True or True   ==> True\n",
    "# c: 8, 8, 9\n",
    "# d: 2 || 1 && 1      ==> True or True and True ==> True\n",
    "# d: "
   ]
  },
  {
   "cell_type": "markdown",
   "metadata": {},
   "source": [
    "<img src=\"chapter-5-excersices/image_4.png\">"
   ]
  },
  {
   "cell_type": "code",
   "execution_count": null,
   "metadata": {},
   "outputs": [],
   "source": [
    "# This program is ok, but we can't take user input here\n",
    "c_program = \"\"\"\n",
    "#include <stdio.h>\n",
    "int main(void){\n",
    "\tint i, j=5;\n",
    "\tprintf(\"Enter a number\\n\");\n",
    "\tscanf(\"%d\", &i);\n",
    "\tprintf(\"%d\\n\", i > j ? 1 : i < j ? -1 : 0);\n",
    "    return 0;\n",
    "}\n",
    "\"\"\"\n",
    "# write_and_compile()"
   ]
  },
  {
   "cell_type": "markdown",
   "metadata": {},
   "source": [
    "<img src=\"chapter-5-excersices/image_5.png\">"
   ]
  },
  {
   "cell_type": "markdown",
   "metadata": {},
   "source": [
    "### ok. and when n is 0, it still work, becouse here is OR condition, so first evelvate (n >= 1) and it return 0 (since n is 0, so condition is false), and then evalvate (0 <= 10) and this condition is true, so it is return 1; so when n is 0 we get 1."
   ]
  },
  {
   "cell_type": "code",
   "execution_count": 5,
   "metadata": {},
   "outputs": [
    {
     "name": "stdout",
     "output_type": "stream",
     "text": [
      "n is between 1 and 10\n"
     ]
    }
   ],
   "source": [
    "c_program = \"\"\"\n",
    "#include <stdio.h>\n",
    "int main(void){\n",
    "\tint n=0;\n",
    "\tif (n >= 1 <= 10)\n",
    "\t\tprintf(\"n is between 1 and 10\\\\n\");\n",
    "    return 0;\n",
    "}\n",
    "\"\"\"\n",
    "write_and_compile()"
   ]
  },
  {
   "cell_type": "markdown",
   "metadata": {},
   "source": [
    "<img src=\"chapter-5-excersices/image_6.png\">"
   ]
  },
  {
   "cell_type": "code",
   "execution_count": 16,
   "metadata": {},
   "outputs": [],
   "source": [
    "c_program = \"\"\"\n",
    "#include <stdio.h>\n",
    "int main(void){\n",
    "    int n=5;\n",
    "    if (n == 1-10)\n",
    "        printf(\"n is between 1 and 10\\\\n\");\n",
    "}\n",
    "\"\"\"\n",
    "write_and_compile()"
   ]
  },
  {
   "cell_type": "markdown",
   "metadata": {},
   "source": [
    "### this is legal syntax, but it is not word what we wish, so when n is 6, the condition still false, because it is actualy (5 == 1 - 10) and it is equal to (5 == (1 - 10)), hence it is true only when n is -9."
   ]
  },
  {
   "cell_type": "markdown",
   "metadata": {},
   "source": [
    "<img src=\"chapter-5-excersices/image_7.png\">"
   ]
  },
  {
   "cell_type": "markdown",
   "metadata": {},
   "source": [
    "### in both case the resul is 17, when i is 17; the condition is True and print i, which is 17, and when i is -17, the condition is False and print -i, which is 17. so we get 17 regardless sighn of i."
   ]
  },
  {
   "cell_type": "code",
   "execution_count": 18,
   "metadata": {},
   "outputs": [
    {
     "name": "stdout",
     "output_type": "stream",
     "text": [
      "n == 17: 17\n",
      "n == -17: 17\n"
     ]
    }
   ],
   "source": [
    "c_program = \"\"\"\n",
    "\n",
    "#include <stdio.h>\n",
    "int main(void){\n",
    "    int i=17;\n",
    "    printf(\"n == 17: %d\\\\n\", i >= 0 ? i : -i);\n",
    "    i = -17;\n",
    "    printf(\"n == -17: %d\\\\n\", i >= 0 ? i : -i);\n",
    "}\n",
    "\"\"\"\n",
    "write_and_compile()"
   ]
  },
  {
   "cell_type": "markdown",
   "metadata": {},
   "source": [
    "<img src=\"chapter-5-excersices/image_8.png\">"
   ]
  },
  {
   "cell_type": "code",
   "execution_count": null,
   "metadata": {},
   "outputs": [],
   "source": [
    "teenager = age >= 13 ? age < 19 : 1 ? 0 : age < 13 ? 0 : 0;"
   ]
  },
  {
   "cell_type": "markdown",
   "metadata": {},
   "source": [
    "<img src=\"chapter-5-excersices/image_9.png\">"
   ]
  },
  {
   "cell_type": "code",
   "execution_count": 24,
   "metadata": {},
   "outputs": [
    {
     "name": "stdout",
     "output_type": "stream",
     "text": [
      "^C\n"
     ]
    }
   ],
   "source": [
    "# equivalent\n",
    "\n",
    "\n",
    "# This program is ok, but we can't take user input here\n",
    "c_program = \"\"\"\n",
    "#include <stdio.h>\n",
    "int main(void){\n",
    "\tint score;\n",
    "\tscanf(\"%d\", &score);\n",
    "\tif (score >= 90)\n",
    "\t\tprintf(\"A\");\n",
    "\telse if (score >= 80)\n",
    "\t\tprintf(\"B\");\n",
    "\telse if (score >= 70)\n",
    "\t\tprintf(\"C\");\n",
    "\telse if (score >= 60)\n",
    "\t\tprintf(\"D\");\n",
    "\telse\n",
    "\t\tprintf(\"F\");\n",
    "\n",
    "\n",
    "\tif (score < 60)\n",
    "\t\tprintf(\"F\");\n",
    "\telse if (score < 70)\n",
    "\t\tprintf(\"D\");\n",
    "\telse if (score < 80)\n",
    "\t\tprintf(\"C\");\n",
    "\telse if (score < 90)\n",
    "\t\tprintf(\"B\");\n",
    "\telse\n",
    "\t\tprintf(\"A\");\n",
    "}\n",
    "\"\"\"\n",
    "write_and_compile()"
   ]
  },
  {
   "cell_type": "markdown",
   "metadata": {},
   "source": [
    "# <center><font color='red' size=15>Programming Projects</font><font size=4> Chapter 5</font>"
   ]
  },
  {
   "cell_type": "markdown",
   "metadata": {},
   "source": [
    "<img src=\"chapter-5-excersices/image_p_1.png\">"
   ]
  },
  {
   "cell_type": "markdown",
   "metadata": {},
   "source": [
    "<img src=\"chapter-5-excersices/image_p_2.png\">"
   ]
  },
  {
   "cell_type": "markdown",
   "metadata": {},
   "source": [
    "<img src=\"chapter-5-excersices/image_p_3.png\">"
   ]
  },
  {
   "cell_type": "markdown",
   "metadata": {},
   "source": [
    "<img src=\"chapter-5-excersices/image_p_4.png\">"
   ]
  },
  {
   "cell_type": "markdown",
   "metadata": {},
   "source": [
    "<img src=\"chapter-5-excersices/image_p_5.png\">"
   ]
  },
  {
   "cell_type": "markdown",
   "metadata": {},
   "source": [
    "<img src=\"chapter-5-excersices/image_p_6.png\">"
   ]
  },
  {
   "cell_type": "markdown",
   "metadata": {},
   "source": [
    "<img src=\"chapter-5-excersices/image_p_7.png\">"
   ]
  },
  {
   "cell_type": "markdown",
   "metadata": {},
   "source": [
    "<img src=\"chapter-5-excersices/image_p_8.png\">"
   ]
  },
  {
   "cell_type": "markdown",
   "metadata": {},
   "source": [
    "<img src=\"chapter-5-excersices/image_p_8.2.png\">"
   ]
  },
  {
   "cell_type": "markdown",
   "metadata": {},
   "source": [
    "<img src=\"chapter-5-excersices/image_p_9.png\">"
   ]
  },
  {
   "cell_type": "markdown",
   "metadata": {},
   "source": [
    "<img src=\"chapter-5-excersices/image_p_10.png\">"
   ]
  },
  {
   "cell_type": "markdown",
   "metadata": {},
   "source": [
    "<img src=\"chapter-5-excersices/image_p_10.png\">"
   ]
  },
  {
   "cell_type": "code",
   "execution_count": 2,
   "metadata": {},
   "outputs": [
    {
     "name": "stdin",
     "output_type": "stream",
     "text": [
      ">>>  5\n",
      ">>>  exit()\n"
     ]
    }
   ],
   "source": [
    "import pexpect\n",
    "p = pexpect.spawn('python')\n",
    "while True:\n",
    "    try:\n",
    "        p.expect('\\n>>> ')\n",
    "#         print(p.before)\n",
    "        p.sendline(input('>>> '))\n",
    "    except pexpect.EOF:\n",
    "        break"
   ]
  },
  {
   "cell_type": "code",
   "execution_count": 10,
   "metadata": {},
   "outputs": [
    {
     "name": "stdout",
     "output_type": "stream",
     "text": [
      "Help on spawn in module pexpect.pty_spawn object:\n",
      "\n",
      "class spawn(pexpect.spawnbase.SpawnBase)\n",
      " |  This is the main class interface for Pexpect. Use this class to start\n",
      " |  and control child applications.\n",
      " |  \n",
      " |  Method resolution order:\n",
      " |      spawn\n",
      " |      pexpect.spawnbase.SpawnBase\n",
      " |      builtins.object\n",
      " |  \n",
      " |  Methods defined here:\n",
      " |  \n",
      " |  __init__(self, command, args=[], timeout=30, maxread=2000, searchwindowsize=None, logfile=None, cwd=None, env=None, ignore_sighup=False, echo=True, preexec_fn=None, encoding=None, codec_errors='strict', dimensions=None)\n",
      " |      This is the constructor. The command parameter may be a string that\n",
      " |      includes a command and any arguments to the command. For example::\n",
      " |      \n",
      " |          child = pexpect.spawn('/usr/bin/ftp')\n",
      " |          child = pexpect.spawn('/usr/bin/ssh user@example.com')\n",
      " |          child = pexpect.spawn('ls -latr /tmp')\n",
      " |      \n",
      " |      You may also construct it with a list of arguments like so::\n",
      " |      \n",
      " |          child = pexpect.spawn('/usr/bin/ftp', [])\n",
      " |          child = pexpect.spawn('/usr/bin/ssh', ['user@example.com'])\n",
      " |          child = pexpect.spawn('ls', ['-latr', '/tmp'])\n",
      " |      \n",
      " |      After this the child application will be created and will be ready to\n",
      " |      talk to. For normal use, see expect() and send() and sendline().\n",
      " |      \n",
      " |      Remember that Pexpect does NOT interpret shell meta characters such as\n",
      " |      redirect, pipe, or wild cards (``>``, ``|``, or ``*``). This is a\n",
      " |      common mistake.  If you want to run a command and pipe it through\n",
      " |      another command then you must also start a shell. For example::\n",
      " |      \n",
      " |          child = pexpect.spawn('/bin/bash -c \"ls -l | grep LOG > logs.txt\"')\n",
      " |          child.expect(pexpect.EOF)\n",
      " |      \n",
      " |      The second form of spawn (where you pass a list of arguments) is useful\n",
      " |      in situations where you wish to spawn a command and pass it its own\n",
      " |      argument list. This can make syntax more clear. For example, the\n",
      " |      following is equivalent to the previous example::\n",
      " |      \n",
      " |          shell_cmd = 'ls -l | grep LOG > logs.txt'\n",
      " |          child = pexpect.spawn('/bin/bash', ['-c', shell_cmd])\n",
      " |          child.expect(pexpect.EOF)\n",
      " |      \n",
      " |      The maxread attribute sets the read buffer size. This is maximum number\n",
      " |      of bytes that Pexpect will try to read from a TTY at one time. Setting\n",
      " |      the maxread size to 1 will turn off buffering. Setting the maxread\n",
      " |      value higher may help performance in cases where large amounts of\n",
      " |      output are read back from the child. This feature is useful in\n",
      " |      conjunction with searchwindowsize.\n",
      " |      \n",
      " |      When the keyword argument *searchwindowsize* is None (default), the\n",
      " |      full buffer is searched at each iteration of receiving incoming data.\n",
      " |      The default number of bytes scanned at each iteration is very large\n",
      " |      and may be reduced to collaterally reduce search cost.  After\n",
      " |      :meth:`~.expect` returns, the full buffer attribute remains up to\n",
      " |      size *maxread* irrespective of *searchwindowsize* value.\n",
      " |      \n",
      " |      When the keyword argument ``timeout`` is specified as a number,\n",
      " |      (default: *30*), then :class:`TIMEOUT` will be raised after the value\n",
      " |      specified has elapsed, in seconds, for any of the :meth:`~.expect`\n",
      " |      family of method calls.  When None, TIMEOUT will not be raised, and\n",
      " |      :meth:`~.expect` may block indefinitely until match.\n",
      " |      \n",
      " |      \n",
      " |      The logfile member turns on or off logging. All input and output will\n",
      " |      be copied to the given file object. Set logfile to None to stop\n",
      " |      logging. This is the default. Set logfile to sys.stdout to echo\n",
      " |      everything to standard output. The logfile is flushed after each write.\n",
      " |      \n",
      " |      Example log input and output to a file::\n",
      " |      \n",
      " |          child = pexpect.spawn('some_command')\n",
      " |          fout = open('mylog.txt','wb')\n",
      " |          child.logfile = fout\n",
      " |      \n",
      " |      Example log to stdout::\n",
      " |      \n",
      " |          # In Python 2:\n",
      " |          child = pexpect.spawn('some_command')\n",
      " |          child.logfile = sys.stdout\n",
      " |      \n",
      " |          # In Python 3, spawnu should be used to give str to stdout:\n",
      " |          child = pexpect.spawnu('some_command')\n",
      " |          child.logfile = sys.stdout\n",
      " |      \n",
      " |      The logfile_read and logfile_send members can be used to separately log\n",
      " |      the input from the child and output sent to the child. Sometimes you\n",
      " |      don't want to see everything you write to the child. You only want to\n",
      " |      log what the child sends back. For example::\n",
      " |      \n",
      " |          child = pexpect.spawn('some_command')\n",
      " |          child.logfile_read = sys.stdout\n",
      " |      \n",
      " |      You will need to pass an encoding to spawn in the above code if you are\n",
      " |      using Python 3.\n",
      " |      \n",
      " |      To separately log output sent to the child use logfile_send::\n",
      " |      \n",
      " |          child.logfile_send = fout\n",
      " |      \n",
      " |      If ``ignore_sighup`` is True, the child process will ignore SIGHUP\n",
      " |      signals. The default is False from Pexpect 4.0, meaning that SIGHUP\n",
      " |      will be handled normally by the child.\n",
      " |      \n",
      " |      The delaybeforesend helps overcome a weird behavior that many users\n",
      " |      were experiencing. The typical problem was that a user would expect() a\n",
      " |      \"Password:\" prompt and then immediately call sendline() to send the\n",
      " |      password. The user would then see that their password was echoed back\n",
      " |      to them. Passwords don't normally echo. The problem is caused by the\n",
      " |      fact that most applications print out the \"Password\" prompt and then\n",
      " |      turn off stdin echo, but if you send your password before the\n",
      " |      application turned off echo, then you get your password echoed.\n",
      " |      Normally this wouldn't be a problem when interacting with a human at a\n",
      " |      real keyboard. If you introduce a slight delay just before writing then\n",
      " |      this seems to clear up the problem. This was such a common problem for\n",
      " |      many users that I decided that the default pexpect behavior should be\n",
      " |      to sleep just before writing to the child application. 1/20th of a\n",
      " |      second (50 ms) seems to be enough to clear up the problem. You can set\n",
      " |      delaybeforesend to None to return to the old behavior.\n",
      " |      \n",
      " |      Note that spawn is clever about finding commands on your path.\n",
      " |      It uses the same logic that \"which\" uses to find executables.\n",
      " |      \n",
      " |      If you wish to get the exit status of the child you must call the\n",
      " |      close() method. The exit or signal status of the child will be stored\n",
      " |      in self.exitstatus or self.signalstatus. If the child exited normally\n",
      " |      then exitstatus will store the exit return code and signalstatus will\n",
      " |      be None. If the child was terminated abnormally with a signal then\n",
      " |      signalstatus will store the signal value and exitstatus will be None::\n",
      " |      \n",
      " |          child = pexpect.spawn('some_command')\n",
      " |          child.close()\n",
      " |          print(child.exitstatus, child.signalstatus)\n",
      " |      \n",
      " |      If you need more detail you can also read the self.status member which\n",
      " |      stores the status returned by os.waitpid. You can interpret this using\n",
      " |      os.WIFEXITED/os.WEXITSTATUS or os.WIFSIGNALED/os.TERMSIG.\n",
      " |      \n",
      " |      The echo attribute may be set to False to disable echoing of input.\n",
      " |      As a pseudo-terminal, all input echoed by the \"keyboard\" (send()\n",
      " |      or sendline()) will be repeated to output.  For many cases, it is\n",
      " |      not desirable to have echo enabled, and it may be later disabled\n",
      " |      using setecho(False) followed by waitnoecho().  However, for some\n",
      " |      platforms such as Solaris, this is not possible, and should be\n",
      " |      disabled immediately on spawn.\n",
      " |      \n",
      " |      If preexec_fn is given, it will be called in the child process before\n",
      " |      launching the given command. This is useful to e.g. reset inherited\n",
      " |      signal handlers.\n",
      " |      \n",
      " |      The dimensions attribute specifies the size of the pseudo-terminal as\n",
      " |      seen by the subprocess, and is specified as a two-entry tuple (rows,\n",
      " |      columns). If this is unspecified, the defaults in ptyprocess will apply.\n",
      " |  \n",
      " |  __str__(self)\n",
      " |      This returns a human-readable string that represents the state of\n",
      " |      the object.\n",
      " |  \n",
      " |  close(self, force=True)\n",
      " |      This closes the connection with the child application. Note that\n",
      " |      calling close() more than once is valid. This emulates standard Python\n",
      " |      behavior with files. Set force to True if you want to make sure that\n",
      " |      the child is terminated (SIGKILL is sent if the child ignores SIGHUP\n",
      " |      and SIGINT).\n",
      " |  \n",
      " |  eof(self)\n",
      " |      This returns True if the EOF exception was ever raised.\n",
      " |  \n",
      " |  getecho(self)\n",
      " |      This returns the terminal echo mode. This returns True if echo is\n",
      " |      on or False if echo is off. Child applications that are expecting you\n",
      " |      to enter a password often set ECHO False. See waitnoecho().\n",
      " |      \n",
      " |      Not supported on platforms where ``isatty()`` returns False.\n",
      " |  \n",
      " |  getwinsize(self)\n",
      " |      This returns the terminal window size of the child tty. The return\n",
      " |      value is a tuple of (rows, cols).\n",
      " |  \n",
      " |  interact(self, escape_character='\\x1d', input_filter=None, output_filter=None)\n",
      " |      This gives control of the child process to the interactive user (the\n",
      " |      human at the keyboard). Keystrokes are sent to the child process, and\n",
      " |      the stdout and stderr output of the child process is printed. This\n",
      " |      simply echos the child stdout and child stderr to the real stdout and\n",
      " |      it echos the real stdin to the child stdin. When the user types the\n",
      " |      escape_character this method will return None. The escape_character\n",
      " |      will not be transmitted.  The default for escape_character is\n",
      " |      entered as ``Ctrl - ]``, the very same as BSD telnet. To prevent\n",
      " |      escaping, escape_character may be set to None.\n",
      " |      \n",
      " |      If a logfile is specified, then the data sent and received from the\n",
      " |      child process in interact mode is duplicated to the given log.\n",
      " |      \n",
      " |      You may pass in optional input and output filter functions. These\n",
      " |      functions should take a string and return a string. The output_filter\n",
      " |      will be passed all the output from the child process. The input_filter\n",
      " |      will be passed all the keyboard input from the user. The input_filter\n",
      " |      is run BEFORE the check for the escape_character.\n",
      " |      \n",
      " |      Note that if you change the window size of the parent the SIGWINCH\n",
      " |      signal will not be passed through to the child. If you want the child\n",
      " |      window size to change when the parent's window size changes then do\n",
      " |      something like the following example::\n",
      " |      \n",
      " |          import pexpect, struct, fcntl, termios, signal, sys\n",
      " |          def sigwinch_passthrough (sig, data):\n",
      " |              s = struct.pack(\"HHHH\", 0, 0, 0, 0)\n",
      " |              a = struct.unpack('hhhh', fcntl.ioctl(sys.stdout.fileno(),\n",
      " |                  termios.TIOCGWINSZ , s))\n",
      " |              global p\n",
      " |              p.setwinsize(a[0],a[1])\n",
      " |          # Note this 'p' global and used in sigwinch_passthrough.\n",
      " |          p = pexpect.spawn('/bin/bash')\n",
      " |          signal.signal(signal.SIGWINCH, sigwinch_passthrough)\n",
      " |          p.interact()\n",
      " |  \n",
      " |  isalive(self)\n",
      " |      This tests if the child process is running or not. This is\n",
      " |      non-blocking. If the child was terminated then this will read the\n",
      " |      exitstatus or signalstatus of the child. This returns True if the child\n",
      " |      process appears to be running or False if not. It can take literally\n",
      " |      SECONDS for Solaris to return the right status.\n",
      " |  \n",
      " |  isatty(self)\n",
      " |      This returns True if the file descriptor is open and connected to a\n",
      " |      tty(-like) device, else False.\n",
      " |      \n",
      " |      On SVR4-style platforms implementing streams, such as SunOS and HP-UX,\n",
      " |      the child pty may not appear as a terminal device.  This means\n",
      " |      methods such as setecho(), setwinsize(), getwinsize() may raise an\n",
      " |      IOError.\n",
      " |  \n",
      " |  kill(self, sig)\n",
      " |      This sends the given signal to the child application. In keeping\n",
      " |      with UNIX tradition it has a misleading name. It does not necessarily\n",
      " |      kill the child unless you send the right signal.\n",
      " |  \n",
      " |  read_nonblocking(self, size=1, timeout=-1)\n",
      " |      This reads at most size characters from the child application. It\n",
      " |      includes a timeout. If the read does not complete within the timeout\n",
      " |      period then a TIMEOUT exception is raised. If the end of file is read\n",
      " |      then an EOF exception will be raised.  If a logfile is specified, a\n",
      " |      copy is written to that log.\n",
      " |      \n",
      " |      If timeout is None then the read may block indefinitely.\n",
      " |      If timeout is -1 then the self.timeout value is used. If timeout is 0\n",
      " |      then the child is polled and if there is no data immediately ready\n",
      " |      then this will raise a TIMEOUT exception.\n",
      " |      \n",
      " |      The timeout refers only to the amount of time to read at least one\n",
      " |      character. This is not affected by the 'size' parameter, so if you call\n",
      " |      read_nonblocking(size=100, timeout=30) and only one character is\n",
      " |      available right away then one character will be returned immediately.\n",
      " |      It will not wait for 30 seconds for another 99 characters to come in.\n",
      " |      \n",
      " |      This is a wrapper around os.read(). It uses select.select() to\n",
      " |      implement the timeout.\n",
      " |  \n",
      " |  send(self, s)\n",
      " |      Sends string ``s`` to the child process, returning the number of\n",
      " |      bytes written. If a logfile is specified, a copy is written to that\n",
      " |      log.\n",
      " |      \n",
      " |      The default terminal input mode is canonical processing unless set\n",
      " |      otherwise by the child process. This allows backspace and other line\n",
      " |      processing to be performed prior to transmitting to the receiving\n",
      " |      program. As this is buffered, there is a limited size of such buffer.\n",
      " |      \n",
      " |      On Linux systems, this is 4096 (defined by N_TTY_BUF_SIZE). All\n",
      " |      other systems honor the POSIX.1 definition PC_MAX_CANON -- 1024\n",
      " |      on OSX, 256 on OpenSolaris, and 1920 on FreeBSD.\n",
      " |      \n",
      " |      This value may be discovered using fpathconf(3)::\n",
      " |      \n",
      " |          >>> from os import fpathconf\n",
      " |          >>> print(fpathconf(0, 'PC_MAX_CANON'))\n",
      " |          256\n",
      " |      \n",
      " |      On such a system, only 256 bytes may be received per line. Any\n",
      " |      subsequent bytes received will be discarded. BEL (``'\u0007'``) is then\n",
      " |      sent to output if IMAXBEL (termios.h) is set by the tty driver.\n",
      " |      This is usually enabled by default.  Linux does not honor this as\n",
      " |      an option -- it behaves as though it is always set on.\n",
      " |      \n",
      " |      Canonical input processing may be disabled altogether by executing\n",
      " |      a shell, then stty(1), before executing the final program::\n",
      " |      \n",
      " |          >>> bash = pexpect.spawn('/bin/bash', echo=False)\n",
      " |          >>> bash.sendline('stty -icanon')\n",
      " |          >>> bash.sendline('base64')\n",
      " |          >>> bash.sendline('x' * 5000)\n",
      " |  \n",
      " |  sendcontrol(self, char)\n",
      " |      Helper method that wraps send() with mnemonic access for sending control\n",
      " |      character to the child (such as Ctrl-C or Ctrl-D).  For example, to send\n",
      " |      Ctrl-G (ASCII 7, bell, '\u0007')::\n",
      " |      \n",
      " |          child.sendcontrol('g')\n",
      " |      \n",
      " |      See also, sendintr() and sendeof().\n",
      " |  \n",
      " |  sendeof(self)\n",
      " |      This sends an EOF to the child. This sends a character which causes\n",
      " |      the pending parent output buffer to be sent to the waiting child\n",
      " |      program without waiting for end-of-line. If it is the first character\n",
      " |      of the line, the read() in the user program returns 0, which signifies\n",
      " |      end-of-file. This means to work as expected a sendeof() has to be\n",
      " |      called at the beginning of a line. This method does not send a newline.\n",
      " |      It is the responsibility of the caller to ensure the eof is sent at the\n",
      " |      beginning of a line.\n",
      " |  \n",
      " |  sendintr(self)\n",
      " |      This sends a SIGINT to the child. It does not require\n",
      " |      the SIGINT to be the first character on a line.\n",
      " |  \n",
      " |  sendline(self, s='')\n",
      " |      Wraps send(), sending string ``s`` to child process, with\n",
      " |      ``os.linesep`` automatically appended. Returns number of bytes\n",
      " |      written.  Only a limited number of bytes may be sent for each\n",
      " |      line in the default terminal mode, see docstring of :meth:`send`.\n",
      " |  \n",
      " |  setecho(self, state)\n",
      " |      This sets the terminal echo mode on or off. Note that anything the\n",
      " |      child sent before the echo will be lost, so you should be sure that\n",
      " |      your input buffer is empty before you call setecho(). For example, the\n",
      " |      following will work as expected::\n",
      " |      \n",
      " |          p = pexpect.spawn('cat') # Echo is on by default.\n",
      " |          p.sendline('1234') # We expect see this twice from the child...\n",
      " |          p.expect(['1234']) # ... once from the tty echo...\n",
      " |          p.expect(['1234']) # ... and again from cat itself.\n",
      " |          p.setecho(False) # Turn off tty echo\n",
      " |          p.sendline('abcd') # We will set this only once (echoed by cat).\n",
      " |          p.sendline('wxyz') # We will set this only once (echoed by cat)\n",
      " |          p.expect(['abcd'])\n",
      " |          p.expect(['wxyz'])\n",
      " |      \n",
      " |      The following WILL NOT WORK because the lines sent before the setecho\n",
      " |      will be lost::\n",
      " |      \n",
      " |          p = pexpect.spawn('cat')\n",
      " |          p.sendline('1234')\n",
      " |          p.setecho(False) # Turn off tty echo\n",
      " |          p.sendline('abcd') # We will set this only once (echoed by cat).\n",
      " |          p.sendline('wxyz') # We will set this only once (echoed by cat)\n",
      " |          p.expect(['1234'])\n",
      " |          p.expect(['1234'])\n",
      " |          p.expect(['abcd'])\n",
      " |          p.expect(['wxyz'])\n",
      " |      \n",
      " |      \n",
      " |      Not supported on platforms where ``isatty()`` returns False.\n",
      " |  \n",
      " |  setwinsize(self, rows, cols)\n",
      " |      This sets the terminal window size of the child tty. This will cause\n",
      " |      a SIGWINCH signal to be sent to the child. This does not change the\n",
      " |      physical window size. It changes the size reported to TTY-aware\n",
      " |      applications like vi or curses -- applications that respond to the\n",
      " |      SIGWINCH signal.\n",
      " |  \n",
      " |  terminate(self, force=False)\n",
      " |      This forces a child process to terminate. It starts nicely with\n",
      " |      SIGHUP and SIGINT. If \"force\" is True then moves onto SIGKILL. This\n",
      " |      returns True if the child was terminated. This returns False if the\n",
      " |      child could not be terminated.\n",
      " |  \n",
      " |  wait(self)\n",
      " |      This waits until the child exits. This is a blocking call. This will\n",
      " |      not read any data from the child, so this will block forever if the\n",
      " |      child has unread output and has terminated. In other words, the child\n",
      " |      may have printed output then called exit(), but, the child is\n",
      " |      technically still alive until its output is read by the parent.\n",
      " |      \n",
      " |      This method is non-blocking if :meth:`wait` has already been called\n",
      " |      previously or :meth:`isalive` method returns False.  It simply returns\n",
      " |      the previously determined exit status.\n",
      " |  \n",
      " |  waitnoecho(self, timeout=-1)\n",
      " |      This waits until the terminal ECHO flag is set False. This returns\n",
      " |      True if the echo mode is off. This returns False if the ECHO flag was\n",
      " |      not set False before the timeout. This can be used to detect when the\n",
      " |      child is waiting for a password. Usually a child application will turn\n",
      " |      off echo mode when it is waiting for the user to enter a password. For\n",
      " |      example, instead of expecting the \"password:\" prompt you can wait for\n",
      " |      the child to set ECHO off::\n",
      " |      \n",
      " |          p = pexpect.spawn('ssh user@example.com')\n",
      " |          p.waitnoecho()\n",
      " |          p.sendline(mypassword)\n",
      " |      \n",
      " |      If timeout==-1 then this method will use the value in self.timeout.\n",
      " |      If timeout==None then this method to block until ECHO flag is False.\n",
      " |  \n",
      " |  write(self, s)\n",
      " |      This is similar to send() except that there is no return value.\n",
      " |  \n",
      " |  writelines(self, sequence)\n",
      " |      This calls write() for each element in the sequence. The sequence\n",
      " |      can be any iterable object producing strings, typically a list of\n",
      " |      strings. This does not add line separators. There is no return value.\n",
      " |  \n",
      " |  ----------------------------------------------------------------------\n",
      " |  Data descriptors defined here:\n",
      " |  \n",
      " |  flag_eof\n",
      " |      bool(x) -> bool\n",
      " |      \n",
      " |      Returns True when the argument x is true, False otherwise.\n",
      " |      The builtins True and False are the only two instances of the class bool.\n",
      " |      The class bool is a subclass of the class int, and cannot be subclassed.\n",
      " |  \n",
      " |  ----------------------------------------------------------------------\n",
      " |  Data and other attributes defined here:\n",
      " |  \n",
      " |  use_native_pty_fork = True\n",
      " |  \n",
      " |  ----------------------------------------------------------------------\n",
      " |  Methods inherited from pexpect.spawnbase.SpawnBase:\n",
      " |  \n",
      " |  __enter__(self)\n",
      " |      # For 'with spawn(...) as child:'\n",
      " |  \n",
      " |  __exit__(self, etype, evalue, tb)\n",
      " |  \n",
      " |  __iter__(self)\n",
      " |      This is to support iterators over a file-like object.\n",
      " |  \n",
      " |  compile_pattern_list(self, patterns)\n",
      " |      This compiles a pattern-string or a list of pattern-strings.\n",
      " |      Patterns must be a StringType, EOF, TIMEOUT, SRE_Pattern, or a list of\n",
      " |      those. Patterns may also be None which results in an empty list (you\n",
      " |      might do this if waiting for an EOF or TIMEOUT condition without\n",
      " |      expecting any pattern).\n",
      " |      \n",
      " |      This is used by expect() when calling expect_list(). Thus expect() is\n",
      " |      nothing more than::\n",
      " |      \n",
      " |           cpl = self.compile_pattern_list(pl)\n",
      " |           return self.expect_list(cpl, timeout)\n",
      " |      \n",
      " |      If you are using expect() within a loop it may be more\n",
      " |      efficient to compile the patterns first and then call expect_list().\n",
      " |      This avoid calls in a loop to compile_pattern_list()::\n",
      " |      \n",
      " |           cpl = self.compile_pattern_list(my_pattern)\n",
      " |           while some_condition:\n",
      " |              ...\n",
      " |              i = self.expect_list(cpl, timeout)\n",
      " |              ...\n",
      " |  \n",
      " |  expect(self, pattern, timeout=-1, searchwindowsize=-1, async=False)\n",
      " |      This seeks through the stream until a pattern is matched. The\n",
      " |      pattern is overloaded and may take several types. The pattern can be a\n",
      " |      StringType, EOF, a compiled re, or a list of any of those types.\n",
      " |      Strings will be compiled to re types. This returns the index into the\n",
      " |      pattern list. If the pattern was not a list this returns index 0 on a\n",
      " |      successful match. This may raise exceptions for EOF or TIMEOUT. To\n",
      " |      avoid the EOF or TIMEOUT exceptions add EOF or TIMEOUT to the pattern\n",
      " |      list. That will cause expect to match an EOF or TIMEOUT condition\n",
      " |      instead of raising an exception.\n",
      " |      \n",
      " |      If you pass a list of patterns and more than one matches, the first\n",
      " |      match in the stream is chosen. If more than one pattern matches at that\n",
      " |      point, the leftmost in the pattern list is chosen. For example::\n",
      " |      \n",
      " |          # the input is 'foobar'\n",
      " |          index = p.expect(['bar', 'foo', 'foobar'])\n",
      " |          # returns 1('foo') even though 'foobar' is a \"better\" match\n",
      " |      \n",
      " |      Please note, however, that buffering can affect this behavior, since\n",
      " |      input arrives in unpredictable chunks. For example::\n",
      " |      \n",
      " |          # the input is 'foobar'\n",
      " |          index = p.expect(['foobar', 'foo'])\n",
      " |          # returns 0('foobar') if all input is available at once,\n",
      " |          # but returs 1('foo') if parts of the final 'bar' arrive late\n",
      " |      \n",
      " |      When a match is found for the given pattern, the class instance\n",
      " |      attribute *match* becomes an re.MatchObject result.  Should an EOF\n",
      " |      or TIMEOUT pattern match, then the match attribute will be an instance\n",
      " |      of that exception class.  The pairing before and after class\n",
      " |      instance attributes are views of the data preceding and following\n",
      " |      the matching pattern.  On general exception, class attribute\n",
      " |      *before* is all data received up to the exception, while *match* and\n",
      " |      *after* attributes are value None.\n",
      " |      \n",
      " |      When the keyword argument timeout is -1 (default), then TIMEOUT will\n",
      " |      raise after the default value specified by the class timeout\n",
      " |      attribute. When None, TIMEOUT will not be raised and may block\n",
      " |      indefinitely until match.\n",
      " |      \n",
      " |      When the keyword argument searchwindowsize is -1 (default), then the\n",
      " |      value specified by the class maxread attribute is used.\n",
      " |      \n",
      " |      A list entry may be EOF or TIMEOUT instead of a string. This will\n",
      " |      catch these exceptions and return the index of the list entry instead\n",
      " |      of raising the exception. The attribute 'after' will be set to the\n",
      " |      exception type. The attribute 'match' will be None. This allows you to\n",
      " |      write code like this::\n",
      " |      \n",
      " |              index = p.expect(['good', 'bad', pexpect.EOF, pexpect.TIMEOUT])\n",
      " |              if index == 0:\n",
      " |                  do_something()\n",
      " |              elif index == 1:\n",
      " |                  do_something_else()\n",
      " |              elif index == 2:\n",
      " |                  do_some_other_thing()\n",
      " |              elif index == 3:\n",
      " |                  do_something_completely_different()\n",
      " |      \n",
      " |      instead of code like this::\n",
      " |      \n",
      " |              try:\n",
      " |                  index = p.expect(['good', 'bad'])\n",
      " |                  if index == 0:\n",
      " |                      do_something()\n",
      " |                  elif index == 1:\n",
      " |                      do_something_else()\n",
      " |              except EOF:\n",
      " |                  do_some_other_thing()\n",
      " |              except TIMEOUT:\n",
      " |                  do_something_completely_different()\n",
      " |      \n",
      " |      These two forms are equivalent. It all depends on what you want. You\n",
      " |      can also just expect the EOF if you are waiting for all output of a\n",
      " |      child to finish. For example::\n",
      " |      \n",
      " |              p = pexpect.spawn('/bin/ls')\n",
      " |              p.expect(pexpect.EOF)\n",
      " |              print p.before\n",
      " |      \n",
      " |      If you are trying to optimize for speed then see expect_list().\n",
      " |      \n",
      " |      On Python 3.4, or Python 3.3 with asyncio installed, passing\n",
      " |      ``async=True``  will make this return an :mod:`asyncio` coroutine,\n",
      " |      which you can yield from to get the same result that this method would\n",
      " |      normally give directly. So, inside a coroutine, you can replace this code::\n",
      " |      \n",
      " |          index = p.expect(patterns)\n",
      " |      \n",
      " |      With this non-blocking form::\n",
      " |      \n",
      " |          index = yield from p.expect(patterns, async=True)\n",
      " |  \n",
      " |  expect_exact(self, pattern_list, timeout=-1, searchwindowsize=-1, async=False)\n",
      " |      This is similar to expect(), but uses plain string matching instead\n",
      " |      of compiled regular expressions in 'pattern_list'. The 'pattern_list'\n",
      " |      may be a string; a list or other sequence of strings; or TIMEOUT and\n",
      " |      EOF.\n",
      " |      \n",
      " |      This call might be faster than expect() for two reasons: string\n",
      " |      searching is faster than RE matching and it is possible to limit the\n",
      " |      search to just the end of the input buffer.\n",
      " |      \n",
      " |      This method is also useful when you don't want to have to worry about\n",
      " |      escaping regular expression characters that you want to match.\n",
      " |      \n",
      " |      Like :meth:`expect`, passing ``async=True`` will make this return an\n",
      " |      asyncio coroutine.\n",
      " |  \n",
      " |  expect_list(self, pattern_list, timeout=-1, searchwindowsize=-1, async=False)\n",
      " |      This takes a list of compiled regular expressions and returns the\n",
      " |      index into the pattern_list that matched the child output. The list may\n",
      " |      also contain EOF or TIMEOUT(which are not compiled regular\n",
      " |      expressions). This method is similar to the expect() method except that\n",
      " |      expect_list() does not recompile the pattern list on every call. This\n",
      " |      may help if you are trying to optimize for speed, otherwise just use\n",
      " |      the expect() method.  This is called by expect().\n",
      " |      \n",
      " |      \n",
      " |      Like :meth:`expect`, passing ``async=True`` will make this return an\n",
      " |      asyncio coroutine.\n",
      " |  \n",
      " |  expect_loop(self, searcher, timeout=-1, searchwindowsize=-1)\n",
      " |      This is the common loop used inside expect. The 'searcher' should be\n",
      " |      an instance of searcher_re or searcher_string, which describes how and\n",
      " |      what to search for in the input.\n",
      " |      \n",
      " |      See expect() for other arguments, return value and exceptions.\n",
      " |  \n",
      " |  fileno(self)\n",
      " |      Expose file descriptor for a file-like interface\n",
      " |  \n",
      " |  flush(self)\n",
      " |      This does nothing. It is here to support the interface for a\n",
      " |      File-like object.\n",
      " |  \n",
      " |  read(self, size=-1)\n",
      " |      This reads at most \"size\" bytes from the file (less if the read hits\n",
      " |      EOF before obtaining size bytes). If the size argument is negative or\n",
      " |      omitted, read all data until EOF is reached. The bytes are returned as\n",
      " |      a string object. An empty string is returned when EOF is encountered\n",
      " |      immediately.\n",
      " |  \n",
      " |  readline(self, size=-1)\n",
      " |      This reads and returns one entire line. The newline at the end of\n",
      " |      line is returned as part of the string, unless the file ends without a\n",
      " |      newline. An empty string is returned if EOF is encountered immediately.\n",
      " |      This looks for a newline as a CR/LF pair (\\r\\n) even on UNIX because\n",
      " |      this is what the pseudotty device returns. So contrary to what you may\n",
      " |      expect you will receive newlines as \\r\\n.\n",
      " |      \n",
      " |      If the size argument is 0 then an empty string is returned. In all\n",
      " |      other cases the size argument is ignored, which is not standard\n",
      " |      behavior for a file-like object.\n",
      " |  \n",
      " |  readlines(self, sizehint=-1)\n",
      " |      This reads until EOF using readline() and returns a list containing\n",
      " |      the lines thus read. The optional 'sizehint' argument is ignored.\n",
      " |      Remember, because this reads until EOF that means the child\n",
      " |      process should have closed its stdout. If you run this method on\n",
      " |      a child that is still running with its stdout open then this\n",
      " |      method will block until it timesout.\n",
      " |  \n",
      " |  ----------------------------------------------------------------------\n",
      " |  Data descriptors inherited from pexpect.spawnbase.SpawnBase:\n",
      " |  \n",
      " |  __dict__\n",
      " |      dictionary for instance variables (if defined)\n",
      " |  \n",
      " |  __weakref__\n",
      " |      list of weak references to the object (if defined)\n",
      " |  \n",
      " |  ----------------------------------------------------------------------\n",
      " |  Data and other attributes inherited from pexpect.spawnbase.SpawnBase:\n",
      " |  \n",
      " |  encoding = None\n",
      " |  \n",
      " |  pid = None\n",
      "\n"
     ]
    }
   ],
   "source": [
    "help(p)"
   ]
  },
  {
   "cell_type": "code",
   "execution_count": 108,
   "metadata": {},
   "outputs": [
    {
     "name": "stderr",
     "output_type": "stream",
     "text": [
      "UsageError: Line magic function `%use` not found.\n"
     ]
    }
   ],
   "source": [
    "child = pexpect.spawnu('some_command')\n",
    "child.logfile = sys.stdout"
   ]
  },
  {
   "cell_type": "code",
   "execution_count": null,
   "metadata": {},
   "outputs": [],
   "source": []
  },
  {
   "cell_type": "code",
   "execution_count": null,
   "metadata": {},
   "outputs": [],
   "source": []
  }
 ],
 "metadata": {
  "kernelspec": {
   "display_name": "Python 3",
   "language": "python",
   "name": "python3"
  },
  "language_info": {
   "codemirror_mode": {
    "name": "ipython",
    "version": 3
   },
   "file_extension": ".py",
   "mimetype": "text/x-python",
   "name": "python",
   "nbconvert_exporter": "python",
   "pygments_lexer": "ipython3",
   "version": "3.6.7"
  }
 },
 "nbformat": 4,
 "nbformat_minor": 2
}
