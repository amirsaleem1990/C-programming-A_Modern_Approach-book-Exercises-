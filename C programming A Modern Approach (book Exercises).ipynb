{
 "cells": [
  {
   "cell_type": "code",
   "execution_count": null,
   "metadata": {},
   "outputs": [],
   "source": [
    "def write_and_compile():\n",
    "    !rm -f c_program\n",
    "    with open('c_program.c', 'w') as file:\n",
    "        file.write(c_program)\n",
    "    !gcc -o c_program c_program.c\n",
    "    !./c_program"
   ]
  },
  {
   "cell_type": "markdown",
   "metadata": {},
   "source": [
    "# Q#1: "
   ]
  },
  {
   "cell_type": "code",
   "execution_count": null,
   "metadata": {},
   "outputs": [],
   "source": [
    "### create and run program:\n",
    "#include <stdio.h>\n",
    "# int main(void){\n",
    "#     printf(\"hello, world\\n\");\n",
    "# }\n",
    "# do you get a warning massage from the compiler? if so, what's need to make it go away"
   ]
  },
  {
   "cell_type": "code",
   "execution_count": null,
   "metadata": {},
   "outputs": [],
   "source": [
    "c_program = \"\"\"\n",
    "#include <stdio.h>\n",
    "int main(void){\n",
    "    printf(\"hello, world\\n\");\n",
    "}\n",
    "\"\"\"\n",
    "write_and_compile()"
   ]
  },
  {
   "cell_type": "code",
   "execution_count": null,
   "metadata": {},
   "outputs": [],
   "source": [
    "# The error becouse i use <\\n> in the string, which i can not do, se i have to remove this <\\n>\n",
    "c_program = \"\"\"\n",
    "#include <stdio.h>\n",
    "int main(void){\n",
    "    printf(\"hello, world\");\n",
    "}\n",
    "\"\"\"\n",
    "write_and_compile()"
   ]
  },
  {
   "cell_type": "markdown",
   "metadata": {},
   "source": [
    "<img src=\"chapter-2-excersices/2.png\">"
   ]
  },
  {
   "cell_type": "code",
   "execution_count": null,
   "metadata": {},
   "outputs": [],
   "source": [
    "# directives: #include <stdio.h>\n",
    "# statements: printf, return\n",
    "c_program = \"\"\"\n",
    "#include <stdio.h>\n",
    "int main(void){\n",
    "    printf(\"Parkinson's Law:\\\\nWork expands so as to \");\n",
    "    printf(\"fill the time\\\\n\");\n",
    "    printf(\"available for its completion\\\\n\");\n",
    "    return 0;\n",
    "}\n",
    "\"\"\"\n",
    "write_and_compile()"
   ]
  },
  {
   "cell_type": "markdown",
   "metadata": {},
   "source": [
    "<img src=\"chapter-2-excersices/3.png\">"
   ]
  },
  {
   "cell_type": "code",
   "execution_count": null,
   "metadata": {},
   "outputs": [],
   "source": [
    "c_program = \"\"\"\n",
    "#include <stdio.h>\n",
    "int main(void){\n",
    "    int height = 8;\n",
    "    int length = 12;\n",
    "    int width = 10;\n",
    "    int volume = height * length * width;\n",
    "    printf(\"Dimensions: %dx%dx%d\\\\n\", length, width, height);\n",
    "    printf(\"Volume (cubic inches): %d\\\\n\", volume);\n",
    "    printf(\"Dimensional weight (pounds): %d\\\\n\", (volume + 165) / 166);\n",
    "    \n",
    "    return 0;\n",
    "}\n",
    "\"\"\"\n",
    "write_and_compile()"
   ]
  },
  {
   "cell_type": "markdown",
   "metadata": {},
   "source": [
    "<img src=\"chapter-2-excersices/4.png\">"
   ]
  },
  {
   "cell_type": "code",
   "execution_count": null,
   "metadata": {},
   "outputs": [],
   "source": [
    "c_program = \"\"\"\n",
    "#include <stdio.h>\n",
    "int main(void){\n",
    "    int int_1, int_2, int_3;\n",
    "    float f_1, f_2, f_3;\n",
    "    printf(\"%d      %d      %d\\\\n\", int_1, int_2, int_3);\n",
    "    printf(\"%f      %f      %f\\\\n\", f_1, f_2, f_3);\n",
    "    return 0;\n",
    "}\n",
    "\"\"\"\n",
    "write_and_compile()"
   ]
  },
  {
   "cell_type": "markdown",
   "metadata": {},
   "source": [
    "<img src=\"chapter-2-excersices/5.png\">"
   ]
  },
  {
   "cell_type": "markdown",
   "metadata": {},
   "source": [
    "# <font color='red'>a</font>"
   ]
  },
  {
   "cell_type": "markdown",
   "metadata": {},
   "source": [
    "<img src=\"chapter-2-excersices/6.png\">"
   ]
  },
  {
   "cell_type": "markdown",
   "metadata": {},
   "source": [
    "# <font color='red'>A- we need underscore to easy to understand variable name, and this is obtained by single under score, so we don'd need one more.</font>"
   ]
  },
  {
   "cell_type": "markdown",
   "metadata": {},
   "source": [
    "<img src=\"chapter-2-excersices/7.png\">"
   ]
  },
  {
   "cell_type": "markdown",
   "metadata": {},
   "source": [
    "# <font color='red'>a, b, e</font>"
   ]
  },
  {
   "cell_type": "markdown",
   "metadata": {},
   "source": [
    "<img src=\"chapter-2-excersices/8.png\">"
   ]
  },
  {
   "cell_type": "markdown",
   "metadata": {},
   "source": [
    "<img src=\"chapter-2-excersices/9.png\">"
   ]
  },
  {
   "cell_type": "markdown",
   "metadata": {},
   "source": [
    "<img src=\"chapter-2-excersices/10.png\">"
   ]
  },
  {
   "cell_type": "markdown",
   "metadata": {},
   "source": [
    "# <center><font color='red' size=15>Programming Projects</font>"
   ]
  },
  {
   "cell_type": "markdown",
   "metadata": {},
   "source": [
    "<img src=\"chapter-2-excersices/11.png\">"
   ]
  },
  {
   "cell_type": "code",
   "execution_count": null,
   "metadata": {},
   "outputs": [],
   "source": [
    "c_program = \"\"\"\n",
    "#include <stdio.h>\n",
    "int main(void){\n",
    "    char x='*';\n",
    "    printf(\"       %c\\\\n\", x);\n",
    "    printf(\"      %c\\\\n\", x);\n",
    "    printf(\"     %c\\\\n\", x);\n",
    "    printf(\"%c   %c\\\\n\", x, x);\n",
    "    printf(\" %c %c\\\\n\", x, x);\n",
    "    printf(\"  %c \\\\n\", x);\n",
    "    return 0;\n",
    "}\n",
    "\"\"\"\n",
    "write_and_compile()"
   ]
  },
  {
   "cell_type": "markdown",
   "metadata": {},
   "source": [
    "<img src=\"chapter-2-excersices/12.png\">"
   ]
  },
  {
   "cell_type": "code",
   "execution_count": null,
   "metadata": {},
   "outputs": [],
   "source": [
    "c_program = \"\"\"\n",
    "#include <stdio.h>\n",
    "int main(void){\n",
    "    int radius=10;\n",
    "    float pie=3.14;\n",
    "    float volume = (4.0f/3.0f)*pie*(radius*radius*radius);\n",
    "    printf(\"Volume: %f\\\\n\", volume);\n",
    "    return 0;\n",
    "}\n",
    "\"\"\"\n",
    "write_and_compile()"
   ]
  },
  {
   "cell_type": "markdown",
   "metadata": {},
   "source": [
    "<img src=\"chapter-2-excersices/13.png\">"
   ]
  },
  {
   "cell_type": "code",
   "execution_count": null,
   "metadata": {},
   "outputs": [],
   "source": [
    "# This program is ok, but we can't take user input here\n",
    "c_program = \"\"\"\n",
    "#include <stdio.h>\n",
    "int main(void){\n",
    "    int radius;\n",
    "    printf(\"Enter radius (in integer form)\\\\n\");\n",
    "    scanf(\"%d\", &radius);\n",
    "    float pie=3.14;\n",
    "    float volume = (4.0f/3.0f)*pie*(radius*radius*radius);\n",
    "    printf(\"Volume: %f\\\\n\", volume);\n",
    "    return 0;\n",
    "}\n",
    "\"\"\"\n",
    "write_and_compile()"
   ]
  },
  {
   "cell_type": "markdown",
   "metadata": {},
   "source": [
    "<img src=\"chapter-2-excersices/14.png\">"
   ]
  },
  {
   "cell_type": "code",
   "execution_count": null,
   "metadata": {},
   "outputs": [],
   "source": [
    "# This program is ok, but we can't take user input here\n",
    "c_program = \"\"\"\n",
    "#include <stdio.h>\n",
    "int main(void){\n",
    "    float amount;\n",
    "    float with_tax;\n",
    "    printf(\"Enter Amount\\n\");\n",
    "    scanf(\"%f\", &amount);\n",
    "    printf(\"With tax added: %f\\n\", amount * 1.05);\n",
    "    return 0;\n",
    "}\n",
    "\"\"\"\n",
    "write_and_compile()"
   ]
  },
  {
   "cell_type": "markdown",
   "metadata": {},
   "source": [
    "<img src=\"chapter-2-excersices/15.png\">"
   ]
  },
  {
   "cell_type": "code",
   "execution_count": null,
   "metadata": {},
   "outputs": [],
   "source": [
    "# This program is ok, but we can't take user input here\n",
    "c_program = \"\"\"\n",
    "#include <stdio.h>\n",
    "int main(void){\n",
    "    int x;\n",
    "    printf(\"Enter a number\\n\");\n",
    "    scanf(\"%d\", &x);\n",
    "    printf(\"Polynomial: %d\\n\", 3*(x*x*x*x*x)+ 2*(x*x*x*x) - 5*(x*x*x) - (x*x) + (7*x) -6);\n",
    "    return 0;\n",
    "}\n",
    "\"\"\"\n",
    "write_and_compile()"
   ]
  },
  {
   "cell_type": "markdown",
   "metadata": {},
   "source": [
    "<img src=\"chapter-2-excersices/16.png\">"
   ]
  },
  {
   "cell_type": "code",
   "execution_count": null,
   "metadata": {},
   "outputs": [],
   "source": [
    "# This program is ok, but we can't take user input here\n",
    "c_program = \"\"\"\n",
    "#include <stdio.h>\n",
    "int main(void){\n",
    "    int x;\n",
    "    printf(\"Enter a number\\n\");\n",
    "    scanf(\"%d\", &x);\n",
    "    printf(\"Polynomial: %d\\n\", ((((3*x + 2)*x-5)*x-1)*x+7)*x-6);\n",
    "    return 0;\n",
    "}\n",
    "\"\"\"\n",
    "write_and_compile()"
   ]
  },
  {
   "cell_type": "markdown",
   "metadata": {},
   "source": [
    "<img src=\"chapter-2-excersices/17.png\">\n",
    "<img src=\"chapter-2-excersices/18.png\">"
   ]
  },
  {
   "cell_type": "code",
   "execution_count": 34,
   "metadata": {},
   "outputs": [],
   "source": [
    "# This program is ok, but we can't take user input here\n",
    "c_program = \"\"\"\n",
    "#include <stdio.h>\n",
    "int main(void){\n",
    "    int dollers, twentys,balance, ten, five, one;\n",
    "    printf(\"Enter a number:       \");\n",
    "    scanf(\"%d\", &dollers);\n",
    "    twentys = (dollers - (dollers % 20)) / 20;\n",
    "    balance = dollers - (twentys * 20);\n",
    "    ten = (balance - (balance % 10)) / 10;\n",
    "    balance = balance - (ten * 10);\n",
    "    five = (balance - (balance % 5)) / 5;\n",
    "    balance = balance - (five * 5);\n",
    "    one = (balance - (balance % 1)) / 1;\n",
    "    balance = balance - (one * 1);\n",
    "    printf(\"$20 Bills:     %d\\n\", twentys);\n",
    "    printf(\"$10 Bills:     %d\\n\", ten);\n",
    "    printf(\"$5 Bills:     %d\\n\", five);\n",
    "    printf(\"$1 Bills:     %d\\n\", one);\n",
    "    return 0;\n",
    "}\n",
    "\"\"\"\n",
    "# write_and_compile()"
   ]
  },
  {
   "cell_type": "markdown",
   "metadata": {},
   "source": [
    "<img src=\"chapter-2-excersices/19.png\">"
   ]
  },
  {
   "cell_type": "code",
   "execution_count": null,
   "metadata": {},
   "outputs": [],
   "source": []
  },
  {
   "cell_type": "code",
   "execution_count": null,
   "metadata": {},
   "outputs": [],
   "source": []
  },
  {
   "cell_type": "code",
   "execution_count": null,
   "metadata": {},
   "outputs": [],
   "source": []
  },
  {
   "cell_type": "code",
   "execution_count": null,
   "metadata": {},
   "outputs": [],
   "source": []
  },
  {
   "cell_type": "code",
   "execution_count": null,
   "metadata": {},
   "outputs": [],
   "source": []
  },
  {
   "cell_type": "code",
   "execution_count": null,
   "metadata": {},
   "outputs": [],
   "source": []
  },
  {
   "cell_type": "code",
   "execution_count": null,
   "metadata": {},
   "outputs": [],
   "source": []
  }
 ],
 "metadata": {
  "kernelspec": {
   "display_name": "Python 3",
   "language": "python",
   "name": "python3"
  },
  "language_info": {
   "codemirror_mode": {
    "name": "ipython",
    "version": 3
   },
   "file_extension": ".py",
   "mimetype": "text/x-python",
   "name": "python",
   "nbconvert_exporter": "python",
   "pygments_lexer": "ipython3",
   "version": "3.6.7"
  }
 },
 "nbformat": 4,
 "nbformat_minor": 2
}
