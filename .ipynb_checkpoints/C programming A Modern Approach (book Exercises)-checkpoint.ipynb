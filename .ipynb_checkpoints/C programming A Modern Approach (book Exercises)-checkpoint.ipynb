{
 "cells": [
  {
   "cell_type": "code",
   "execution_count": 1,
   "metadata": {},
   "outputs": [],
   "source": [
    "def write_and_compile():\n",
    "    !rm -f c_program\n",
    "    with open('c_program.c', 'w') as file:\n",
    "        file.write(c_program)\n",
    "    !gcc -o c_program c_program.c\n",
    "    !./c_program"
   ]
  },
  {
   "cell_type": "markdown",
   "metadata": {},
   "source": [
    "# Q#1: "
   ]
  },
  {
   "cell_type": "code",
   "execution_count": null,
   "metadata": {},
   "outputs": [],
   "source": [
    "### create and run program:\n",
    "#include <stdio.h>\n",
    "# int main(void){\n",
    "#     printf(\"hello, world\\n\");\n",
    "# }\n",
    "# do you get a warning massage from the compiler? if so, what's need to make it go away"
   ]
  },
  {
   "cell_type": "code",
   "execution_count": null,
   "metadata": {},
   "outputs": [],
   "source": [
    "c_program = \"\"\"\n",
    "#include <stdio.h>\n",
    "int main(void){\n",
    "    printf(\"hello, world\\n\");\n",
    "}\n",
    "\"\"\"\n",
    "write_and_compile()"
   ]
  },
  {
   "cell_type": "code",
   "execution_count": null,
   "metadata": {},
   "outputs": [],
   "source": [
    "# The error becouse i use <\\n> in the string, which i can not do, se i have to remove this <\\n>\n",
    "c_program = \"\"\"\n",
    "#include <stdio.h>\n",
    "int main(void){\n",
    "    printf(\"hello, world\");\n",
    "}\n",
    "\"\"\"\n",
    "write_and_compile()"
   ]
  },
  {
   "cell_type": "markdown",
   "metadata": {},
   "source": [
    "<img src=\"chapter-2-excersices/2.png\">"
   ]
  },
  {
   "cell_type": "code",
   "execution_count": null,
   "metadata": {},
   "outputs": [],
   "source": [
    "# directives: #include <stdio.h>\n",
    "# statements: printf, return\n",
    "c_program = \"\"\"\n",
    "#include <stdio.h>\n",
    "int main(void){\n",
    "    printf(\"Parkinson's Law:\\\\nWork expands so as to \");\n",
    "    printf(\"fill the time\\\\n\");\n",
    "    printf(\"available for its completion\\\\n\");\n",
    "    return 0;\n",
    "}\n",
    "\"\"\"\n",
    "write_and_compile()"
   ]
  },
  {
   "cell_type": "markdown",
   "metadata": {},
   "source": [
    "<img src=\"chapter-2-excersices/3.png\">"
   ]
  },
  {
   "cell_type": "code",
   "execution_count": null,
   "metadata": {},
   "outputs": [],
   "source": [
    "c_program = \"\"\"\n",
    "#include <stdio.h>\n",
    "int main(void){\n",
    "    int height = 8;\n",
    "    int length = 12;\n",
    "    int width = 10;\n",
    "    int volume = height * length * width;\n",
    "    printf(\"Dimensions: %dx%dx%d\\\\n\", length, width, height);\n",
    "    printf(\"Volume (cubic inches): %d\\\\n\", volume);\n",
    "    printf(\"Dimensional weight (pounds): %d\\\\n\", (volume + 165) / 166);\n",
    "    \n",
    "    return 0;\n",
    "}\n",
    "\"\"\"\n",
    "write_and_compile()"
   ]
  },
  {
   "cell_type": "markdown",
   "metadata": {},
   "source": [
    "<img src=\"chapter-2-excersices/4.png\">"
   ]
  },
  {
   "cell_type": "code",
   "execution_count": null,
   "metadata": {},
   "outputs": [],
   "source": [
    "c_program = \"\"\"\n",
    "#include <stdio.h>\n",
    "int main(void){\n",
    "    int int_1, int_2, int_3;\n",
    "    float f_1, f_2, f_3;\n",
    "    printf(\"%d      %d      %d\\\\n\", int_1, int_2, int_3);\n",
    "    printf(\"%f      %f      %f\\\\n\", f_1, f_2, f_3);\n",
    "    return 0;\n",
    "}\n",
    "\"\"\"\n",
    "write_and_compile()"
   ]
  },
  {
   "cell_type": "markdown",
   "metadata": {},
   "source": [
    "<img src=\"chapter-2-excersices/5.png\">"
   ]
  },
  {
   "cell_type": "markdown",
   "metadata": {},
   "source": [
    "# <font color='red'>a</font>"
   ]
  },
  {
   "cell_type": "markdown",
   "metadata": {},
   "source": [
    "<img src=\"chapter-2-excersices/6.png\">"
   ]
  },
  {
   "cell_type": "markdown",
   "metadata": {},
   "source": [
    "# <font color='red'>A- we need underscore to easy to understand variable name, and this is obtained by single under score, so we don'd need one more.</font>"
   ]
  },
  {
   "cell_type": "markdown",
   "metadata": {},
   "source": [
    "<img src=\"chapter-2-excersices/7.png\">"
   ]
  },
  {
   "cell_type": "markdown",
   "metadata": {},
   "source": [
    "# <font color='red'>a, b, e</font>"
   ]
  },
  {
   "cell_type": "markdown",
   "metadata": {},
   "source": [
    "<img src=\"chapter-2-excersices/8.png\">"
   ]
  },
  {
   "cell_type": "markdown",
   "metadata": {},
   "source": [
    "<img src=\"chapter-2-excersices/9.png\">"
   ]
  },
  {
   "cell_type": "markdown",
   "metadata": {},
   "source": [
    "<img src=\"chapter-2-excersices/10.png\">"
   ]
  },
  {
   "cell_type": "markdown",
   "metadata": {},
   "source": [
    "# <center><font color='red' size=15>Programming Projects</font><font size=4> Chapter 2</font>"
   ]
  },
  {
   "cell_type": "markdown",
   "metadata": {},
   "source": [
    "<img src=\"chapter-2-excersices/11.png\">"
   ]
  },
  {
   "cell_type": "code",
   "execution_count": null,
   "metadata": {},
   "outputs": [],
   "source": [
    "c_program = \"\"\"\n",
    "#include <stdio.h>\n",
    "int main(void){\n",
    "    char x='*';\n",
    "    printf(\"       %c\\\\n\", x);\n",
    "    printf(\"      %c\\\\n\", x);\n",
    "    printf(\"     %c\\\\n\", x);\n",
    "    printf(\"%c   %c\\\\n\", x, x);\n",
    "    printf(\" %c %c\\\\n\", x, x);\n",
    "    printf(\"  %c \\\\n\", x);\n",
    "    return 0;\n",
    "}\n",
    "\"\"\"\n",
    "write_and_compile()"
   ]
  },
  {
   "cell_type": "markdown",
   "metadata": {},
   "source": [
    "<img src=\"chapter-2-excersices/12.png\">"
   ]
  },
  {
   "cell_type": "code",
   "execution_count": null,
   "metadata": {},
   "outputs": [],
   "source": [
    "c_program = \"\"\"\n",
    "#include <stdio.h>\n",
    "int main(void){\n",
    "    int radius=10;\n",
    "    float pie=3.14;\n",
    "    float volume = (4.0f/3.0f)*pie*(radius*radius*radius);\n",
    "    printf(\"Volume: %f\\\\n\", volume);\n",
    "    return 0;\n",
    "}\n",
    "\"\"\"\n",
    "write_and_compile()"
   ]
  },
  {
   "cell_type": "markdown",
   "metadata": {},
   "source": [
    "<img src=\"chapter-2-excersices/13.png\">"
   ]
  },
  {
   "cell_type": "code",
   "execution_count": null,
   "metadata": {},
   "outputs": [],
   "source": [
    "# This program is ok, but we can't take user input here\n",
    "c_program = \"\"\"\n",
    "#include <stdio.h>\n",
    "int main(void){\n",
    "    int radius;\n",
    "    printf(\"Enter radius (in integer form)\\\\n\");\n",
    "    scanf(\"%d\", &radius);\n",
    "    float pie=3.14;\n",
    "    float volume = (4.0f/3.0f)*pie*(radius*radius*radius);\n",
    "    printf(\"Volume: %f\\\\n\", volume);\n",
    "    return 0;\n",
    "}\n",
    "\"\"\"\n",
    "write_and_compile()"
   ]
  },
  {
   "cell_type": "markdown",
   "metadata": {},
   "source": [
    "<img src=\"chapter-2-excersices/14.png\">"
   ]
  },
  {
   "cell_type": "code",
   "execution_count": null,
   "metadata": {},
   "outputs": [],
   "source": [
    "# This program is ok, but we can't take user input here\n",
    "c_program = \"\"\"\n",
    "#include <stdio.h>\n",
    "int main(void){\n",
    "    float amount;\n",
    "    float with_tax;\n",
    "    printf(\"Enter Amount\\n\");\n",
    "    scanf(\"%f\", &amount);\n",
    "    printf(\"With tax added: %f\\n\", amount * 1.05);\n",
    "    return 0;\n",
    "}\n",
    "\"\"\"\n",
    "write_and_compile()"
   ]
  },
  {
   "cell_type": "markdown",
   "metadata": {},
   "source": [
    "<img src=\"chapter-2-excersices/15.png\">"
   ]
  },
  {
   "cell_type": "code",
   "execution_count": null,
   "metadata": {},
   "outputs": [],
   "source": [
    "# This program is ok, but we can't take user input here\n",
    "c_program = \"\"\"\n",
    "#include <stdio.h>\n",
    "int main(void){\n",
    "    int x;\n",
    "    printf(\"Enter a number\\n\");\n",
    "    scanf(\"%d\", &x);\n",
    "    printf(\"Polynomial: %d\\n\", 3*(x*x*x*x*x)+ 2*(x*x*x*x) - 5*(x*x*x) - (x*x) + (7*x) -6);\n",
    "    return 0;\n",
    "}\n",
    "\"\"\"\n",
    "write_and_compile()"
   ]
  },
  {
   "cell_type": "markdown",
   "metadata": {},
   "source": [
    "<img src=\"chapter-2-excersices/16.png\">"
   ]
  },
  {
   "cell_type": "code",
   "execution_count": null,
   "metadata": {},
   "outputs": [],
   "source": [
    "# This program is ok, but we can't take user input here\n",
    "c_program = \"\"\"\n",
    "#include <stdio.h>\n",
    "int main(void){\n",
    "    int x;\n",
    "    printf(\"Enter a number\\n\");\n",
    "    scanf(\"%d\", &x);\n",
    "    printf(\"Polynomial: %d\\n\", ((((3*x + 2)*x-5)*x-1)*x+7)*x-6);\n",
    "    return 0;\n",
    "}\n",
    "\"\"\"\n",
    "write_and_compile()"
   ]
  },
  {
   "cell_type": "markdown",
   "metadata": {},
   "source": [
    "<img src=\"chapter-2-excersices/17.png\">\n",
    "<img src=\"chapter-2-excersices/18.png\">"
   ]
  },
  {
   "cell_type": "code",
   "execution_count": 34,
   "metadata": {},
   "outputs": [],
   "source": [
    "# This program is ok, but we can't take user input here\n",
    "c_program = \"\"\"\n",
    "#include <stdio.h>\n",
    "int main(void){\n",
    "    int dollers, twentys,balance, ten, five, one;\n",
    "    printf(\"Enter a number:       \");\n",
    "    scanf(\"%d\", &dollers);\n",
    "    twentys = (dollers - (dollers % 20)) / 20;\n",
    "    balance = dollers - (twentys * 20);\n",
    "    ten = (balance - (balance % 10)) / 10;\n",
    "    balance = balance - (ten * 10);\n",
    "    five = (balance - (balance % 5)) / 5;\n",
    "    balance = balance - (five * 5);\n",
    "    one = (balance - (balance % 1)) / 1;\n",
    "    balance = balance - (one * 1);\n",
    "    printf(\"$20 Bills:     %d\\n\", twentys);\n",
    "    printf(\"$10 Bills:     %d\\n\", ten);\n",
    "    printf(\"$5 Bills:     %d\\n\", five);\n",
    "    printf(\"$1 Bills:     %d\\n\", one);\n",
    "    return 0;\n",
    "}\n",
    "\"\"\"\n",
    "# write_and_compile()"
   ]
  },
  {
   "cell_type": "markdown",
   "metadata": {},
   "source": [
    "<img src=\"chapter-2-excersices/19.png\">"
   ]
  },
  {
   "cell_type": "code",
   "execution_count": null,
   "metadata": {},
   "outputs": [],
   "source": [
    "# This program is ok, but we can't take user input here\n",
    "c_program = \"\"\"\n",
    "#include <stdio.h>\n",
    "int main(void){\n",
    "    float loan, interest_rate, monthly_payment, f_m, s_m, t_m;\n",
    "    printf(\"Enter amount of loan:\\n\");\n",
    "    scanf(\"%f\", &loan);\n",
    "    printf(\"Enter interest rate:\\n\");\n",
    "    scanf(\"%f\", &interest_rate);\n",
    "    interest_rate = interest_rate/100/12;\n",
    "    printf(\"Enter monthly payment:\\n\");\n",
    "    scanf(\"%f\", &monthly_payment);\n",
    "    f_m = loan + (loan * interest_rate) - monthly_payment;\n",
    "    s_m = f_m + (f_m * interest_rate) - monthly_payment;\n",
    "    t_m = s_m + (s_m * interest_rate) - monthly_payment;\n",
    "    printf(\"Balance remaining after first payment: $%.2f\\n\", f_m);\n",
    "    printf(\"Balance remaining after second payment: $%.2f\\n\", s_m);\n",
    "    printf(\"Balance remaining after third payment: $%.2f\\n\", t_m);\n",
    "    return 0;\n",
    "}\n",
    "\"\"\"\n",
    "# write_and_compile()"
   ]
  },
  {
   "cell_type": "markdown",
   "metadata": {},
   "source": [
    "# <center><font color='red' size=15>Chapter 3</font>"
   ]
  },
  {
   "cell_type": "markdown",
   "metadata": {},
   "source": [
    "<img src=\"chapter-3-excersices/image1.png\">"
   ]
  },
  {
   "cell_type": "code",
   "execution_count": 39,
   "metadata": {},
   "outputs": [
    {
     "name": "stdout",
     "output_type": "stream",
     "text": [
      "    86, 1040\n",
      " 3.02530e+01\n",
      "83.1620\n",
      "1e-06 \n"
     ]
    }
   ],
   "source": [
    "# This program is ok, but we can't take user input here\n",
    "c_program = \"\"\"\n",
    "#include <stdio.h>\n",
    "int main(void){\n",
    "    printf(\"%6d, %4d\\\\n\", 86, 1040); // <    86, 1040> // pehly ki lenght 6 ho gi, to q k <86> me to srif 2 digits hen to 86 sy pehly 4 spaces aa jayen gy. or second me 4 digit print hon gy, q k 1040 me srif 4 hi digits hen to wo 4 hi pring ho gay \n",
    "    printf(\"%12.5e\\\\n\", 30.253);     // < 3.02530e+01> // total 12 elements pring ho gy, or 30.253 ko exponent kar k print karna h, jis me dot <.> k bar 5 desimals hon. ye total 11 elements hen, or hame 12 print karny hen to 1 while space starting me lag jay ga.\n",
    "    printf(\"%.4f\\\\n\", 83.162);       // <83.1620>      // float print ho ga, jis me point k baad 4 decimal hon gy, to extra <0> aakhar me lag gya.\n",
    "    printf(\"%-6.2g\\\\n\", .0000009979); \n",
    "    return 0;\n",
    "}\n",
    "\"\"\"\n",
    "write_and_compile()"
   ]
  },
  {
   "cell_type": "markdown",
   "metadata": {},
   "source": [
    "<img src=\"chapter-3-excersices/image2.png\">"
   ]
  },
  {
   "cell_type": "code",
   "execution_count": 66,
   "metadata": {},
   "outputs": [
    {
     "name": "stdout",
     "output_type": "stream",
     "text": [
      "a:----3.3e+00\n",
      "b:----3.252000e+00\n",
      "c:----   3.252\n",
      "d:----3       \n"
     ]
    }
   ],
   "source": [
    "c_program = \"\"\"\n",
    "#include <stdio.h>\n",
    "int main(void){\n",
    "    float x=3.252;\n",
    "    printf(\"%c:----%6.1e\\\\n\",'a', x);\n",
    "    printf(\"%c:----%-10.6e\\\\n\",'b', x);\n",
    "    printf(\"%c:----%8.3f\\\\n\", 'c',x);\n",
    "    printf(\"%c:----%-8.0f\\\\n\", 'd', x);\n",
    "    }\n",
    "\"\"\"\n",
    "write_and_compile()"
   ]
  },
  {
   "cell_type": "markdown",
   "metadata": {},
   "source": [
    "<img src=\"chapter-3-excersices/image3.png\">"
   ]
  },
  {
   "cell_type": "code",
   "execution_count": 78,
   "metadata": {},
   "outputs": [],
   "source": [
    "# all pairs are the same, except c, when we use space after <%f> the user should inter one more value\n",
    "# This program is ok, but we can't take user input here\n",
    "c_program = \"\"\"\n",
    "# include <stdio.h>\n",
    "int main(void){\n",
    "    int a1, a2, b11, b12, b13, b21, b22, b23;\n",
    "    float c1, c2, d11, d12, d21, d22;\n",
    "    printf(\"Enter an integer:     \");\n",
    "    scanf(\"%d\", &a1);\n",
    "    printf(\"Enter an integer:     \");\n",
    "    scanf(\" %d\", &a2);\n",
    "    if (a1 == a2)\n",
    "    {\n",
    "    \tprintf(\"Bothe are same\\n\\n\\n\");\n",
    "    }\n",
    "\t    printf(\"Enter 3 numbers saperated by minus-sign:        \");\n",
    "\t    scanf(\"%d-%d-%d\", &b11, &b12, &b13);\n",
    "\t\tprintf(\"Enter same previaus 3 numbers          :        \");\n",
    "\t    scanf(\"%d -%d -%d\", &b21, &b22, &b23);\n",
    "    if (b11 == b21 & b12 == b22 & b13 == b23)\n",
    "    {\n",
    "    \tprintf(\"All paires are same\\n\\n\\n\");\n",
    "    }\n",
    "    printf(\"Enter first float number :        \");\n",
    "    scanf(\"%f\", &c1);\n",
    "    printf(\"Enter second float number:        \");\n",
    "    scanf(\"%f \", &c2);\n",
    "    if (c1 == c2)\n",
    "    {\n",
    "    \tprintf(\"Both floats are same\\n\\n\\n\");\n",
    "    }\n",
    "    printf(\"Enter two floats, saperated by comma:           \");\n",
    "    scanf(\"%f,%f\", &d11, &d12);\n",
    "\tprintf(\"Please Repeat previaus two floats   :           \");\n",
    "    scanf(\"%f, %f\", &d21, &d22);\n",
    "    if (d11 == d21 & d12 == d22)\n",
    "    {\n",
    "    \tprintf(\"Boths pairs are same\");\n",
    "    }    \n",
    "\treturn 0;\n",
    "}\n",
    "\"\"\"\n",
    "# write_and_compile()"
   ]
  },
  {
   "cell_type": "markdown",
   "metadata": {},
   "source": [
    "<img src=\"chapter-3-excersices/image4.png\">"
   ]
  },
  {
   "cell_type": "code",
   "execution_count": null,
   "metadata": {},
   "outputs": [],
   "source": [
    "# we start from left, since first var is int, we assign 10 to <i> (since int can not contain floating \n",
    "# point).\n",
    "# in the next step we assign <.3> to x (sine float can not contain space).\n",
    "# in the last we assign 5 to j (since int can not cantain space).\n",
    "# now we have one more value but no variable which we assign that value, so our last value is lost)\n",
    "\n",
    "# This program is ok, but we can't take user input here\n",
    "c_program = \"\"\"\n",
    "# include <stdio.h>\n",
    "int main(void){\n",
    "    int i, j;\n",
    "    float x;\n",
    "    scanf(\"%d%f%d\", &i,&x,&j);\n",
    "    printf(\"%d\\n\", i);\n",
    "    printf(\"%f\\n\", x);\n",
    "    printf(\"%d\\n\", j);\n",
    "    return 0;\n",
    "}\n",
    "\"\"\"\n",
    "# write_and_compile()"
   ]
  },
  {
   "cell_type": "markdown",
   "metadata": {},
   "source": [
    "<img src=\"chapter-3-excersices/image5.png\">"
   ]
  },
  {
   "cell_type": "code",
   "execution_count": null,
   "metadata": {},
   "outputs": [],
   "source": [
    "# our first variable is float, so we assing it as much as possible values, beggining from left, <1> is can assing to float, we go further and found <2> so <12> can assign to float variable, next we find <.> which is also appropreate for float, next we find <3>, so float can contain <12.3> value, we go further and found white space, unfornutatily, float var can not cantain space, so we stop here and assing <12.3> value for our float variable which is x.\n",
    "# in the next step, we need to assing value for our int variable, so we begging with white space, since it is first value so we ignore it, and move further, the second value is <4> so int var can cantain <4>, we move further and foud <5>, so int var can cantain <45>, we move further and found <.>, unfornutaily int variable can not cantain <.> so we stop here, and assing <45> value to our int variable which is i.\n",
    "# in the last step, we have one variable which is float type, we assing it mush value as possible, so we beggin from <.>, so float can contain <.> (if we assing . to float, this means we assing it 0.00000), we move further and found <6> so float can contain <.6>, we move further and fount space, unfornutaly, float var can not cantrain white space, so we stop here, now have more values <789> but we dont have variable(s) to assing these values, so we stop here, and ignore these values.\n",
    "\n",
    "\n",
    "\n",
    "# This program is ok, but we can't take user input here\n",
    "c_program = \"\"\"\n",
    "# include <stdio.h>\n",
    "int main(void){\n",
    "    float x,y;\n",
    "    int i;\n",
    "    scanf(\"%f%d%f\",&x, &i, &y);\n",
    "    printf(\"\\nx: %f\\ni: %d\\ny: %f\\n\",x, i, y);\n",
    "    return 0;\n",
    "}\n",
    "\"\"\"\n",
    "# write_and_compile()"
   ]
  },
  {
   "cell_type": "markdown",
   "metadata": {},
   "source": [
    "<img src=\"chapter-3-excersices/image6.png\">"
   ]
  },
  {
   "cell_type": "code",
   "execution_count": 80,
   "metadata": {},
   "outputs": [],
   "source": [
    "# This program is ok, but we can't take user input here\n",
    "c_program = \"\"\"\n",
    "/* Adds two fractions */\n",
    "# include <stdio.h>\n",
    "int main(void){\n",
    "\tint num1, denom1, num2, denom2, result_num, result_denom;\n",
    "\tprintf(\"Enter first fraction: \");\n",
    "\tscanf(\"%d/%d\", &num1, &denom1); // in this line we change <\"%d/%d\"> to \"%d / %d\"; so user can enter space after slash.\n",
    "\n",
    "\tprintf(\"Enter second fraction: \");\n",
    "\tscanf(\"%d/%d\", &num2, &denom2); // in this line we change <\"%d/%d\"> to \"%d / %d\"; so user can enter space after slash.\n",
    " \n",
    "\tresult_num = num1 * denom2 + num2 * denom1;\n",
    "\tresult_denom = denom1 * denom2;\n",
    "\tprintf(\"The sum is %d/%d\\n\", result_num, result_denom);\n",
    "\treturn 0;\n",
    "}\"\"\"\n",
    "# write_and_compile()"
   ]
  },
  {
   "cell_type": "markdown",
   "metadata": {},
   "source": [
    "# <center><font color='red' size=15>Programming Projects</font><font size=4> Chapter 3</font>"
   ]
  },
  {
   "cell_type": "markdown",
   "metadata": {},
   "source": [
    "<img src=\"chapter-3-excersices/imagep1.png\">"
   ]
  },
  {
   "cell_type": "code",
   "execution_count": 81,
   "metadata": {},
   "outputs": [],
   "source": [
    "# This program is ok, but we can't take user input here\n",
    "c_program = \"\"\"\n",
    "# include <stdio.h>\n",
    "int main(void){\n",
    "\tint m,d,y;\n",
    "\tprintf(\"Enter a data(mm/dd/yyyy): \");\n",
    "\tscanf(\"%d/%d/%d\", &m, &d, &y);\n",
    "\tprintf(\"You entered the date %d0%d%d\", y,m,d);\n",
    "\treturn 0;\n",
    "}\n",
    "\"\"\"\n",
    "# write_and_compile()"
   ]
  },
  {
   "cell_type": "markdown",
   "metadata": {},
   "source": [
    "<img src=\"chapter-3-excersices/imagep2.png\">"
   ]
  },
  {
   "cell_type": "code",
   "execution_count": 82,
   "metadata": {},
   "outputs": [],
   "source": [
    "# This program is ok, but we can't take user input here\n",
    "c_program = \"\"\"\n",
    "# include <stdio.h>\n",
    "int main(void){\n",
    "\tint item_number, month, day, year;\n",
    "\tfloat unit_price;\n",
    "\tprintf(\"Enter item number: \\n\");\n",
    "\tscanf(\"%d\", &item_number);\n",
    "\tprintf(\"Enter unit price: \\n\");\n",
    "\tscanf(\"%f\", &unit_price);\n",
    "\tprintf(\"Enter purchse date(mm/dd/yyyy): \\n\");\n",
    "\tscanf(\"%d/%d/%d\", &month, &day, &year);\n",
    "\tprintf(\"\\n%-30s%-30s%-30s%14s%29s\", \"Item\", \"Unit\", \"Purchase\\n\", \"Price\", \"Date\");\n",
    "\tprintf(\"\\n%-30d$%-29.2f%d/%d/%d\\n\", item_number, unit_price, month, day, year);\n",
    "\treturn 0;\n",
    "}\n",
    "\"\"\"\n",
    "# write_and_compile()"
   ]
  },
  {
   "cell_type": "markdown",
   "metadata": {},
   "source": [
    "<img src=\"chapter-3-excersices/imagep3.png\">"
   ]
  },
  {
   "cell_type": "code",
   "execution_count": null,
   "metadata": {},
   "outputs": [],
   "source": [
    "# include <stdio.h>\n",
    "int main(void){\n",
    "\tint gsi, group, pub, item, check;\n",
    "\tprintf(\"Enter ISBN: \");\n",
    "\tscanf(\"%d-%d-%d-%d-%d\",&gsi, &group, &pub, &item, &check);\n",
    "\tprintf(\"GSI prefix: %d\\nGroup identifier: %d\\nPublisher code: %d\\nItem number: %d\\nCheck digit: %d\\n\", gsi, group, pub, item, check);\n",
    "\treturn 0;\n",
    "}"
   ]
  },
  {
   "cell_type": "markdown",
   "metadata": {},
   "source": [
    "<img src=\"chapter-3-excersices/imagep4.png\">"
   ]
  },
  {
   "cell_type": "code",
   "execution_count": null,
   "metadata": {},
   "outputs": [],
   "source": [
    "# include <stdio.h>\n",
    "int main(void){\n",
    "\tint a,b,c;\n",
    "\tprintf(\"Enter phone number [(xxx) xxx-xxxx]: \");\n",
    "\tscanf(\"(%d) %d-%d\", &a,&b,&c);\n",
    "\tprintf(\"You entered %d.%d.%d\\n\", a,b,c);\n",
    "\n",
    "\treturn 0;\n",
    "}"
   ]
  },
  {
   "cell_type": "markdown",
   "metadata": {},
   "source": [
    "<img src=\"chapter-3-excersices/imagep5.png\">\n",
    "<img src=\"chapter-3-excersices/imagep5_2.png\">"
   ]
  },
  {
   "cell_type": "code",
   "execution_count": null,
   "metadata": {},
   "outputs": [],
   "source": [
    "# include <stdio.h>\n",
    "int main(void){\n",
    "\tint a,b,c,d,e,f,g,h,i,j,k,l,m,n,o,p;\n",
    "\tscanf(\"%d%d%d%d%d%d%d%d%d%d%d%d%d%d%d%d\", &a,&b,&c,&d,&e,&f,&g,&h,&i,&j,&k,&l,&m,&n,&o,&p);\n",
    "\tprintf(\"\\n%-5d%-5d%-5d%-5d\\n\", a,b,c,d);\n",
    "\tprintf(\"%-5d%-5d%-5d%-5d\\n\", e,f,g,h);\n",
    "\tprintf(\"%-5d%-5d%-5d%-5d\\n\", i,j,k,l);\n",
    "\tprintf(\"%-5d%-5d%-5d%-5d\\n\", m,n,o,p);\n",
    "\tprintf(\"Row sums       : %d %d %d %d\\n\", a+b+c+d, e+f+g+h, i+j+k+l, m+n+o+p);\n",
    "\tprintf(\"Columns sums   : %d %d %d %d\\n\", a+e+i+m, b+f+j+n, c+g+k+o, d+h+l+p);\n",
    "\tprintf(\"Diagonal sums  : %d %d\", a+f+k+p, d+g+j+m);\n",
    "\treturn 0;\n",
    "}"
   ]
  },
  {
   "cell_type": "markdown",
   "metadata": {},
   "source": [
    "<img src=\"chapter-3-excersices/imagep6.png\">"
   ]
  },
  {
   "cell_type": "code",
   "execution_count": null,
   "metadata": {},
   "outputs": [],
   "source": [
    "# include <stdio.h>\n",
    "int main(void){\n",
    "\tint num1, denom1, num2, denom2, result_num, result_denom;\n",
    "\tprintf(\"Enter two fractions saparated by a plus sign: \");\n",
    "\tscanf(\"%d/%d%d/%d\", &num1, &denom1, &num2, &denom2);  \n",
    "\tresult_num = num1 * denom2 + num2 * denom1;\n",
    "\tresult_denom = denom1 * denom2;\n",
    "\tprintf(\"The sum is %d/%d\\n\", result_num, result_denom);\n",
    "\treturn 0;\n",
    "}"
   ]
  },
  {
   "cell_type": "markdown",
   "metadata": {},
   "source": [
    "# <center><font color='red' size=15>Chapter 4</font>"
   ]
  },
  {
   "cell_type": "markdown",
   "metadata": {},
   "source": [
    "<img src=\"chapter-4-excersices/image_1.png\">\n",
    "<img src=\"chapter-4-excersices/image_1-2.png\">"
   ]
  },
  {
   "cell_type": "code",
   "execution_count": 8,
   "metadata": {},
   "outputs": [
    {
     "name": "stdout",
     "output_type": "stream",
     "text": [
      "a:  1 2\n",
      "b:  0\n",
      "c:  1\n",
      "d:  0\n"
     ]
    }
   ],
   "source": [
    "c_program = \"\"\"\n",
    "# include <stdio.h>\n",
    "int main(void){\n",
    "\tint i,j,k;\n",
    "\t\n",
    "\ti = 5; j=3;\n",
    "\tprintf(\"a:  %d %d\\\\n\", i/j, \ti%j);\n",
    "    \n",
    "    i=2; j=3;\n",
    "    printf(\"b:  %d\\\\n\", (i+10)%j);\n",
    "    \n",
    "    i = 7; j=8, k=9;\n",
    "    printf(\"c:  %d\\\\n\", (i+10) % k/j);\n",
    "    \n",
    "    i=1; j=2, k=3;\n",
    "    printf(\"d:  %d\\\\n\", (i+5) % (j+2) / k);\n",
    "\treturn 0;\n",
    "}\"\"\"\n",
    "write_and_compile()"
   ]
  },
  {
   "cell_type": "markdown",
   "metadata": {},
   "source": [
    "<img src=\"chapter-4-excersices/image_2.png\">"
   ]
  },
  {
   "cell_type": "markdown",
   "metadata": {},
   "source": [
    "# <font color='red'>yes. same</font>"
   ]
  },
  {
   "cell_type": "markdown",
   "metadata": {},
   "source": [
    "<img src=\"chapter-4-excersices/image_3.png\">"
   ]
  },
  {
   "cell_type": "markdown",
   "metadata": {},
   "source": [
    "<img src=\"chapter-4-excersices/image_4.png\">"
   ]
  },
  {
   "cell_type": "markdown",
   "metadata": {},
   "source": [
    "# <font color='red'>a: 1</font>\n",
    "# <font color='red'>b: -1</font>\n",
    "# <font color='red'>c: -1</font>\n",
    "# <font color='red'>d: 1</font>"
   ]
  },
  {
   "cell_type": "markdown",
   "metadata": {},
   "source": [
    "<img src=\"chapter-4-excersices/image_5.png\">"
   ]
  },
  {
   "cell_type": "markdown",
   "metadata": {},
   "source": [
    "<img src=\"chapter-4-excersices/image_6.png\">"
   ]
  },
  {
   "cell_type": "markdown",
   "metadata": {},
   "source": [
    "# <font color='red'>a: 3</font>\n",
    "# <font color='red'>b: -3</font>\n",
    "# <font color='red'>c: 3</font>\n",
    "# <font color='red'>d: -3</font>"
   ]
  },
  {
   "cell_type": "markdown",
   "metadata": {},
   "source": [
    "<img src=\"chapter-4-excersices/image_7.png\">"
   ]
  },
  {
   "cell_type": "markdown",
   "metadata": {},
   "source": [
    "<img src=\"chapter-4-excersices/image_8.png\">"
   ]
  },
  {
   "cell_type": "markdown",
   "metadata": {},
   "source": [
    "<img src=\"chapter-4-excersices/image_9.png\">"
   ]
  },
  {
   "cell_type": "code",
   "execution_count": 22,
   "metadata": {},
   "outputs": [
    {
     "name": "stdout",
     "output_type": "stream",
     "text": [
      "a: 63 8\n",
      "b: 3 2 1\n",
      "c: 2 -1 3\n",
      "c: 0 0 0\n"
     ]
    }
   ],
   "source": [
    "c_program = \"\"\"\n",
    "#include <stdio.h>\n",
    "int main(void){\n",
    "    int i,j,k;\n",
    "    i=7; j=8;\n",
    "    i *= j + 1; // i *= (j + 1)\n",
    "    printf(\"a: %d %d\\\\n\", i,j);\n",
    "    i = j = k = 1;\n",
    "    i += j += k; // i += (j += k)\n",
    "    printf(\"b: %d %d %d\\\\n\", i,j,k);\n",
    "    i = 1; j = 2; k = 3;\n",
    "    i -= j -= k; // i -= (j -= k)\n",
    "    printf(\"c: %d %d %d\\\\n\", i,j,k);\n",
    "    i = 2; j = 1; k = 0;\n",
    "    i *= j *= k; // i *= (j *= k)\n",
    "    printf(\"c: %d %d %d\\\\n\", i,j,k);\n",
    "    return 0;\n",
    "}\n",
    "\"\"\"\n",
    "write_and_compile()\n",
    "# a: 63, 8\n",
    "# b: 3, 2, 1\n",
    "# c: 2, -1, 3 \n",
    "# d: 0, 0, 0"
   ]
  },
  {
   "cell_type": "markdown",
   "metadata": {},
   "source": [
    "<img src=\"chapter-4-excersices/image_10.png\">"
   ]
  },
  {
   "cell_type": "code",
   "execution_count": 20,
   "metadata": {},
   "outputs": [
    {
     "name": "stdout",
     "output_type": "stream",
     "text": [
      "a: 12 12\n",
      "b: 3 4\n",
      "c: 2 8\n",
      "d: 6 9\n"
     ]
    }
   ],
   "source": [
    "c_program = \"\"\"\n",
    "#include <stdio.h>\n",
    "int main(void){\n",
    "    int i, j;\n",
    "    i = 6; \n",
    "    j = i += i;\n",
    "    printf(\"a: %d %d\\\\n\", i, j);\n",
    "    i=5;\n",
    "    j = (i -=2) + 1;\n",
    "    printf(\"b: %d %d\\\\n\", i, j);\n",
    "    i = 7;\n",
    "    j = 6 + (i = 2.5);\n",
    "    printf(\"c: %d %d\\\\n\", i, j);\n",
    "    i = 2; j = 8;\n",
    "    j = (i = 6) + (j = 3);\n",
    "    printf(\"d: %d %d\\\\n\", i, j);\n",
    "    return 0;\n",
    "}\n",
    "\"\"\"\n",
    "write_and_compile()\n",
    "# a: 12, 12\n",
    "# b: 3, 4\n",
    "# c: 2, 8\n",
    "# d: 6, 9"
   ]
  },
  {
   "cell_type": "markdown",
   "metadata": {},
   "source": [
    "<img src=\"chapter-4-excersices/image_11.png\">"
   ]
  },
  {
   "cell_type": "code",
   "execution_count": 11,
   "metadata": {},
   "outputs": [
    {
     "name": "stdout",
     "output_type": "stream",
     "text": [
      "a: 0 \n",
      "a: 2\n",
      "b: 4 \n",
      "b: 11 6\n",
      "c: 0 \n",
      "c: 8 7\n",
      "d: 3\n",
      "d: 4 5 4\n"
     ]
    }
   ],
   "source": [
    "c_program = \"\"\"\n",
    "#include <stdio.h>\n",
    "int main(void){\n",
    "    int i,j,k;\n",
    "    i=1; \n",
    "    printf(\"a: %d \\\\n\", i++ - 1);\n",
    "    printf(\"a: %d\\\\n\", i);\n",
    "    i=10; j=5;\n",
    "    printf(\"b: %d \\\\n\", i++ - ++j);\n",
    "    printf(\"b: %d %d\\\\n\", i, j);\n",
    "    i=7; j=8;\n",
    "    printf(\"c: %d \\\\n\", i++ - --j);\n",
    "    printf(\"c: %d %d\\\\n\", i, j);\n",
    "    i=3; j=4; k=5;\n",
    "    printf(\"d: %d\\\\n\", i++ - j++ + --k);\n",
    "    printf(\"d: %d %d %d\\\\n\", i, j, k);\n",
    "    return 0;\n",
    "    }\n",
    "\"\"\"\n",
    "write_and_compile()\n",
    "# a: \n",
    "#     0, 2\n",
    "# b: \n",
    "#     4\n",
    "#     11, 6\n",
    "# c:\n",
    "#     0\n",
    "#     8,7\n",
    "# d:\n",
    "#     3\n",
    "#     4,5, 4    "
   ]
  },
  {
   "cell_type": "markdown",
   "metadata": {},
   "source": [
    "<img src=\"chapter-4-excersices/image_12.png\">"
   ]
  },
  {
   "cell_type": "code",
   "execution_count": 8,
   "metadata": {},
   "outputs": [
    {
     "name": "stdout",
     "output_type": "stream",
     "text": [
      "a: i=6 j=16\n",
      "b: i=6 j=-7\n",
      "c: i=6 j=23\n",
      "d: i=6 j=15\n"
     ]
    }
   ],
   "source": [
    "# a: i=6, j=16\n",
    "# b: i=6, j=-7\n",
    "# c: i=6, j=23\n",
    "# d: i=6, j=15\n",
    "c_program = \"\"\"\n",
    "#include <stdio.h>\n",
    "int main(void){\n",
    "    int i,j;\n",
    "    i=5; \n",
    "    j= ++i * 3 - 2; // j = (6 * 3) - 2\n",
    "    printf(\"a: i=%d j=%d\\\\n\", i, j);\n",
    "    i=5; \n",
    "    j= 3 - 2 * i++; // j = 3 - (2 * 5)\n",
    "    printf(\"b: i=%d j=%d\\\\n\", i, j);\n",
    "    i=7; \n",
    "    j= 3 * i-- + 2; // j = (3 * 7) + 2\n",
    "    printf(\"c: i=%d j=%d\\\\n\", i, j);\n",
    "    i=7; \n",
    "    j=3 + --i * 2; // j= 3 + (6 * 2)\n",
    "    printf(\"d: i=%d j=%d\\\\n\", i, j);\n",
    "}\n",
    "\"\"\"\n",
    "write_and_compile()"
   ]
  },
  {
   "cell_type": "markdown",
   "metadata": {},
   "source": [
    "<img src=\"chapter-4-excersices/image_13.png\">"
   ]
  },
  {
   "cell_type": "code",
   "execution_count": 4,
   "metadata": {},
   "outputs": [
    {
     "name": "stdout",
     "output_type": "stream",
     "text": [
      "5\n",
      "4\n"
     ]
    }
   ],
   "source": [
    "# ++1; in <i += 1> we immediatly change value of i, and it is the same in <++i>, and it is not the case in <i++>, in <i++> before executing the second command the value of <i> dos not increament.\n",
    "c_program = \"\"\"\n",
    "#include <stdio.h>\n",
    "int main(void){\n",
    "    int i=4;\n",
    "    printf(\"%d\\\\n\", ++i);\n",
    "    i = 4;\n",
    "    printf(\"%d\\\\n\", i++);\n",
    "    return 0;\n",
    "}\n",
    "\"\"\"\n",
    "write_and_compile()"
   ]
  },
  {
   "cell_type": "markdown",
   "metadata": {},
   "source": [
    "<img src=\"chapter-4-excersices/image_14.png\">\n",
    "<img src=\"chapter-4-excersices/image_14-2.png\">"
   ]
  },
  {
   "cell_type": "code",
   "execution_count": 23,
   "metadata": {},
   "outputs": [
    {
     "name": "stdout",
     "output_type": "stream",
     "text": [
      "-4.000000\n"
     ]
    }
   ],
   "source": [
    "c_program = \"\"\"\n",
    "#include <stdio.h>\n",
    "int main(void){\n",
    "    float a=5.0, b=2.0, c=3.0, d=6.0, e=4.0;\n",
    "    printf(\"%f\\\\n\", a * b - c * d + e);\n",
    "    return 0;\n",
    "}\n",
    "\"\"\"\n",
    "write_and_compile()\n",
    "# a: (a * b) - (c * d) + e\n",
    "# b: ((a / b) % c) / d\n",
    "# c: (- a) - b + c - + d\n",
    "# d: a * - b / c - d"
   ]
  },
  {
   "cell_type": "markdown",
   "metadata": {},
   "source": [
    "###### <img src=\"chapter-4-excersices/image_15.png\">"
   ]
  },
  {
   "cell_type": "code",
   "execution_count": 14,
   "metadata": {},
   "outputs": [
    {
     "name": "stdout",
     "output_type": "stream",
     "text": [
      "i1: 1, j1:2\n",
      "1 : 3\n",
      "i2: 3, j2:2\n",
      "2 : 3\n",
      "i3: 2, j3:2\n",
      "3 : 2\n",
      "i4: 2, j4:2\n",
      "4 : 2\n",
      "i5: 2, j5:3\n"
     ]
    }
   ],
   "source": [
    "c_program = \"\"\"\n",
    "#include <stdio.h>\n",
    "int main(void){\n",
    "    int i=1, j=2;\n",
    "    printf(\"i1: %d, j1:%d\\\\n\", i,j);\n",
    "    printf(\"1 : %d\\\\n\", i += j); // 1 += 2 : 3\n",
    "    printf(\"i2: %d, j2:%d\\\\n\", i,j);\n",
    "    printf(\"2 : %d\\\\n\", i--);    // 3\n",
    "    printf(\"i3: %d, j3:%d\\\\n\", i,j);\n",
    "    printf(\"3 : %d\\\\n\", i*j/i);  // 2*2/2\n",
    "    printf(\"i4: %d, j4:%d\\\\n\", i,j);\n",
    "    printf(\"4 : %d\\\\n\", i % ++j);// 2 % \n",
    "    printf(\"i5: %d, j5:%d\\\\n\", i,j);\n",
    "}\n",
    "\"\"\"\n",
    "write_and_compile()"
   ]
  },
  {
   "cell_type": "markdown",
   "metadata": {},
   "source": [
    "# <center><font color='red' size=15>Programming Projects</font><font size=4> Chapter 4</font>"
   ]
  },
  {
   "cell_type": "markdown",
   "metadata": {},
   "source": [
    "<img src=\"chapter-4-excersices/image_p_1.png\">"
   ]
  },
  {
   "cell_type": "code",
   "execution_count": null,
   "metadata": {},
   "outputs": [],
   "source": [
    "# include <stdio.h>\n",
    "int main(void){\n",
    "\tint deg;\n",
    "\tprintf(\"Enter a two-digit nuber: \");\n",
    "\tscanf(\"%d\", &deg);\n",
    "\tprintf(\"The reversal is        : %d%d\\n\", deg%10, deg/10);\n",
    "\treturn 0;\n",
    "}"
   ]
  },
  {
   "cell_type": "markdown",
   "metadata": {},
   "source": [
    "<img src=\"chapter-4-excersices/image_p_2.png\">"
   ]
  },
  {
   "cell_type": "code",
   "execution_count": null,
   "metadata": {},
   "outputs": [],
   "source": [
    "# include <stdio.h>\n",
    "int main(void){\n",
    "\tint deg;\n",
    "\tprintf(\"Enter a three-digit nuber: \");\n",
    "\tscanf(\"%d\", &deg);\n",
    "\tprintf(\"The reversal is        : %d%d%d\\n\", deg%10, (deg/10)%10, (deg/10)/10);\n",
    "\treturn 0;\n",
    "}"
   ]
  },
  {
   "cell_type": "markdown",
   "metadata": {},
   "source": [
    "<img src=\"chapter-4-excersices/image_p_3.png\">"
   ]
  },
  {
   "cell_type": "code",
   "execution_count": null,
   "metadata": {},
   "outputs": [],
   "source": [
    "# include <stdio.h>\n",
    "int main(void){\n",
    "\tint a,b,c;\n",
    "\tprintf(\"Enter a three-digit nuber: \");\n",
    "\tscanf(\"%1d%1d%1d\", &a, &b, &c);\n",
    "\tprintf(\"The reversal is          : %d%d%d\\n\", c,b,a);\n",
    "\treturn 0;\n",
    "}"
   ]
  },
  {
   "cell_type": "markdown",
   "metadata": {},
   "source": [
    "<img src=\"chapter-4-excersices/image_p_4.png\">"
   ]
  },
  {
   "cell_type": "code",
   "execution_count": null,
   "metadata": {},
   "outputs": [],
   "source": [
    "# include <stdio.h>\n",
    "int main(void){\n",
    "\tint a;\n",
    "\tprintf(\"Enter a number between 0 and 32767:     \");\n",
    "\tscanf(\"%d\", &a);\n",
    "\tprintf(\"In octal, your number is          :     0%o\\n\", a);\n",
    "\treturn 0;\n",
    "}"
   ]
  },
  {
   "cell_type": "markdown",
   "metadata": {},
   "source": [
    "<img src=\"chapter-4-excersices/image_p_5.png\">"
   ]
  },
  {
   "cell_type": "code",
   "execution_count": null,
   "metadata": {},
   "outputs": [],
   "source": [
    "# include <stdio.h>\n",
    "int main(void){\n",
    "\tint a,b,c,d,e,f,g,h,i,j,k, aa, bb, cc, dd, ee, ff;\n",
    "\tprintf(\"Enter the first 11 digits of a UPS: \");\n",
    "\tscanf(\"%1d%1d%1d%1d%1d%1d%1d%1d%1d%1d%1d\", &a,&b,&c,&d,&e,&f,&g,&h,&i,&j,&k);\n",
    "\taa = a+c+e+g+i+k;\n",
    "\tbb = b+d+f+h+j;\n",
    "\tcc = aa * 3 + bb;\n",
    "\tdd = cc - 1;\n",
    "\tee = dd % 10;\n",
    "\tff = 9 - ee;\n",
    "\tprintf(\"Check digit: %d\\n\", ff);\n",
    "\treturn 0;\n",
    "}"
   ]
  },
  {
   "cell_type": "markdown",
   "metadata": {},
   "source": [
    "<img src=\"chapter-4-excersices/image_p_6.png\">\n",
    "<img src=\"chapter-4-excersices/image_p_6-2.png\">"
   ]
  },
  {
   "cell_type": "code",
   "execution_count": null,
   "metadata": {},
   "outputs": [],
   "source": [
    "# include <stdio.h>\n",
    "int main(void){\n",
    "\tint a,b,c,d,e,f,g,h,i,j,k,l, aa, bb, cc, dd, ee, ff;\n",
    "\tprintf(\"Enter the first 12 digits of an EAN: \");\n",
    "\tscanf(\"%1d%1d%1d%1d%1d%1d%1d%1d%1d%1d%1d%1d\", &a,&b,&c,&d,&e,&f,&g,&h,&i,&j,&k, &l);\n",
    "\taa = a+c+e+g+i+k;\n",
    "\tbb = b+d+f+h+j+l;\n",
    "\tcc = bb * 3 + aa;\n",
    "\tdd = cc - 1;\n",
    "\tee = dd % 10;\n",
    "\tff = 9 - ee;\n",
    "\tprintf(\"Check digit: %d\\n\", ff);\n",
    "\treturn 0;\n",
    "}"
   ]
  },
  {
   "cell_type": "markdown",
   "metadata": {},
   "source": [
    "# <center><font color='red' size=15>Chapter 5</font>"
   ]
  },
  {
   "cell_type": "markdown",
   "metadata": {},
   "source": [
    "<img src=\"chapter-5-excersices/image_1.png\">"
   ]
  },
  {
   "cell_type": "code",
   "execution_count": 4,
   "metadata": {},
   "outputs": [
    {
     "name": "stdout",
     "output_type": "stream",
     "text": [
      "a: 1\n",
      "b: 1\n",
      "c: 1\n",
      "d: 0\n"
     ]
    }
   ],
   "source": [
    "c_program = \"\"\"\n",
    "#include <stdio.h>\n",
    "int main(void){\n",
    "\tint i, j, k;\n",
    "\ti = 2; j=3;\n",
    "\tk = i * j == 6;\n",
    "\tprintf(\"a: %d\\\\n\", k);\n",
    "\n",
    "\ti = 5; j = 10; k = 1;\n",
    "\tprintf(\"b: %d\\\\n\", k > i < j);\n",
    "\n",
    "\ti = 3; j = 3; k = 1;\n",
    "\tprintf(\"c: %d\\\\n\", i < j == j < k);\n",
    "\n",
    "\ti = 3; j = 4; k = 5;\n",
    "\tprintf(\"d: %d\\\\n\", i % j + i  < k);\n",
    "    return 0;\n",
    "}\n",
    "\"\"\"\n",
    "write_and_compile()\n",
    "# a: 1 ((i * j) == 6)         ==> ((2 * 3) == 6)       ==> 6 == 6\n",
    "# b: 1 ((k > i) < j)          ==> ((1 > 5) < 10)       ==> 0 < 10\n",
    "# c: 1 ((i < j) == (j < k))   ==> ((3 < 2) == (2 < 1)) ==> 0 == 0\n",
    "# d: 0 (((i % j) + 3) < k)    ==> (((3 % 4) + 3) < 5)  ==> (3 + 3) < 5"
   ]
  },
  {
   "cell_type": "markdown",
   "metadata": {},
   "source": [
    "<img src=\"chapter-5-excersices/image_2.png\">"
   ]
  },
  {
   "cell_type": "code",
   "execution_count": 2,
   "metadata": {},
   "outputs": [
    {
     "name": "stdout",
     "output_type": "stream",
     "text": [
      "a: 1\n",
      "b: 1\n",
      "c: 1\n",
      "d: 1\n"
     ]
    }
   ],
   "source": [
    "c_program = \"\"\"\n",
    "\n",
    "#include <stdio.h>\n",
    "int main(void){\n",
    "\tint i, j, k;\n",
    "\ti = 10; j = 5;\n",
    "\tprintf(\"a: %d\\\\n\", !i < j);\n",
    "\n",
    "\ti = 2; j = 1;\n",
    "\tprintf(\"b: %d\\\\n\", !!i + !j);\n",
    "\n",
    "\ti = 5; j = 0; k = -5;\n",
    "\tprintf(\"c: %d\\\\n\", i && j || k);\n",
    "\n",
    "\ti = 1; j = 2; k = 3;\n",
    "\tprintf(\"d: %d\\\\n\", i < j || k);\n",
    "    return 0;\n",
    "}\n",
    "\"\"\"\n",
    "write_and_compile()\n",
    "# a: 1         == !1 < 5           == 1 < 5 \n",
    "# b: 1         == !!1 + !1         == 1 + 0  \n",
    "# c: 1         == 1 && 0 || 1      == (True and False) or True\n",
    "# d: 1         == 1 < 2 || 1       == True or False"
   ]
  },
  {
   "cell_type": "markdown",
   "metadata": {},
   "source": [
    "<img src=\"chapter-5-excersices/image_3.png\">"
   ]
  },
  {
   "cell_type": "markdown",
   "metadata": {},
   "source": [
    "# below program i don't understand it"
   ]
  },
  {
   "cell_type": "code",
   "execution_count": 4,
   "metadata": {},
   "outputs": [
    {
     "name": "stdout",
     "output_type": "stream",
     "text": [
      "a: 1\n",
      "a: 3 4 5\n",
      "b: 0\n",
      "b: 7 8 9\n",
      "c: 1\n",
      "c: 8 8 9\n",
      "d: 1\n",
      "d: 2 1 1\n"
     ]
    }
   ],
   "source": [
    "c_program = \"\"\"\n",
    "#include <stdio.h>\n",
    "int main(void){\n",
    "\tint i, j, k;\n",
    "\ti = 3; j = 4; k = 5;\n",
    "\tprintf(\"a: %d\\\\n\", i < j || ++j < k);\n",
    "\tprintf(\"a: %d %d %d\\\\n\", i, j, k);\n",
    "\n",
    "\ti = 7; j = 8; k = 9;\n",
    "\tprintf(\"b: %d\\\\n\", i - 7 && j++ < k);\n",
    "\tprintf(\"b: %d %d %d\\\\n\", i, j, k);\n",
    "\n",
    "\ti = 7; j = 8; k = 9;\n",
    "\tprintf(\"c: %d\\\\n\", (i = j) || (j = k));\n",
    "\tprintf(\"c: %d %d %d\\\\n\", i, j, k);\n",
    "\n",
    "\ti = 1; j = 1; k = 1;\n",
    "\tprintf(\"d: %d\\\\n\", ++i || ++j && ++k);\n",
    "\tprintf(\"d: %d %d %d\\\\n\", i, j, k);\n",
    "\n",
    "\n",
    "    return 0;\n",
    "}\n",
    "\"\"\"\n",
    "write_and_compile()\n",
    "# a: 3 < 4 || (5 < 5) ==> True or False ==> True\n",
    "# a: 3 , 5, 5\n",
    "# b: 0 && (8 < 9)     ==> False and True ==> False\n",
    "# b: 7, 9, 9\n",
    "# c: 8 || 9           ==> True or True   ==> True\n",
    "# c: 8, 8, 9\n",
    "# d: 2 || 1 && 1      ==> True or True and True ==> True\n",
    "# d: "
   ]
  },
  {
   "cell_type": "markdown",
   "metadata": {},
   "source": [
    "<img src=\"chapter-5-excersices/image_4.png\">"
   ]
  },
  {
   "cell_type": "code",
   "execution_count": null,
   "metadata": {},
   "outputs": [],
   "source": [
    "# This program is ok, but we can't take user input here\n",
    "c_program = \"\"\"\n",
    "#include <stdio.h>\n",
    "int main(void){\n",
    "\tint i, j=5;\n",
    "\tprintf(\"Enter a number\\n\");\n",
    "\tscanf(\"%d\", &i);\n",
    "\tprintf(\"%d\\n\", i > j ? 1 : i < j ? -1 : 0);\n",
    "    return 0;\n",
    "}\n",
    "\"\"\"\n",
    "# write_and_compile()"
   ]
  },
  {
   "cell_type": "markdown",
   "metadata": {},
   "source": [
    "<img src=\"chapter-5-excersices/image_5.png\">"
   ]
  },
  {
   "cell_type": "markdown",
   "metadata": {},
   "source": [
    "### ok. and when n is 0, it still work, becouse here is OR condition, so first evelvate (n >= 1) and it return 0 (since n is 0, so condition is false), and then evalvate (0 <= 10) and this condition is true, so it is return 1; so when n is 0 we get 1."
   ]
  },
  {
   "cell_type": "code",
   "execution_count": 5,
   "metadata": {},
   "outputs": [
    {
     "name": "stdout",
     "output_type": "stream",
     "text": [
      "n is between 1 and 10\n"
     ]
    }
   ],
   "source": [
    "c_program = \"\"\"\n",
    "#include <stdio.h>\n",
    "int main(void){\n",
    "\tint n=0;\n",
    "\tif (n >= 1 <= 10)\n",
    "\t\tprintf(\"n is between 1 and 10\\\\n\");\n",
    "    return 0;\n",
    "}\n",
    "\"\"\"\n",
    "write_and_compile()"
   ]
  },
  {
   "cell_type": "markdown",
   "metadata": {},
   "source": [
    "<img src=\"chapter-5-excersices/image_6.png\">"
   ]
  },
  {
   "cell_type": "code",
   "execution_count": 16,
   "metadata": {},
   "outputs": [],
   "source": [
    "c_program = \"\"\"\n",
    "#include <stdio.h>\n",
    "int main(void){\n",
    "    int n=5;\n",
    "    if (n == 1-10)\n",
    "        printf(\"n is between 1 and 10\\\\n\");\n",
    "}\n",
    "\"\"\"\n",
    "write_and_compile()"
   ]
  },
  {
   "cell_type": "markdown",
   "metadata": {},
   "source": [
    "### this is legal syntax, but it is not word what we wish, so when n is 6, the condition still false, because it is actualy (5 == 1 - 10) and it is equal to (5 == (1 - 10)), hence it is true only when n is -9."
   ]
  },
  {
   "cell_type": "markdown",
   "metadata": {},
   "source": [
    "<img src=\"chapter-5-excersices/image_7.png\">"
   ]
  },
  {
   "cell_type": "markdown",
   "metadata": {},
   "source": [
    "### in both case the resul is 17, when i is 17; the condition is True and print i, which is 17, and when i is -17, the condition is False and print -i, which is 17. so we get 17 regardless sighn of i."
   ]
  },
  {
   "cell_type": "code",
   "execution_count": 18,
   "metadata": {},
   "outputs": [
    {
     "name": "stdout",
     "output_type": "stream",
     "text": [
      "n == 17: 17\n",
      "n == -17: 17\n"
     ]
    }
   ],
   "source": [
    "c_program = \"\"\"\n",
    "\n",
    "#include <stdio.h>\n",
    "int main(void){\n",
    "    int i=17;\n",
    "    printf(\"n == 17: %d\\\\n\", i >= 0 ? i : -i);\n",
    "    i = -17;\n",
    "    printf(\"n == -17: %d\\\\n\", i >= 0 ? i : -i);\n",
    "}\n",
    "\"\"\"\n",
    "write_and_compile()"
   ]
  },
  {
   "cell_type": "markdown",
   "metadata": {},
   "source": [
    "<img src=\"chapter-5-excersices/image_8.png\">"
   ]
  },
  {
   "cell_type": "code",
   "execution_count": null,
   "metadata": {},
   "outputs": [],
   "source": [
    "teenager = age >= 13 ? age < 19 : 1 ? 0 : age < 13 ? 0 : 0;"
   ]
  },
  {
   "cell_type": "markdown",
   "metadata": {},
   "source": [
    "<img src=\"chapter-5-excersices/image_9.png\">"
   ]
  },
  {
   "cell_type": "code",
   "execution_count": 25,
   "metadata": {},
   "outputs": [],
   "source": [
    "# equivalent\n",
    "\n",
    "\n",
    "# This program is ok, but we can't take user input here\n",
    "c_program = \"\"\"\n",
    "#include <stdio.h>\n",
    "int main(void){\n",
    "\tint score;\n",
    "\tscanf(\"%d\", &score);\n",
    "\tif (score >= 90)\n",
    "\t\tprintf(\"A\");\n",
    "\telse if (score >= 80)\n",
    "\t\tprintf(\"B\");\n",
    "\telse if (score >= 70)\n",
    "\t\tprintf(\"C\");\n",
    "\telse if (score >= 60)\n",
    "\t\tprintf(\"D\");\n",
    "\telse\n",
    "\t\tprintf(\"F\");\n",
    "\n",
    "\n",
    "\tif (score < 60)\n",
    "\t\tprintf(\"F\");\n",
    "\telse if (score < 70)\n",
    "\t\tprintf(\"D\");\n",
    "\telse if (score < 80)\n",
    "\t\tprintf(\"C\");\n",
    "\telse if (score < 90)\n",
    "\t\tprintf(\"B\");\n",
    "\telse\n",
    "\t\tprintf(\"A\");\n",
    "}\n",
    "\"\"\"\n",
    "# write_and_compile()"
   ]
  },
  {
   "cell_type": "markdown",
   "metadata": {},
   "source": [
    "# <center><font color='red' size=15>Programming Projects</font><font size=4> Chapter 5</font>"
   ]
  },
  {
   "cell_type": "markdown",
   "metadata": {},
   "source": [
    "<img src=\"chapter-5-excersices/image_p_1.png\">"
   ]
  },
  {
   "cell_type": "code",
   "execution_count": 3,
   "metadata": {},
   "outputs": [],
   "source": [
    "# This program is ok, but we can't take user input here\n",
    "c_program = \"\"\"\n",
    "#include <stdio.h>\n",
    "int main(void){\n",
    "\tint num; \n",
    "\tprintf(\"Enter a number: \\n\");\n",
    "\tscanf(\"%d\", &num);\n",
    "\tif (num >= 0 & num < 10)\n",
    "\t\tprintf(\"The number %d has 1 digit\\n\", num);\n",
    "\telse if (num < 100)\n",
    "\t\tprintf(\"The number %d has 2 digit\\n\", num);\n",
    "\telse if (num < 1000)\n",
    "\t\tprintf(\"The number %d has 3 digit\\n\", num);\n",
    "\telse if (num < 10000)\n",
    "\t\tprintf(\"The number %d has 4 digit\\n\", num);\n",
    "\telse\n",
    "\t\tprintf(\"Your number is smaller than 0, please Enter a number in range 0-10000\\n\");\n",
    "\t\treturn 0;\n",
    "\treturn 0;\n",
    "}\n",
    "\"\"\"\n",
    "\n",
    "# same program as above\n",
    "c_program = \"\"\"\n",
    "#include <stdio.h>\n",
    "int main(void){\n",
    "\tint num, n; \n",
    "\tprintf(\"Enter a number: \\n\");\n",
    "\tscanf(\"%d\", &num);\n",
    "\tn = (num >= 0 & num < 10) ? 1 : (num < 100) ? 2 : (num < 1000) ? 3 : (num < 10000) ? 4 : 50;\n",
    "\tif (n == 50)\n",
    "\t\tprintf(\"Your number is smaller than 0, please Enter a number in range 0-10000\\n\");\n",
    "\telse\n",
    "\t\tprintf(\"The number %d has %d digits\\n\", num, n);\n",
    "\treturn 0;\n",
    "}\n",
    "\"\"\"\n",
    "# write_and_compile()"
   ]
  },
  {
   "cell_type": "markdown",
   "metadata": {},
   "source": [
    "<img src=\"chapter-5-excersices/image_p_2.png\">"
   ]
  },
  {
   "cell_type": "code",
   "execution_count": 4,
   "metadata": {},
   "outputs": [],
   "source": [
    "# This program is ok, but we can't take user input here\n",
    "c_program = \"\"\"\n",
    "#include <stdio.h>\n",
    "#include <string.h>\n",
    "int main(void){\n",
    "\tint hour, mint, I2_hours;\n",
    "\tchar am_pm[2];\n",
    "\tprintf(\"Enter a 24-hour time [eg: 21:11]\\n\");\n",
    "\tscanf(\"%d:%d\", &hour, &mint);\n",
    "\tif (hour > 12) {\n",
    "\t\tI2_hours = hour - 12;\n",
    "\t\tstrcpy(am_pm, \"PM\");\n",
    "\t}\n",
    "\telse {\n",
    "\t\tI2_hours = hour;\n",
    "\t\tstrcpy(am_pm, \"AM\");\n",
    "\t}\n",
    "\tprintf(\"Equivalent 12-hour time: %d:%s %s\\n\", I2_hours, (mint == 00) ? \"00\" : \"00\", am_pm);\n",
    "\treturn 0;\n",
    "}\n",
    "\"\"\"\n",
    "# write_and_compile()"
   ]
  },
  {
   "cell_type": "markdown",
   "metadata": {},
   "source": [
    "<img src=\"chapter-5-excersices/image_p_3.png\">"
   ]
  },
  {
   "cell_type": "markdown",
   "metadata": {},
   "source": [
    "<img src=\"chapter-5-excersices/image_p_4.png\">"
   ]
  },
  {
   "cell_type": "code",
   "execution_count": 5,
   "metadata": {},
   "outputs": [],
   "source": [
    "# This program is ok, but we can't take user input here\n",
    "c_program = \"\"\"\n",
    "#include <stdio.h>\n",
    "int main(void){\n",
    "\tfloat speed;\n",
    "\tprintf(\"Enter wind speed (in knots):  \");\n",
    "\tscanf(\"%f\", &speed);\n",
    "\tprintf(\"\\n\\n\\nSpeed:       %.2f\\nDescription: %s\\n\", speed, speed < 1 ? \"Calm\" : speed <= 3 ? \"Light air\" : speed <= 27 ? \"Breeze\" : speed <= 47 ? \"Gale\" : speed <= 63 ? \"Strom\" : \"Hurricane\");\n",
    "\treturn 0;\n",
    "}\n",
    "\"\"\"\n",
    "# write_and_compile()"
   ]
  },
  {
   "cell_type": "markdown",
   "metadata": {},
   "source": [
    "<img src=\"chapter-5-excersices/image_p_5.png\">"
   ]
  },
  {
   "cell_type": "code",
   "execution_count": null,
   "metadata": {},
   "outputs": [],
   "source": [
    "# This program is ok, but we can't take user input here\n",
    "c_program = \"\"\"\n",
    "#include <stdio.h>\n",
    "int main(void){\n",
    "\tint income;\n",
    "\tfloat tax;\n",
    "\tprintf(\"Enter the amount of taxable income\\n\");\n",
    "\tscanf(\"%d\", &income);\n",
    "\tif (income <= 750)\n",
    "\t\ttax = income * 0.01;\n",
    "\telse if(income <= 2250)\n",
    "\t\ttax = 7.5 + (income - 750) * 0.02;\n",
    "\telse if (income <= 3750)\n",
    "\t\ttax = 37.5 + (income - 2250) * 0.03;\n",
    "\telse if (income <= 5250)\n",
    "\t\ttax = 82.5 + (income - 3750) * 0.04;\n",
    "\telse if (income <= 7000)\n",
    "\t\ttax = 142.5 + (income - 5250) * 0.05;\n",
    "\telse\n",
    "\t\ttax = 230 + (income - 7000) * 0.06;\n",
    "\tprintf(\"\\n\\nYour tax is %.2f\\n\", tax);\n",
    "\treturn 0;\n",
    "}\n",
    "\"\"\"\n",
    "# write_and_compile()"
   ]
  },
  {
   "cell_type": "markdown",
   "metadata": {},
   "source": [
    "<img src=\"chapter-5-excersices/image_p_6.png\">"
   ]
  },
  {
   "cell_type": "code",
   "execution_count": 6,
   "metadata": {},
   "outputs": [],
   "source": [
    "# This program is ok, but we can't take user input here\n",
    "c_program = \"\"\"\n",
    "/* computes a Universal Product check digit */\n",
    "#include <stdio.h>\n",
    "int main(void){\n",
    "\tint d, i1, i2, i3, i4, i5, j1, j2, j3, j4, j5,\n",
    "\tfirst_sum, second_sum, total, last_digit;\n",
    "\tprintf(\"Enter the first (single) digit: \\n\");\n",
    "\tscanf(\"%1d\", &d);\n",
    "\tprintf(\"Enter first group of five digits: \\n\");\n",
    "\tscanf(\"%1d%1d%1d%1d%1d\", &i1, &i2, &i3, &i4, &i5);\n",
    "\tprintf(\"Enter second group of five digits: \\n\");\n",
    "\tscanf(\"%1d%1d%1d%1d%1d\", &j1, &j2, &j3, &j4, &j5);\n",
    "\tprintf(\"Enter the last (Check) digit: \\n\");\n",
    "\tscanf(\"%1d\", &last_digit);\n",
    "\tfirst_sum = d + i2 + i4 + j1 + j3 + j5;\n",
    "\tsecond_sum = i1 + i3 + i5 + j2 + j4;\n",
    "\ttotal = 3 * first_sum + second_sum;\n",
    "\tprintf(\"%s\\n\", last_digit == 9- ((total -1) % 10) ? \"VALID\" : \"NOT VALID\");\n",
    "\treturn 0;\n",
    "}\n",
    "\"\"\"\n",
    "# write_and_compile()"
   ]
  },
  {
   "cell_type": "markdown",
   "metadata": {},
   "source": [
    "<img src=\"chapter-5-excersices/image_p_7.png\">"
   ]
  },
  {
   "cell_type": "code",
   "execution_count": null,
   "metadata": {},
   "outputs": [],
   "source": []
  },
  {
   "cell_type": "markdown",
   "metadata": {},
   "source": [
    "<img src=\"chapter-5-excersices/image_p_8.png\">"
   ]
  },
  {
   "cell_type": "markdown",
   "metadata": {},
   "source": [
    "<img src=\"chapter-5-excersices/image_p_8.2.png\">"
   ]
  },
  {
   "cell_type": "markdown",
   "metadata": {},
   "source": [
    "<img src=\"chapter-5-excersices/image_p_9.png\">"
   ]
  },
  {
   "cell_type": "markdown",
   "metadata": {},
   "source": [
    "<img src=\"chapter-5-excersices/image_p_10.png\">"
   ]
  },
  {
   "cell_type": "markdown",
   "metadata": {},
   "source": [
    "<img src=\"chapter-5-excersices/image_p_10.png\">"
   ]
  },
  {
   "cell_type": "code",
   "execution_count": null,
   "metadata": {},
   "outputs": [],
   "source": []
  },
  {
   "cell_type": "code",
   "execution_count": null,
   "metadata": {},
   "outputs": [],
   "source": []
  },
  {
   "cell_type": "code",
   "execution_count": null,
   "metadata": {},
   "outputs": [],
   "source": []
  }
 ],
 "metadata": {
  "kernelspec": {
   "display_name": "Python 3",
   "language": "python",
   "name": "python3"
  },
  "language_info": {
   "codemirror_mode": {
    "name": "ipython",
    "version": 3
   },
   "file_extension": ".py",
   "mimetype": "text/x-python",
   "name": "python",
   "nbconvert_exporter": "python",
   "pygments_lexer": "ipython3",
   "version": "3.6.7"
  }
 },
 "nbformat": 4,
 "nbformat_minor": 2
}
