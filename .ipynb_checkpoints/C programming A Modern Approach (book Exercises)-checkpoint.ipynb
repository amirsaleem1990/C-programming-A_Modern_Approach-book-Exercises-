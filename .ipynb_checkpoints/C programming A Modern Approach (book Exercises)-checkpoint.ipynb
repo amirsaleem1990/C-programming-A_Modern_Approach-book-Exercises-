{
 "cells": [
  {
   "cell_type": "code",
   "execution_count": 1,
   "metadata": {},
   "outputs": [],
   "source": [
    "def write_and_compile():\n",
    "    !rm -f c_program\n",
    "    with open('c_program.c', 'w') as file:\n",
    "        file.write(c_program)\n",
    "    !gcc -o c_program c_program.c\n",
    "    !./c_program"
   ]
  },
  {
   "cell_type": "markdown",
   "metadata": {},
   "source": [
    "# Q#1: "
   ]
  },
  {
   "cell_type": "code",
   "execution_count": null,
   "metadata": {},
   "outputs": [],
   "source": [
    "### create and run program:\n",
    "#include <stdio.h>\n",
    "# int main(void){\n",
    "#     printf(\"hello, world\\n\");\n",
    "# }\n",
    "# do you get a warning massage from the compiler? if so, what's need to make it go away"
   ]
  },
  {
   "cell_type": "code",
   "execution_count": null,
   "metadata": {},
   "outputs": [],
   "source": [
    "c_program = \"\"\"\n",
    "#include <stdio.h>\n",
    "int main(void){\n",
    "    printf(\"hello, world\\n\");\n",
    "}\n",
    "\"\"\"\n",
    "write_and_compile()"
   ]
  },
  {
   "cell_type": "code",
   "execution_count": null,
   "metadata": {},
   "outputs": [],
   "source": [
    "# The error becouse i use <\\n> in the string, which i can not do, se i have to remove this <\\n>\n",
    "c_program = \"\"\"\n",
    "#include <stdio.h>\n",
    "int main(void){\n",
    "    printf(\"hello, world\");\n",
    "}\n",
    "\"\"\"\n",
    "write_and_compile()"
   ]
  },
  {
   "cell_type": "markdown",
   "metadata": {},
   "source": [
    "<img src=\"chapter-2-excersices/2.png\">"
   ]
  },
  {
   "cell_type": "code",
   "execution_count": null,
   "metadata": {},
   "outputs": [],
   "source": [
    "# directives: #include <stdio.h>\n",
    "# statements: printf, return\n",
    "c_program = \"\"\"\n",
    "#include <stdio.h>\n",
    "int main(void){\n",
    "    printf(\"Parkinson's Law:\\\\nWork expands so as to \");\n",
    "    printf(\"fill the time\\\\n\");\n",
    "    printf(\"available for its completion\\\\n\");\n",
    "    return 0;\n",
    "}\n",
    "\"\"\"\n",
    "write_and_compile()"
   ]
  },
  {
   "cell_type": "markdown",
   "metadata": {},
   "source": [
    "<img src=\"chapter-2-excersices/3.png\">"
   ]
  },
  {
   "cell_type": "code",
   "execution_count": null,
   "metadata": {},
   "outputs": [],
   "source": [
    "c_program = \"\"\"\n",
    "#include <stdio.h>\n",
    "int main(void){\n",
    "    int height = 8;\n",
    "    int length = 12;\n",
    "    int width = 10;\n",
    "    int volume = height * length * width;\n",
    "    printf(\"Dimensions: %dx%dx%d\\\\n\", length, width, height);\n",
    "    printf(\"Volume (cubic inches): %d\\\\n\", volume);\n",
    "    printf(\"Dimensional weight (pounds): %d\\\\n\", (volume + 165) / 166);\n",
    "    \n",
    "    return 0;\n",
    "}\n",
    "\"\"\"\n",
    "write_and_compile()"
   ]
  },
  {
   "cell_type": "markdown",
   "metadata": {},
   "source": [
    "<img src=\"chapter-2-excersices/4.png\">"
   ]
  },
  {
   "cell_type": "code",
   "execution_count": null,
   "metadata": {},
   "outputs": [],
   "source": [
    "c_program = \"\"\"\n",
    "#include <stdio.h>\n",
    "int main(void){\n",
    "    int int_1, int_2, int_3;\n",
    "    float f_1, f_2, f_3;\n",
    "    printf(\"%d      %d      %d\\\\n\", int_1, int_2, int_3);\n",
    "    printf(\"%f      %f      %f\\\\n\", f_1, f_2, f_3);\n",
    "    return 0;\n",
    "}\n",
    "\"\"\"\n",
    "write_and_compile()"
   ]
  },
  {
   "cell_type": "markdown",
   "metadata": {},
   "source": [
    "<img src=\"chapter-2-excersices/5.png\">"
   ]
  },
  {
   "cell_type": "markdown",
   "metadata": {},
   "source": [
    "# <font color='red'>a</font>"
   ]
  },
  {
   "cell_type": "markdown",
   "metadata": {},
   "source": [
    "<img src=\"chapter-2-excersices/6.png\">"
   ]
  },
  {
   "cell_type": "markdown",
   "metadata": {},
   "source": [
    "# <font color='red'>A- we need underscore to easy to understand variable name, and this is obtained by single under score, so we don'd need one more.</font>"
   ]
  },
  {
   "cell_type": "markdown",
   "metadata": {},
   "source": [
    "<img src=\"chapter-2-excersices/7.png\">"
   ]
  },
  {
   "cell_type": "markdown",
   "metadata": {},
   "source": [
    "# <font color='red'>a, b, e</font>"
   ]
  },
  {
   "cell_type": "markdown",
   "metadata": {},
   "source": [
    "<img src=\"chapter-2-excersices/8.png\">"
   ]
  },
  {
   "cell_type": "markdown",
   "metadata": {},
   "source": [
    "<img src=\"chapter-2-excersices/9.png\">"
   ]
  },
  {
   "cell_type": "markdown",
   "metadata": {},
   "source": [
    "<img src=\"chapter-2-excersices/10.png\">"
   ]
  },
  {
   "cell_type": "markdown",
   "metadata": {},
   "source": [
    "# <center><font color='red' size=15>Programming Projects</font>"
   ]
  },
  {
   "cell_type": "markdown",
   "metadata": {},
   "source": [
    "<img src=\"chapter-2-excersices/11.png\">"
   ]
  },
  {
   "cell_type": "code",
   "execution_count": null,
   "metadata": {},
   "outputs": [],
   "source": [
    "c_program = \"\"\"\n",
    "#include <stdio.h>\n",
    "int main(void){\n",
    "    char x='*';\n",
    "    printf(\"       %c\\\\n\", x);\n",
    "    printf(\"      %c\\\\n\", x);\n",
    "    printf(\"     %c\\\\n\", x);\n",
    "    printf(\"%c   %c\\\\n\", x, x);\n",
    "    printf(\" %c %c\\\\n\", x, x);\n",
    "    printf(\"  %c \\\\n\", x);\n",
    "    return 0;\n",
    "}\n",
    "\"\"\"\n",
    "write_and_compile()"
   ]
  },
  {
   "cell_type": "markdown",
   "metadata": {},
   "source": [
    "<img src=\"chapter-2-excersices/12.png\">"
   ]
  },
  {
   "cell_type": "code",
   "execution_count": null,
   "metadata": {},
   "outputs": [],
   "source": [
    "c_program = \"\"\"\n",
    "#include <stdio.h>\n",
    "int main(void){\n",
    "    int radius=10;\n",
    "    float pie=3.14;\n",
    "    float volume = (4.0f/3.0f)*pie*(radius*radius*radius);\n",
    "    printf(\"Volume: %f\\\\n\", volume);\n",
    "    return 0;\n",
    "}\n",
    "\"\"\"\n",
    "write_and_compile()"
   ]
  },
  {
   "cell_type": "markdown",
   "metadata": {},
   "source": [
    "<img src=\"chapter-2-excersices/13.png\">"
   ]
  },
  {
   "cell_type": "code",
   "execution_count": null,
   "metadata": {},
   "outputs": [],
   "source": [
    "# This program is ok, but we can't take user input here\n",
    "c_program = \"\"\"\n",
    "#include <stdio.h>\n",
    "int main(void){\n",
    "    int radius;\n",
    "    printf(\"Enter radius (in integer form)\\\\n\");\n",
    "    scanf(\"%d\", &radius);\n",
    "    float pie=3.14;\n",
    "    float volume = (4.0f/3.0f)*pie*(radius*radius*radius);\n",
    "    printf(\"Volume: %f\\\\n\", volume);\n",
    "    return 0;\n",
    "}\n",
    "\"\"\"\n",
    "write_and_compile()"
   ]
  },
  {
   "cell_type": "markdown",
   "metadata": {},
   "source": [
    "<img src=\"chapter-2-excersices/14.png\">"
   ]
  },
  {
   "cell_type": "code",
   "execution_count": null,
   "metadata": {},
   "outputs": [],
   "source": [
    "# This program is ok, but we can't take user input here\n",
    "c_program = \"\"\"\n",
    "#include <stdio.h>\n",
    "int main(void){\n",
    "    float amount;\n",
    "    float with_tax;\n",
    "    printf(\"Enter Amount\\n\");\n",
    "    scanf(\"%f\", &amount);\n",
    "    printf(\"With tax added: %f\\n\", amount * 1.05);\n",
    "    return 0;\n",
    "}\n",
    "\"\"\"\n",
    "write_and_compile()"
   ]
  },
  {
   "cell_type": "markdown",
   "metadata": {},
   "source": [
    "<img src=\"chapter-2-excersices/15.png\">"
   ]
  },
  {
   "cell_type": "code",
   "execution_count": null,
   "metadata": {},
   "outputs": [],
   "source": [
    "# This program is ok, but we can't take user input here\n",
    "c_program = \"\"\"\n",
    "#include <stdio.h>\n",
    "int main(void){\n",
    "    int x;\n",
    "    printf(\"Enter a number\\n\");\n",
    "    scanf(\"%d\", &x);\n",
    "    printf(\"Polynomial: %d\\n\", 3*(x*x*x*x*x)+ 2*(x*x*x*x) - 5*(x*x*x) - (x*x) + (7*x) -6);\n",
    "    return 0;\n",
    "}\n",
    "\"\"\"\n",
    "write_and_compile()"
   ]
  },
  {
   "cell_type": "markdown",
   "metadata": {},
   "source": [
    "<img src=\"chapter-2-excersices/16.png\">"
   ]
  },
  {
   "cell_type": "code",
   "execution_count": null,
   "metadata": {},
   "outputs": [],
   "source": [
    "# This program is ok, but we can't take user input here\n",
    "c_program = \"\"\"\n",
    "#include <stdio.h>\n",
    "int main(void){\n",
    "    int x;\n",
    "    printf(\"Enter a number\\n\");\n",
    "    scanf(\"%d\", &x);\n",
    "    printf(\"Polynomial: %d\\n\", ((((3*x + 2)*x-5)*x-1)*x+7)*x-6);\n",
    "    return 0;\n",
    "}\n",
    "\"\"\"\n",
    "write_and_compile()"
   ]
  },
  {
   "cell_type": "markdown",
   "metadata": {},
   "source": [
    "<img src=\"chapter-2-excersices/17.png\">\n",
    "<img src=\"chapter-2-excersices/18.png\">"
   ]
  },
  {
   "cell_type": "code",
   "execution_count": 34,
   "metadata": {},
   "outputs": [],
   "source": [
    "# This program is ok, but we can't take user input here\n",
    "c_program = \"\"\"\n",
    "#include <stdio.h>\n",
    "int main(void){\n",
    "    int dollers, twentys,balance, ten, five, one;\n",
    "    printf(\"Enter a number:       \");\n",
    "    scanf(\"%d\", &dollers);\n",
    "    twentys = (dollers - (dollers % 20)) / 20;\n",
    "    balance = dollers - (twentys * 20);\n",
    "    ten = (balance - (balance % 10)) / 10;\n",
    "    balance = balance - (ten * 10);\n",
    "    five = (balance - (balance % 5)) / 5;\n",
    "    balance = balance - (five * 5);\n",
    "    one = (balance - (balance % 1)) / 1;\n",
    "    balance = balance - (one * 1);\n",
    "    printf(\"$20 Bills:     %d\\n\", twentys);\n",
    "    printf(\"$10 Bills:     %d\\n\", ten);\n",
    "    printf(\"$5 Bills:     %d\\n\", five);\n",
    "    printf(\"$1 Bills:     %d\\n\", one);\n",
    "    return 0;\n",
    "}\n",
    "\"\"\"\n",
    "# write_and_compile()"
   ]
  },
  {
   "cell_type": "markdown",
   "metadata": {},
   "source": [
    "<img src=\"chapter-2-excersices/19.png\">"
   ]
  },
  {
   "cell_type": "code",
   "execution_count": null,
   "metadata": {},
   "outputs": [],
   "source": [
    "# This program is ok, but we can't take user input here\n",
    "c_program = \"\"\"\n",
    "#include <stdio.h>\n",
    "int main(void){\n",
    "    float loan, interest_rate, monthly_payment, f_m, s_m, t_m;\n",
    "    printf(\"Enter amount of loan:\\n\");\n",
    "    scanf(\"%f\", &loan);\n",
    "    printf(\"Enter interest rate:\\n\");\n",
    "    scanf(\"%f\", &interest_rate);\n",
    "    interest_rate = interest_rate/100/12;\n",
    "    printf(\"Enter monthly payment:\\n\");\n",
    "    scanf(\"%f\", &monthly_payment);\n",
    "    f_m = loan + (loan * interest_rate) - monthly_payment;\n",
    "    s_m = f_m + (f_m * interest_rate) - monthly_payment;\n",
    "    t_m = s_m + (s_m * interest_rate) - monthly_payment;\n",
    "    printf(\"Balance remaining after first payment: $%.2f\\n\", f_m);\n",
    "    printf(\"Balance remaining after second payment: $%.2f\\n\", s_m);\n",
    "    printf(\"Balance remaining after third payment: $%.2f\\n\", t_m);\n",
    "    return 0;\n",
    "}\n",
    "\"\"\"\n",
    "# write_and_compile()"
   ]
  },
  {
   "cell_type": "markdown",
   "metadata": {},
   "source": [
    "# <center><font color='red' size=15>Chapter 3</font>"
   ]
  },
  {
   "cell_type": "markdown",
   "metadata": {},
   "source": [
    "<img src=\"chapter-3-excersices/image1.png\">"
   ]
  },
  {
   "cell_type": "code",
   "execution_count": 39,
   "metadata": {},
   "outputs": [
    {
     "name": "stdout",
     "output_type": "stream",
     "text": [
      "    86, 1040\r\n",
      " 3.02530e+01\r\n",
      "83.1620\r\n",
      "1e-06 \r\n"
     ]
    }
   ],
   "source": [
    "# This program is ok, but we can't take user input here\n",
    "c_program = \"\"\"\n",
    "#include <stdio.h>\n",
    "int main(void){\n",
    "    printf(\"%6d, %4d\\\\n\", 86, 1040); // <    86, 1040> // pehly ki lenght 6 ho gi, to q k <86> me to srif 2 digits hen to 86 sy pehly 4 spaces aa jayen gy. or second me 4 digit print hon gy, q k 1040 me srif 4 hi digits hen to wo 4 hi pring ho gay \n",
    "    printf(\"%12.5e\\\\n\", 30.253);     // < 3.02530e+01> // total 12 elements pring ho gy, or 30.253 ko exponent kar k print karna h, jis me dot <.> k bar 5 desimals hon. ye total 11 elements hen, or hame 12 print karny hen to 1 while space starting me lag jay ga.\n",
    "    printf(\"%.4f\\\\n\", 83.162);       // <83.1620>      // float print ho ga, jis me point k baad 4 decimal hon gy, to extra <0> aakhar me lag gya.\n",
    "    printf(\"%-6.2g\\\\n\", .0000009979); \n",
    "    return 0;\n",
    "}\n",
    "\"\"\"\n",
    "write_and_compile()"
   ]
  },
  {
   "cell_type": "markdown",
   "metadata": {},
   "source": [
    "<img src=\"chapter-3-excersices/image2.png\">"
   ]
  },
  {
   "cell_type": "code",
   "execution_count": 66,
   "metadata": {},
   "outputs": [
    {
     "name": "stdout",
     "output_type": "stream",
     "text": [
      "a:----3.3e+00\r\n",
      "b:----3.252000e+00\r\n",
      "c:----   3.252\r\n",
      "d:----3       \r\n"
     ]
    }
   ],
   "source": [
    "c_program = \"\"\"\n",
    "#include <stdio.h>\n",
    "int main(void){\n",
    "    float x=3.252;\n",
    "    printf(\"%c:----%6.1e\\\\n\",'a', x);\n",
    "    printf(\"%c:----%-10.6e\\\\n\",'b', x);\n",
    "    printf(\"%c:----%8.3f\\\\n\", 'c',x);\n",
    "    printf(\"%c:----%-8.0f\\\\n\", 'd', x);\n",
    "    }\n",
    "\"\"\"\n",
    "write_and_compile()"
   ]
  },
  {
   "cell_type": "markdown",
   "metadata": {},
   "source": [
    "<img src=\"chapter-3-excersices/image3.png\">"
   ]
  },
  {
   "cell_type": "code",
   "execution_count": 78,
   "metadata": {},
   "outputs": [],
   "source": [
    "# all pairs are the same, except c, when we use space after <%f> the user should inter one more value\n",
    "# This program is ok, but we can't take user input here\n",
    "c_program = \"\"\"\n",
    "# include <stdio.h>\n",
    "int main(void){\n",
    "    int a1, a2, b11, b12, b13, b21, b22, b23;\n",
    "    float c1, c2, d11, d12, d21, d22;\n",
    "    printf(\"Enter an integer:     \");\n",
    "    scanf(\"%d\", &a1);\n",
    "    printf(\"Enter an integer:     \");\n",
    "    scanf(\" %d\", &a2);\n",
    "    if (a1 == a2)\n",
    "    {\n",
    "    \tprintf(\"Bothe are same\\n\\n\\n\");\n",
    "    }\n",
    "\t    printf(\"Enter 3 numbers saperated by minus-sign:        \");\n",
    "\t    scanf(\"%d-%d-%d\", &b11, &b12, &b13);\n",
    "\t\tprintf(\"Enter same previaus 3 numbers          :        \");\n",
    "\t    scanf(\"%d -%d -%d\", &b21, &b22, &b23);\n",
    "    if (b11 == b21 & b12 == b22 & b13 == b23)\n",
    "    {\n",
    "    \tprintf(\"All paires are same\\n\\n\\n\");\n",
    "    }\n",
    "    printf(\"Enter first float number :        \");\n",
    "    scanf(\"%f\", &c1);\n",
    "    printf(\"Enter second float number:        \");\n",
    "    scanf(\"%f \", &c2);\n",
    "    if (c1 == c2)\n",
    "    {\n",
    "    \tprintf(\"Both floats are same\\n\\n\\n\");\n",
    "    }\n",
    "    printf(\"Enter two floats, saperated by comma:           \");\n",
    "    scanf(\"%f,%f\", &d11, &d12);\n",
    "\tprintf(\"Please Repeat previaus two floats   :           \");\n",
    "    scanf(\"%f, %f\", &d21, &d22);\n",
    "    if (d11 == d21 & d12 == d22)\n",
    "    {\n",
    "    \tprintf(\"Boths pairs are same\");\n",
    "    }    \n",
    "\treturn 0;\n",
    "}\n",
    "\"\"\"\n",
    "# write_and_compile()"
   ]
  },
  {
   "cell_type": "markdown",
   "metadata": {},
   "source": [
    "<img src=\"chapter-3-excersices/image4.png\">"
   ]
  },
  {
   "cell_type": "code",
   "execution_count": null,
   "metadata": {},
   "outputs": [],
   "source": [
    "# we start from left, since first var is int, we assign 10 to <i>, (since int can not contain floating point, in the next step we assign <.3> to x, sine float can not contain space, and in the last we assign 5 to j, since int can not cantain space, now we have one more value but no variable which we assign that value, so our last value is lost)\n",
    "# This program is ok, but we can't take user input here\n",
    "c_program = \"\"\"\n",
    "# include <stdio.h>\n",
    "int main(void){\n",
    "    int i, j;\n",
    "    float x;\n",
    "    scanf(\"%d%f%d\", &i,&x,&j);\n",
    "    printf(\"%d\\n\", i);\n",
    "    printf(\"%f\\n\", x);\n",
    "    printf(\"%d\\n\", j);\n",
    "    return 0;\n",
    "}\n",
    "\"\"\"\n",
    "# write_and_compile()"
   ]
  },
  {
   "cell_type": "markdown",
   "metadata": {},
   "source": [
    "<img src=\"chapter-3-excersices/image5.png\">"
   ]
  },
  {
   "cell_type": "markdown",
   "metadata": {},
   "source": [
    "<img src=\"chapter-3-excersices/image6.png\">"
   ]
  },
  {
   "cell_type": "markdown",
   "metadata": {},
   "source": [
    "# <center><font color='red' size=15>Programming Projects</font>"
   ]
  },
  {
   "cell_type": "markdown",
   "metadata": {},
   "source": [
    "<img src=\"chapter-3-excersices/imagep1.png\">"
   ]
  },
  {
   "cell_type": "markdown",
   "metadata": {},
   "source": [
    "<img src=\"chapter-3-excersices/imagep2.png\">"
   ]
  },
  {
   "cell_type": "markdown",
   "metadata": {},
   "source": [
    "<img src=\"chapter-3-excersices/imagep3.png\">"
   ]
  },
  {
   "cell_type": "markdown",
   "metadata": {},
   "source": [
    "<img src=\"chapter-3-excersices/imagep4.png\">"
   ]
  },
  {
   "cell_type": "markdown",
   "metadata": {},
   "source": [
    "<img src=\"chapter-3-excersices/imagep5.png\">\n",
    "<img src=\"chapter-3-excersices/imagep5_2.png\">"
   ]
  },
  {
   "cell_type": "markdown",
   "metadata": {},
   "source": [
    "<img src=\"chapter-3-excersices/imagep6.png\">"
   ]
  },
  {
   "cell_type": "code",
   "execution_count": null,
   "metadata": {},
   "outputs": [],
   "source": []
  },
  {
   "cell_type": "code",
   "execution_count": null,
   "metadata": {},
   "outputs": [],
   "source": []
  }
 ],
 "metadata": {
  "kernelspec": {
   "display_name": "Python 3",
   "language": "python",
   "name": "python3"
  },
  "language_info": {
   "codemirror_mode": {
    "name": "ipython",
    "version": 3
   },
   "file_extension": ".py",
   "mimetype": "text/x-python",
   "name": "python",
   "nbconvert_exporter": "python",
   "pygments_lexer": "ipython3",
   "version": "3.6.7"
  }
 },
 "nbformat": 4,
 "nbformat_minor": 2
}
